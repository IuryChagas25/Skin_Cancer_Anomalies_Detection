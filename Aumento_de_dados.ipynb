{
 "cells": [
  {
   "cell_type": "code",
   "execution_count": 1,
   "id": "e30ff0ab-3bf8-4b8d-a0fc-faa793b2860a",
   "metadata": {},
   "outputs": [],
   "source": [
    "import os                                # operational system para manipulação de arquivos.\n",
    "import cv2                               # opencv para manipulação de imagens.\n",
    "import random\n",
    "import numpy as np                       # numpy para manipulação de matrizes e arrays\n",
    "import matplotlib.pyplot as plt          # pyplot para plotagem de gráficos e imagens\n",
    "import zipfile                           # zipfile para lidar com arquivos compactados\n",
    "import urllib.request as url             # urllib para baixar arquivos via HTTPS\n",
    "from tensorflow.keras import layers      # módulo de camadas do keras\n",
    "from tensorflow.keras import callbacks   # módulo de callbacks do keras\n",
    "from tensorflow.keras import optimizers  # módulo de otimizadores do keras\n",
    "# classe de modelos sequenciais para construir as redes neurais\n",
    "from tensorflow.keras.models import Sequential   \n",
    "# classe de modelos sequenciais para construir as redes neurais\n",
    "from tensorflow.keras.applications import VGG16  \n",
    "\n",
    "# gerador de dados do keras, utilizado para carregar imagens em tempo de execução\n",
    "from tensorflow.keras.preprocessing.image import ImageDataGenerator, img_to_array, array_to_img, load_img\n",
    "# método para importar modelos gerados pelo tensorflow\n",
    "from tensorflow.keras.models import load_model\n",
    "import glob"
   ]
  },
  {
   "cell_type": "code",
   "execution_count": 28,
   "id": "f975fabd-cf32-49ca-97a6-b694263093f4",
   "metadata": {},
   "outputs": [],
   "source": [
    "from PIL import Image\n",
    "\n",
    "for filename in glob.glob('DR_train/DF/*.jpg'):\n",
    "    direct2 =  filename + '.png'\n",
    "    im1 = Image.open(filename)\n",
    "    im1.save(direct2)"
   ]
  },
  {
   "cell_type": "code",
   "execution_count": 2,
   "id": "2a48188c-1d1f-4b5d-9704-24f9c9fe7208",
   "metadata": {},
   "outputs": [],
   "source": [
    "train_datagen = ImageDataGenerator(\n",
    "    rescale = 1. / 255,        # normalizando as imagens\n",
    "    rotation_range = 45,       # Rotação aleatória de até 40°\n",
    "    width_shift_range = 0.2,   # Translação horizontal de até 20% da largura\n",
    "    height_shift_range = 0.2,  # Translação vertical de até 20% da altura\n",
    "    zoom_range = 0.2,          # Zoom aleatório de até 20%\n",
    "    shear_range = 0.1,         # Deformação de 10%\n",
    "    horizontal_flip = True,    # Espelhamento horizontal aleatório\n",
    "    vertical_flip = True,     # Espelhamento vertical aleatório\n",
    "    fill_mode = \"nearest\")     # Preenchimentod e buracos pelo pixel mais próximo\n",
    "\n",
    "#train_generator = train_datagen.flow_from_directory(os.path.join(\".\", \"DR_train\", \"DF\"),target_size = (250,250) ,class_mode = 'categorical')\n",
    "\n",
    "# Atributo do generator que fornece o número de amostras detectadas\n",
    "#train_samples = train_generator.samples \n",
    "#print(train_samples)\n",
    "#DR_train/DF"
   ]
  },
  {
   "cell_type": "markdown",
   "id": "3ba89f75-42b0-46c3-b84e-b31cb517b154",
   "metadata": {},
   "source": [
    "### Criando pastas para o aumento de dados - treino"
   ]
  },
  {
   "cell_type": "code",
   "execution_count": 4,
   "id": "25b21b26-9536-487a-8864-db9cffeba950",
   "metadata": {},
   "outputs": [],
   "source": [
    "labels = ['MEL', 'NV', 'BCC', 'AKIEC', 'BKL', 'DF', 'VASC']\n",
    "i = 0\n",
    "for class_name in labels:\n",
    "    i+=1\n",
    "    if not os.path.exists('DR_train/' + str(i) + 'augumentaded'):\n",
    "        os.mkdir('DR_train/' + str(class_name) + 'augumentaded')"
   ]
  },
  {
   "cell_type": "markdown",
   "id": "3cf8dede-3bbf-4e6d-a96f-9c1d70a00838",
   "metadata": {},
   "source": [
    "### Iniciando o aumento de dados com looping aninhados - treino"
   ]
  },
  {
   "cell_type": "code",
   "execution_count": 23,
   "id": "ce7338bb-8f08-46ad-b4f7-4788c56d2f3f",
   "metadata": {},
   "outputs": [],
   "source": [
    "labels = ['MEL', 'NV', 'BCC', 'AKIEC', 'BKL', 'DF', 'VASC']\n",
    "k = -1\n",
    "for class_name in labels:\n",
    "    k+=1\n",
    "    for filename in glob.glob('DR_train/Trainmodified/' + str(class_name) + 'modified/*.jpg'):\n",
    "        img =  load_img(filename)\n",
    "        x = img_to_array(img)\n",
    "        x = x.reshape((1,) + x.shape)\n",
    "        i = 0\n",
    "        for batch in train_datagen.flow(x, save_to_dir = 'DR_train/' + labels[k] + 'augumentaded' , save_prefix = 'Aug', save_format = '.jpg'):\n",
    "            i+=1\n",
    "            if(labels[k] == 'MEL'):\n",
    "                if(i >= 2):\n",
    "                    break\n",
    "            elif(labels[k] == 'NV'):\n",
    "                if(i >= 0):\n",
    "                    break\n",
    "            elif(labels[k] == 'BCC'):\n",
    "                if(i >= 4):\n",
    "                    break\n",
    "            elif(labels[k] == 'AKIEC'):\n",
    "                if(i >= 7):\n",
    "                    break\n",
    "            elif(labels[k] == 'BKL'):\n",
    "                if(i >= 2):\n",
    "                    break\n",
    "            elif(labels[k] == 'DF'):\n",
    "                if(i >= 20):\n",
    "                    break\n",
    "            elif(labels[k] == 'VASC'):\n",
    "                if(i >= 15):\n",
    "                    break"
   ]
  },
  {
   "cell_type": "markdown",
   "id": "af560d8a-c014-440e-a44b-065b5cbf8f05",
   "metadata": {},
   "source": [
    "### Criando pastas para o aumento de dados - teste"
   ]
  },
  {
   "cell_type": "code",
   "execution_count": 24,
   "id": "eac9294d-ca83-4e8e-8e88-a312d946527e",
   "metadata": {},
   "outputs": [],
   "source": [
    "labels = ['MEL', 'NV', 'BCC', 'AKIEC', 'BKL', 'DF', 'VASC']\n",
    "i = 0\n",
    "for class_name in labels:\n",
    "    i+=1\n",
    "    if not os.path.exists('DR_test/' + str(i) + 'augumentaded'):\n",
    "        os.mkdir('DR_test/' + str(class_name) + 'augumentaded')"
   ]
  },
  {
   "cell_type": "markdown",
   "id": "6a462c60-74fe-45de-ba55-a3a522d2c4ea",
   "metadata": {},
   "source": [
    "### Iniciando o aumento de dados com looping aninhados - teste"
   ]
  },
  {
   "cell_type": "code",
   "execution_count": 26,
   "id": "aa66618c-8f60-40d4-851d-2acc05445e6c",
   "metadata": {},
   "outputs": [],
   "source": [
    "labels = ['MEL', 'NV', 'BCC', 'AKIEC', 'BKL', 'DF', 'VASC']\n",
    "k = -1\n",
    "for class_name in labels:\n",
    "    k+=1\n",
    "    for filename in glob.glob('DR_test/' + str(class_name) + 'Testemodified/*.jpg'):\n",
    "        img =  load_img(filename)\n",
    "        x = img_to_array(img)\n",
    "        x = x.reshape((1,) + x.shape)\n",
    "        i = 0\n",
    "        for batch in train_datagen.flow(x, save_to_dir = 'DR_test/' + labels[k] + 'augumentaded' , save_prefix = 'Aug', save_format = '.jpg'):\n",
    "            i+=1\n",
    "            if(labels[k] == 'MEL'):\n",
    "                if(i >= 2):\n",
    "                    break\n",
    "            elif(labels[k] == 'NV'):\n",
    "                if(i >= 0):\n",
    "                    break\n",
    "            elif(labels[k] == 'BCC'):\n",
    "                if(i >= 4):\n",
    "                    break\n",
    "            elif(labels[k] == 'AKIEC'):\n",
    "                if(i >= 7):\n",
    "                    break\n",
    "            elif(labels[k] == 'BKL'):\n",
    "                if(i >= 2):\n",
    "                    break\n",
    "            elif(labels[k] == 'DF'):\n",
    "                if(i >= 20):\n",
    "                    break\n",
    "            elif(labels[k] == 'VASC'):\n",
    "                if(i >= 15):\n",
    "                    break"
   ]
  },
  {
   "cell_type": "markdown",
   "id": "bef21dc5-8ef0-4e77-ab4e-effed8aec796",
   "metadata": {},
   "source": [
    "### Criando pastas para o aumento de dados - validação"
   ]
  },
  {
   "cell_type": "code",
   "execution_count": 27,
   "id": "e7f7d347-38eb-4e44-a4ad-37b51e4dc6b7",
   "metadata": {},
   "outputs": [],
   "source": [
    "labels = ['MEL', 'NV', 'BCC', 'AKIEC', 'BKL', 'DF', 'VASC']\n",
    "i = 0\n",
    "for class_name in labels:\n",
    "    i+=1\n",
    "    if not os.path.exists('DR_validation/' + str(i) + 'augumentaded'):\n",
    "        os.mkdir('DR_validation/' + str(class_name) + 'augumentaded')"
   ]
  },
  {
   "cell_type": "markdown",
   "id": "05112fd2-c659-4fd7-bbe4-65c1e5e238aa",
   "metadata": {},
   "source": [
    "### Iniciando o aumento de dados com looping aninhados - validação"
   ]
  },
  {
   "cell_type": "code",
   "execution_count": 28,
   "id": "41da2893-61a7-48c4-b59c-70593ce7bad9",
   "metadata": {},
   "outputs": [],
   "source": [
    "labels = ['MEL', 'NV', 'BCC', 'AKIEC', 'BKL', 'DF', 'VASC']\n",
    "k = -1\n",
    "for class_name in labels:\n",
    "    k+=1\n",
    "    for filename in glob.glob('DR_validation/' + str(class_name) + 'Validmodified/*.jpg'):\n",
    "        img =  load_img(filename)\n",
    "        x = img_to_array(img)\n",
    "        x = x.reshape((1,) + x.shape)\n",
    "        i = 0\n",
    "        for batch in train_datagen.flow(x, save_to_dir = 'DR_validation/' + labels[k] + 'augumentaded' , save_prefix = 'Aug', save_format = '.jpg'):\n",
    "            i+=1\n",
    "            if(labels[k] == 'MEL'):\n",
    "                if(i >= 2):\n",
    "                    break\n",
    "            elif(labels[k] == 'NV'):\n",
    "                if(i >= 0):\n",
    "                    break\n",
    "            elif(labels[k] == 'BCC'):\n",
    "                if(i >= 4):\n",
    "                    break\n",
    "            elif(labels[k] == 'AKIEC'):\n",
    "                if(i >= 7):\n",
    "                    break\n",
    "            elif(labels[k] == 'BKL'):\n",
    "                if(i >= 2):\n",
    "                    break\n",
    "            elif(labels[k] == 'DF'):\n",
    "                if(i >= 20):\n",
    "                    break\n",
    "            elif(labels[k] == 'VASC'):\n",
    "                if(i >= 15):\n",
    "                    break"
   ]
  },
  {
   "cell_type": "code",
   "execution_count": 60,
   "id": "d0e52173-a6d6-4dec-83e0-cc453d477632",
   "metadata": {},
   "outputs": [
    {
     "name": "stdout",
     "output_type": "stream",
     "text": [
      "Found 530 images belonging to 7 classes.\n"
     ]
    }
   ],
   "source": [
    "val_datagen   = ImageDataGenerator( rescale = 1./255 )\n",
    "val_generator = val_datagen.flow_from_directory(\"DR_validation/DR_validation_aumentada\", target_size = (250, 250),\n",
    "                                                 batch_size  = 64)"
   ]
  },
  {
   "cell_type": "code",
   "execution_count": 61,
   "id": "a3a3a5b5-1e80-469f-8463-1b563722bc5a",
   "metadata": {},
   "outputs": [
    {
     "data": {
      "text/plain": [
       "Counter({0: 76, 1: 64, 2: 68, 3: 100, 4: 50, 5: 157, 6: 15})"
      ]
     },
     "execution_count": 61,
     "metadata": {},
     "output_type": "execute_result"
    }
   ],
   "source": [
    "from collections import Counter\n",
    "\n",
    "counter = Counter(val_generator.classes)\n",
    "counter"
   ]
  },
  {
   "cell_type": "code",
   "execution_count": 62,
   "id": "042f21c2-6d21-4022-a441-e102ac49806e",
   "metadata": {},
   "outputs": [
    {
     "name": "stdout",
     "output_type": "stream",
     "text": [
      "Mapeamento Classes -> Índices: {'AKIECaugumentaded': 0, 'BCCaugumentaded': 1, 'BKLaugumentaded': 2, 'DFaugumentaded': 3, 'MELaugumentaded': 4, 'NVaugumentaded': 5, 'VASCaugumentaded': 6}\n"
     ]
    }
   ],
   "source": [
    "class_to_idx_dict = val_generator.class_indices\n",
    "print( \"Mapeamento Classes -> Índices:\", class_to_idx_dict )"
   ]
  },
  {
   "cell_type": "code",
   "execution_count": 63,
   "id": "aa7db95f-92cb-4fa9-aec8-7523e912b5ea",
   "metadata": {},
   "outputs": [
    {
     "data": {
      "image/png": "[encoded data removed]",
      "text/plain": [
       "<Figure size 1080x720 with 1 Axes>"
      ]
     },
     "metadata": {
      "needs_background": "light"
     },
     "output_type": "display_data"
    }
   ],
   "source": [
    "lista = {'AKIEC': 0, 'BCC': 1, 'BKL': 2, 'DF': 3, 'MEL': 4, 'NV': 5, 'VASC': 6}\n",
    "\n",
    "classes = list(lista)\n",
    "values = list(counter.values())\n",
    "  \n",
    "fig = plt.figure(figsize = (15, 10))\n",
    " \n",
    "# creating the bar plot\n",
    "plt.bar(classes, values, color ='red',\n",
    "        width = 0.3)\n",
    " \n",
    "plt.xlabel(\"Classes\")\n",
    "plt.ylabel(\"Número de representações\")\n",
    "plt.title(\"Numero de representações por cada classe - Validação\")\n",
    "plt.show()"
   ]
  },
  {
   "cell_type": "code",
   "execution_count": 64,
   "id": "097d1298-808b-43ba-b523-27ec28c2347d",
   "metadata": {},
   "outputs": [
    {
     "name": "stdout",
     "output_type": "stream",
     "text": [
      "Found 13967 images belonging to 7 classes.\n"
     ]
    }
   ],
   "source": [
    "val_datagen   = ImageDataGenerator( rescale = 1./255 )\n",
    "val_generator = val_datagen.flow_from_directory(\"DR_train/DR_train_aumentada\", target_size = (250, 250),\n",
    "                                                 batch_size  = 64)"
   ]
  },
  {
   "cell_type": "code",
   "execution_count": 65,
   "id": "0b57fb8f-8166-41c5-b6ae-9dbab3ed84cd",
   "metadata": {},
   "outputs": [
    {
     "data": {
      "text/plain": [
       "Counter({0: 2059, 1: 1854, 2: 1972, 3: 2049, 4: 2012, 5: 2100, 6: 1921})"
      ]
     },
     "execution_count": 65,
     "metadata": {},
     "output_type": "execute_result"
    }
   ],
   "source": [
    "counter = Counter(val_generator.classes)\n",
    "counter"
   ]
  },
  {
   "cell_type": "code",
   "execution_count": 66,
   "id": "49009b3d-26b7-4bed-ad6e-3865db239de6",
   "metadata": {},
   "outputs": [
    {
     "name": "stdout",
     "output_type": "stream",
     "text": [
      "Mapeamento Classes -> Índices: {'AKIECaugumentaded': 0, 'BCCaugumentaded': 1, 'BKLaugumentaded': 2, 'DFaugumentaded': 3, 'MELaugumentaded': 4, 'NVaugumentaded': 5, 'VASCaugumentaded': 6}\n"
     ]
    }
   ],
   "source": [
    "class_to_idx_dict = val_generator.class_indices\n",
    "print( \"Mapeamento Classes -> Índices:\", class_to_idx_dict )"
   ]
  },
  {
   "cell_type": "code",
   "execution_count": 67,
   "id": "ae7cee3f-5c6b-4568-8973-0f9f9d8eff8f",
   "metadata": {},
   "outputs": [
    {
     "data": {
      "image/png": "[encoded data removed]",
      "text/plain": [
       "<Figure size 1080x720 with 1 Axes>"
      ]
     },
     "metadata": {
      "needs_background": "light"
     },
     "output_type": "display_data"
    }
   ],
   "source": [
    "lista = {'AKIEC': 0, 'BCC': 1, 'BKL': 2, 'DF': 3, 'MEL': 4, 'NV': 5, 'VASC': 6}\n",
    "\n",
    "classes = list(lista)\n",
    "values = list(counter.values())\n",
    "  \n",
    "fig = plt.figure(figsize = (15, 10))\n",
    " \n",
    "# creating the bar plot\n",
    "plt.bar(classes, values, color ='red',\n",
    "        width = 0.3)\n",
    " \n",
    "plt.xlabel(\"Classes\")\n",
    "plt.ylabel(\"Número de representações\")\n",
    "plt.title(\"Numero de representações por cada classe - Treino\")\n",
    "plt.show()"
   ]
  },
  {
   "cell_type": "code",
   "execution_count": 68,
   "id": "8a452cb1-c7ac-455b-9947-dadccf5209a8",
   "metadata": {},
   "outputs": [
    {
     "name": "stdout",
     "output_type": "stream",
     "text": [
      "Found 482 images belonging to 7 classes.\n"
     ]
    }
   ],
   "source": [
    "val_datagen   = ImageDataGenerator( rescale = 1./255 )\n",
    "val_generator = val_datagen.flow_from_directory(\"DR_test/DR_test_aumentada\", target_size = (250, 250),\n",
    "                                                 batch_size  = 64)"
   ]
  },
  {
   "cell_type": "code",
   "execution_count": 69,
   "id": "a0ba6dd1-b4ae-4c83-b319-a41ee3a19dc0",
   "metadata": {},
   "outputs": [
    {
     "data": {
      "text/plain": [
       "Counter({0: 49, 1: 39, 2: 59, 3: 59, 4: 70, 5: 161, 6: 45})"
      ]
     },
     "execution_count": 69,
     "metadata": {},
     "output_type": "execute_result"
    }
   ],
   "source": [
    "counter = Counter(val_generator.classes)\n",
    "counter"
   ]
  },
  {
   "cell_type": "code",
   "execution_count": 70,
   "id": "1a68dd0e-199f-4036-828c-11a0a88ae659",
   "metadata": {},
   "outputs": [
    {
     "data": {
      "image/png": "[encoded data removed]",
      "text/plain": [
       "<Figure size 1080x720 with 1 Axes>"
      ]
     },
     "metadata": {
      "needs_background": "light"
     },
     "output_type": "display_data"
    }
   ],
   "source": [
    "lista = {'AKIEC': 0, 'BCC': 1, 'BKL': 2, 'DF': 3, 'MEL': 4, 'NV': 5, 'VASC': 6}\n",
    "\n",
    "classes = list(lista)\n",
    "values = list(counter.values())\n",
    "  \n",
    "fig = plt.figure(figsize = (15, 10))\n",
    " \n",
    "# creating the bar plot\n",
    "plt.bar(classes, values, color ='red',\n",
    "        width = 0.3)\n",
    " \n",
    "plt.xlabel(\"Classes\")\n",
    "plt.ylabel(\"Número de representações\")\n",
    "plt.title(\"Numero de representações por cada classe - Teste\")\n",
    "plt.show()"
   ]
  },
  {
   "cell_type": "code",
   "execution_count": null,
   "id": "3b39cdab-7e3c-42c7-858b-0e57fd922313",
   "metadata": {},
   "outputs": [],
   "source": []
  }
 ],
 "metadata": {
  "kernelspec": {
   "display_name": "Python 3 (ipykernel)",
   "language": "python",
   "name": "python3"
  },
  "language_info": {
   "codemirror_mode": {
    "name": "ipython",
    "version": 3
   },
   "file_extension": ".py",
   "mimetype": "text/x-python",
   "name": "python",
   "nbconvert_exporter": "python",
   "pygments_lexer": "ipython3",
   "version": "3.9.7"
  }
 },
 "nbformat": 4,
 "nbformat_minor": 5
}
