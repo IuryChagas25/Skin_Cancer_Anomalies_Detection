{
 "cells": [
  {
   "cell_type": "code",
   "execution_count": 10,
   "id": "2b0f1406",
   "metadata": {},
   "outputs": [],
   "source": [
    "import pandas as pd \n",
    "import numpy as np\n",
    "import matplotlib.pyplot as plt\n"
   ]
  },
  {
   "cell_type": "code",
   "execution_count": 11,
   "id": "13375875",
   "metadata": {},
   "outputs": [],
   "source": [
    "import tensorflow as tf\n",
    "from tensorflow import keras\n",
    "from tensorflow.keras import backend as K\n",
    "from tensorflow.keras.layers import Dense, Activation,Dropout,Conv2D, MaxPooling2D,BatchNormalization, Flatten\n",
    "from tensorflow.keras.optimizers import Adam, Adamax\n",
    "from tensorflow.keras.metrics import categorical_crossentropy\n",
    "from tensorflow.keras import regularizers\n",
    "from tensorflow.keras.preprocessing.image import ImageDataGenerator\n",
    "from tensorflow.keras.models import Model, load_model, Sequential\n",
    "from sklearn.model_selection import train_test_split"
   ]
  },
  {
   "cell_type": "code",
   "execution_count": 12,
   "id": "df285464",
   "metadata": {},
   "outputs": [],
   "source": [
    "df = pd.read_csv('GroundTruth.csv', header=0 ) #importando o arquivo e especificando o cabeçalho"
   ]
  },
  {
   "cell_type": "code",
   "execution_count": 4,
   "id": "d1a26280",
   "metadata": {},
   "outputs": [
    {
     "data": {
      "text/html": [
       "<div>\n",
       "<style scoped>\n",
       "    .dataframe tbody tr th:only-of-type {\n",
       "        vertical-align: middle;\n",
       "    }\n",
       "\n",
       "    .dataframe tbody tr th {\n",
       "        vertical-align: top;\n",
       "    }\n",
       "\n",
       "    .dataframe thead th {\n",
       "        text-align: right;\n",
       "    }\n",
       "</style>\n",
       "<table border=\"1\" class=\"dataframe\">\n",
       "  <thead>\n",
       "    <tr style=\"text-align: right;\">\n",
       "      <th></th>\n",
       "      <th>image</th>\n",
       "      <th>MEL</th>\n",
       "      <th>NV</th>\n",
       "      <th>BCC</th>\n",
       "      <th>AKIEC</th>\n",
       "      <th>BKL</th>\n",
       "      <th>DF</th>\n",
       "      <th>VASC</th>\n",
       "    </tr>\n",
       "  </thead>\n",
       "  <tbody>\n",
       "    <tr>\n",
       "      <th>0</th>\n",
       "      <td>ISIC_0024306</td>\n",
       "      <td>0.0</td>\n",
       "      <td>1.0</td>\n",
       "      <td>0.0</td>\n",
       "      <td>0.0</td>\n",
       "      <td>0.0</td>\n",
       "      <td>0.0</td>\n",
       "      <td>0.0</td>\n",
       "    </tr>\n",
       "    <tr>\n",
       "      <th>1</th>\n",
       "      <td>ISIC_0024307</td>\n",
       "      <td>0.0</td>\n",
       "      <td>1.0</td>\n",
       "      <td>0.0</td>\n",
       "      <td>0.0</td>\n",
       "      <td>0.0</td>\n",
       "      <td>0.0</td>\n",
       "      <td>0.0</td>\n",
       "    </tr>\n",
       "    <tr>\n",
       "      <th>2</th>\n",
       "      <td>ISIC_0024308</td>\n",
       "      <td>0.0</td>\n",
       "      <td>1.0</td>\n",
       "      <td>0.0</td>\n",
       "      <td>0.0</td>\n",
       "      <td>0.0</td>\n",
       "      <td>0.0</td>\n",
       "      <td>0.0</td>\n",
       "    </tr>\n",
       "    <tr>\n",
       "      <th>3</th>\n",
       "      <td>ISIC_0024309</td>\n",
       "      <td>0.0</td>\n",
       "      <td>1.0</td>\n",
       "      <td>0.0</td>\n",
       "      <td>0.0</td>\n",
       "      <td>0.0</td>\n",
       "      <td>0.0</td>\n",
       "      <td>0.0</td>\n",
       "    </tr>\n",
       "    <tr>\n",
       "      <th>4</th>\n",
       "      <td>ISIC_0024310</td>\n",
       "      <td>1.0</td>\n",
       "      <td>0.0</td>\n",
       "      <td>0.0</td>\n",
       "      <td>0.0</td>\n",
       "      <td>0.0</td>\n",
       "      <td>0.0</td>\n",
       "      <td>0.0</td>\n",
       "    </tr>\n",
       "    <tr>\n",
       "      <th>5</th>\n",
       "      <td>ISIC_0024311</td>\n",
       "      <td>0.0</td>\n",
       "      <td>1.0</td>\n",
       "      <td>0.0</td>\n",
       "      <td>0.0</td>\n",
       "      <td>0.0</td>\n",
       "      <td>0.0</td>\n",
       "      <td>0.0</td>\n",
       "    </tr>\n",
       "    <tr>\n",
       "      <th>6</th>\n",
       "      <td>ISIC_0024312</td>\n",
       "      <td>0.0</td>\n",
       "      <td>0.0</td>\n",
       "      <td>0.0</td>\n",
       "      <td>0.0</td>\n",
       "      <td>1.0</td>\n",
       "      <td>0.0</td>\n",
       "      <td>0.0</td>\n",
       "    </tr>\n",
       "    <tr>\n",
       "      <th>7</th>\n",
       "      <td>ISIC_0024313</td>\n",
       "      <td>1.0</td>\n",
       "      <td>0.0</td>\n",
       "      <td>0.0</td>\n",
       "      <td>0.0</td>\n",
       "      <td>0.0</td>\n",
       "      <td>0.0</td>\n",
       "      <td>0.0</td>\n",
       "    </tr>\n",
       "    <tr>\n",
       "      <th>8</th>\n",
       "      <td>ISIC_0024314</td>\n",
       "      <td>0.0</td>\n",
       "      <td>1.0</td>\n",
       "      <td>0.0</td>\n",
       "      <td>0.0</td>\n",
       "      <td>0.0</td>\n",
       "      <td>0.0</td>\n",
       "      <td>0.0</td>\n",
       "    </tr>\n",
       "    <tr>\n",
       "      <th>9</th>\n",
       "      <td>ISIC_0024315</td>\n",
       "      <td>1.0</td>\n",
       "      <td>0.0</td>\n",
       "      <td>0.0</td>\n",
       "      <td>0.0</td>\n",
       "      <td>0.0</td>\n",
       "      <td>0.0</td>\n",
       "      <td>0.0</td>\n",
       "    </tr>\n",
       "  </tbody>\n",
       "</table>\n",
       "</div>"
      ],
      "text/plain": [
       "          image  MEL   NV  BCC  AKIEC  BKL   DF  VASC\n",
       "0  ISIC_0024306  0.0  1.0  0.0    0.0  0.0  0.0   0.0\n",
       "1  ISIC_0024307  0.0  1.0  0.0    0.0  0.0  0.0   0.0\n",
       "2  ISIC_0024308  0.0  1.0  0.0    0.0  0.0  0.0   0.0\n",
       "3  ISIC_0024309  0.0  1.0  0.0    0.0  0.0  0.0   0.0\n",
       "4  ISIC_0024310  1.0  0.0  0.0    0.0  0.0  0.0   0.0\n",
       "5  ISIC_0024311  0.0  1.0  0.0    0.0  0.0  0.0   0.0\n",
       "6  ISIC_0024312  0.0  0.0  0.0    0.0  1.0  0.0   0.0\n",
       "7  ISIC_0024313  1.0  0.0  0.0    0.0  0.0  0.0   0.0\n",
       "8  ISIC_0024314  0.0  1.0  0.0    0.0  0.0  0.0   0.0\n",
       "9  ISIC_0024315  1.0  0.0  0.0    0.0  0.0  0.0   0.0"
      ]
     },
     "execution_count": 4,
     "metadata": {},
     "output_type": "execute_result"
    }
   ],
   "source": [
    "df.head(10)  #lendo"
   ]
  },
  {
   "cell_type": "code",
   "execution_count": 5,
   "id": "83b61b88",
   "metadata": {},
   "outputs": [
    {
     "data": {
      "text/html": [
       "<div>\n",
       "<style scoped>\n",
       "    .dataframe tbody tr th:only-of-type {\n",
       "        vertical-align: middle;\n",
       "    }\n",
       "\n",
       "    .dataframe tbody tr th {\n",
       "        vertical-align: top;\n",
       "    }\n",
       "\n",
       "    .dataframe thead th {\n",
       "        text-align: right;\n",
       "    }\n",
       "</style>\n",
       "<table border=\"1\" class=\"dataframe\">\n",
       "  <thead>\n",
       "    <tr style=\"text-align: right;\">\n",
       "      <th></th>\n",
       "      <th>image</th>\n",
       "      <th>MEL</th>\n",
       "      <th>NV</th>\n",
       "    </tr>\n",
       "  </thead>\n",
       "  <tbody>\n",
       "    <tr>\n",
       "      <th>0</th>\n",
       "      <td>ISIC_0024306</td>\n",
       "      <td>0.0</td>\n",
       "      <td>1.0</td>\n",
       "    </tr>\n",
       "  </tbody>\n",
       "</table>\n",
       "</div>"
      ],
      "text/plain": [
       "          image  MEL   NV\n",
       "0  ISIC_0024306  0.0  1.0"
      ]
     },
     "execution_count": 5,
     "metadata": {},
     "output_type": "execute_result"
    }
   ],
   "source": [
    "# Selecionando algumas colunas\n",
    "df_2 = pd.read_csv('GroundTruth.csv', usecols = [\"image\",\"MEL\",\"NV\"])\n",
    "df_2.head(1)"
   ]
  },
  {
   "cell_type": "code",
   "execution_count": 6,
   "id": "b017ed29",
   "metadata": {},
   "outputs": [
    {
     "data": {
      "text/html": [
       "<div>\n",
       "<style scoped>\n",
       "    .dataframe tbody tr th:only-of-type {\n",
       "        vertical-align: middle;\n",
       "    }\n",
       "\n",
       "    .dataframe tbody tr th {\n",
       "        vertical-align: top;\n",
       "    }\n",
       "\n",
       "    .dataframe thead th {\n",
       "        text-align: right;\n",
       "    }\n",
       "</style>\n",
       "<table border=\"1\" class=\"dataframe\">\n",
       "  <thead>\n",
       "    <tr style=\"text-align: right;\">\n",
       "      <th></th>\n",
       "      <th>image</th>\n",
       "      <th>MEL</th>\n",
       "      <th>NV</th>\n",
       "    </tr>\n",
       "  </thead>\n",
       "  <tbody>\n",
       "    <tr>\n",
       "      <th>0</th>\n",
       "      <td>ISIC_0024306</td>\n",
       "      <td>0.0</td>\n",
       "      <td>1.0</td>\n",
       "    </tr>\n",
       "    <tr>\n",
       "      <th>1</th>\n",
       "      <td>ISIC_0024307</td>\n",
       "      <td>0.0</td>\n",
       "      <td>1.0</td>\n",
       "    </tr>\n",
       "    <tr>\n",
       "      <th>2</th>\n",
       "      <td>ISIC_0024308</td>\n",
       "      <td>0.0</td>\n",
       "      <td>1.0</td>\n",
       "    </tr>\n",
       "    <tr>\n",
       "      <th>3</th>\n",
       "      <td>ISIC_0024309</td>\n",
       "      <td>0.0</td>\n",
       "      <td>1.0</td>\n",
       "    </tr>\n",
       "    <tr>\n",
       "      <th>4</th>\n",
       "      <td>ISIC_0024310</td>\n",
       "      <td>1.0</td>\n",
       "      <td>0.0</td>\n",
       "    </tr>\n",
       "  </tbody>\n",
       "</table>\n",
       "</div>"
      ],
      "text/plain": [
       "          image  MEL   NV\n",
       "0  ISIC_0024306  0.0  1.0\n",
       "1  ISIC_0024307  0.0  1.0\n",
       "2  ISIC_0024308  0.0  1.0\n",
       "3  ISIC_0024309  0.0  1.0\n",
       "4  ISIC_0024310  1.0  0.0"
      ]
     },
     "execution_count": 6,
     "metadata": {},
     "output_type": "execute_result"
    }
   ],
   "source": [
    "#Selecionado x linhas \n",
    "df_3 = pd.read_csv('GroundTruth.csv', usecols = [\"image\",\"MEL\",\"NV\"], nrows = 100)\n",
    "df_3.head()"
   ]
  },
  {
   "cell_type": "code",
   "execution_count": 7,
   "id": "54e8b9d0",
   "metadata": {},
   "outputs": [
    {
     "data": {
      "text/plain": [
       "(100, 3)"
      ]
     },
     "execution_count": 7,
     "metadata": {},
     "output_type": "execute_result"
    }
   ],
   "source": [
    "df_3.shape"
   ]
  },
  {
   "cell_type": "code",
   "execution_count": 8,
   "id": "dc3955d8",
   "metadata": {},
   "outputs": [
    {
     "data": {
      "text/plain": [
       "0    0.0\n",
       "1    0.0\n",
       "2    0.0\n",
       "3    0.0\n",
       "4    1.0\n",
       "Name: MEL, dtype: float64"
      ]
     },
     "execution_count": 8,
     "metadata": {},
     "output_type": "execute_result"
    }
   ],
   "source": [
    "#Selecionando apenas uma única coluna da base de dados\n",
    "df[\"MEL\"].head() "
   ]
  },
  {
   "cell_type": "code",
   "execution_count": 9,
   "id": "880652de",
   "metadata": {},
   "outputs": [
    {
     "data": {
      "text/html": [
       "<div>\n",
       "<style scoped>\n",
       "    .dataframe tbody tr th:only-of-type {\n",
       "        vertical-align: middle;\n",
       "    }\n",
       "\n",
       "    .dataframe tbody tr th {\n",
       "        vertical-align: top;\n",
       "    }\n",
       "\n",
       "    .dataframe thead th {\n",
       "        text-align: right;\n",
       "    }\n",
       "</style>\n",
       "<table border=\"1\" class=\"dataframe\">\n",
       "  <thead>\n",
       "    <tr style=\"text-align: right;\">\n",
       "      <th></th>\n",
       "      <th>MEL</th>\n",
       "      <th>image</th>\n",
       "      <th>NV</th>\n",
       "    </tr>\n",
       "  </thead>\n",
       "  <tbody>\n",
       "    <tr>\n",
       "      <th>0</th>\n",
       "      <td>0.0</td>\n",
       "      <td>ISIC_0024306</td>\n",
       "      <td>1.0</td>\n",
       "    </tr>\n",
       "    <tr>\n",
       "      <th>1</th>\n",
       "      <td>0.0</td>\n",
       "      <td>ISIC_0024307</td>\n",
       "      <td>1.0</td>\n",
       "    </tr>\n",
       "    <tr>\n",
       "      <th>2</th>\n",
       "      <td>0.0</td>\n",
       "      <td>ISIC_0024308</td>\n",
       "      <td>1.0</td>\n",
       "    </tr>\n",
       "    <tr>\n",
       "      <th>3</th>\n",
       "      <td>0.0</td>\n",
       "      <td>ISIC_0024309</td>\n",
       "      <td>1.0</td>\n",
       "    </tr>\n",
       "    <tr>\n",
       "      <th>4</th>\n",
       "      <td>1.0</td>\n",
       "      <td>ISIC_0024310</td>\n",
       "      <td>0.0</td>\n",
       "    </tr>\n",
       "  </tbody>\n",
       "</table>\n",
       "</div>"
      ],
      "text/plain": [
       "   MEL         image   NV\n",
       "0  0.0  ISIC_0024306  1.0\n",
       "1  0.0  ISIC_0024307  1.0\n",
       "2  0.0  ISIC_0024308  1.0\n",
       "3  0.0  ISIC_0024309  1.0\n",
       "4  1.0  ISIC_0024310  0.0"
      ]
     },
     "execution_count": 9,
     "metadata": {},
     "output_type": "execute_result"
    }
   ],
   "source": [
    "df[[\"MEL\", \"image\", \"NV\"]].head()"
   ]
  },
  {
   "cell_type": "code",
   "execution_count": 10,
   "id": "c24a7aa5",
   "metadata": {},
   "outputs": [
    {
     "data": {
      "text/plain": [
       "0    ISIC_0024306\n",
       "1    ISIC_0024307\n",
       "2    ISIC_0024308\n",
       "3    ISIC_0024309\n",
       "4    ISIC_0024310\n",
       "Name: image, dtype: object"
      ]
     },
     "execution_count": 10,
     "metadata": {},
     "output_type": "execute_result"
    }
   ],
   "source": [
    "df.image.head() #Outra maneira de selecionar uma coluna"
   ]
  },
  {
   "cell_type": "code",
   "execution_count": 11,
   "id": "065229c8",
   "metadata": {},
   "outputs": [],
   "source": [
    "#Acrescentando uma coluna nova\n",
    "df[\"Coluna nova\"] = df[\"image\"] "
   ]
  },
  {
   "cell_type": "code",
   "execution_count": 12,
   "id": "14c477f6",
   "metadata": {},
   "outputs": [
    {
     "data": {
      "text/html": [
       "<div>\n",
       "<style scoped>\n",
       "    .dataframe tbody tr th:only-of-type {\n",
       "        vertical-align: middle;\n",
       "    }\n",
       "\n",
       "    .dataframe tbody tr th {\n",
       "        vertical-align: top;\n",
       "    }\n",
       "\n",
       "    .dataframe thead th {\n",
       "        text-align: right;\n",
       "    }\n",
       "</style>\n",
       "<table border=\"1\" class=\"dataframe\">\n",
       "  <thead>\n",
       "    <tr style=\"text-align: right;\">\n",
       "      <th></th>\n",
       "      <th>image</th>\n",
       "      <th>MEL</th>\n",
       "      <th>NV</th>\n",
       "      <th>BCC</th>\n",
       "      <th>AKIEC</th>\n",
       "      <th>BKL</th>\n",
       "      <th>DF</th>\n",
       "      <th>VASC</th>\n",
       "      <th>Coluna nova</th>\n",
       "    </tr>\n",
       "  </thead>\n",
       "  <tbody>\n",
       "    <tr>\n",
       "      <th>0</th>\n",
       "      <td>ISIC_0024306</td>\n",
       "      <td>0.0</td>\n",
       "      <td>1.0</td>\n",
       "      <td>0.0</td>\n",
       "      <td>0.0</td>\n",
       "      <td>0.0</td>\n",
       "      <td>0.0</td>\n",
       "      <td>0.0</td>\n",
       "      <td>ISIC_0024306</td>\n",
       "    </tr>\n",
       "    <tr>\n",
       "      <th>1</th>\n",
       "      <td>ISIC_0024307</td>\n",
       "      <td>0.0</td>\n",
       "      <td>1.0</td>\n",
       "      <td>0.0</td>\n",
       "      <td>0.0</td>\n",
       "      <td>0.0</td>\n",
       "      <td>0.0</td>\n",
       "      <td>0.0</td>\n",
       "      <td>ISIC_0024307</td>\n",
       "    </tr>\n",
       "    <tr>\n",
       "      <th>2</th>\n",
       "      <td>ISIC_0024308</td>\n",
       "      <td>0.0</td>\n",
       "      <td>1.0</td>\n",
       "      <td>0.0</td>\n",
       "      <td>0.0</td>\n",
       "      <td>0.0</td>\n",
       "      <td>0.0</td>\n",
       "      <td>0.0</td>\n",
       "      <td>ISIC_0024308</td>\n",
       "    </tr>\n",
       "    <tr>\n",
       "      <th>3</th>\n",
       "      <td>ISIC_0024309</td>\n",
       "      <td>0.0</td>\n",
       "      <td>1.0</td>\n",
       "      <td>0.0</td>\n",
       "      <td>0.0</td>\n",
       "      <td>0.0</td>\n",
       "      <td>0.0</td>\n",
       "      <td>0.0</td>\n",
       "      <td>ISIC_0024309</td>\n",
       "    </tr>\n",
       "    <tr>\n",
       "      <th>4</th>\n",
       "      <td>ISIC_0024310</td>\n",
       "      <td>1.0</td>\n",
       "      <td>0.0</td>\n",
       "      <td>0.0</td>\n",
       "      <td>0.0</td>\n",
       "      <td>0.0</td>\n",
       "      <td>0.0</td>\n",
       "      <td>0.0</td>\n",
       "      <td>ISIC_0024310</td>\n",
       "    </tr>\n",
       "  </tbody>\n",
       "</table>\n",
       "</div>"
      ],
      "text/plain": [
       "          image  MEL   NV  BCC  AKIEC  BKL   DF  VASC   Coluna nova\n",
       "0  ISIC_0024306  0.0  1.0  0.0    0.0  0.0  0.0   0.0  ISIC_0024306\n",
       "1  ISIC_0024307  0.0  1.0  0.0    0.0  0.0  0.0   0.0  ISIC_0024307\n",
       "2  ISIC_0024308  0.0  1.0  0.0    0.0  0.0  0.0   0.0  ISIC_0024308\n",
       "3  ISIC_0024309  0.0  1.0  0.0    0.0  0.0  0.0   0.0  ISIC_0024309\n",
       "4  ISIC_0024310  1.0  0.0  0.0    0.0  0.0  0.0   0.0  ISIC_0024310"
      ]
     },
     "execution_count": 12,
     "metadata": {},
     "output_type": "execute_result"
    }
   ],
   "source": [
    "df.head()"
   ]
  },
  {
   "cell_type": "code",
   "execution_count": 13,
   "id": "154d2923",
   "metadata": {},
   "outputs": [],
   "source": [
    "#Excluindo colunas\n",
    "df.drop([\"Coluna nova\"], axis = 1, inplace = True)"
   ]
  },
  {
   "cell_type": "code",
   "execution_count": 14,
   "id": "f45f37d2",
   "metadata": {},
   "outputs": [
    {
     "data": {
      "text/html": [
       "<div>\n",
       "<style scoped>\n",
       "    .dataframe tbody tr th:only-of-type {\n",
       "        vertical-align: middle;\n",
       "    }\n",
       "\n",
       "    .dataframe tbody tr th {\n",
       "        vertical-align: top;\n",
       "    }\n",
       "\n",
       "    .dataframe thead th {\n",
       "        text-align: right;\n",
       "    }\n",
       "</style>\n",
       "<table border=\"1\" class=\"dataframe\">\n",
       "  <thead>\n",
       "    <tr style=\"text-align: right;\">\n",
       "      <th></th>\n",
       "      <th>image</th>\n",
       "      <th>MEL</th>\n",
       "      <th>NV</th>\n",
       "      <th>BCC</th>\n",
       "      <th>AKIEC</th>\n",
       "      <th>BKL</th>\n",
       "      <th>DF</th>\n",
       "      <th>VASC</th>\n",
       "    </tr>\n",
       "  </thead>\n",
       "  <tbody>\n",
       "    <tr>\n",
       "      <th>0</th>\n",
       "      <td>ISIC_0024306</td>\n",
       "      <td>0.0</td>\n",
       "      <td>1.0</td>\n",
       "      <td>0.0</td>\n",
       "      <td>0.0</td>\n",
       "      <td>0.0</td>\n",
       "      <td>0.0</td>\n",
       "      <td>0.0</td>\n",
       "    </tr>\n",
       "    <tr>\n",
       "      <th>1</th>\n",
       "      <td>ISIC_0024307</td>\n",
       "      <td>0.0</td>\n",
       "      <td>1.0</td>\n",
       "      <td>0.0</td>\n",
       "      <td>0.0</td>\n",
       "      <td>0.0</td>\n",
       "      <td>0.0</td>\n",
       "      <td>0.0</td>\n",
       "    </tr>\n",
       "    <tr>\n",
       "      <th>2</th>\n",
       "      <td>ISIC_0024308</td>\n",
       "      <td>0.0</td>\n",
       "      <td>1.0</td>\n",
       "      <td>0.0</td>\n",
       "      <td>0.0</td>\n",
       "      <td>0.0</td>\n",
       "      <td>0.0</td>\n",
       "      <td>0.0</td>\n",
       "    </tr>\n",
       "    <tr>\n",
       "      <th>3</th>\n",
       "      <td>ISIC_0024309</td>\n",
       "      <td>0.0</td>\n",
       "      <td>1.0</td>\n",
       "      <td>0.0</td>\n",
       "      <td>0.0</td>\n",
       "      <td>0.0</td>\n",
       "      <td>0.0</td>\n",
       "      <td>0.0</td>\n",
       "    </tr>\n",
       "    <tr>\n",
       "      <th>4</th>\n",
       "      <td>ISIC_0024310</td>\n",
       "      <td>1.0</td>\n",
       "      <td>0.0</td>\n",
       "      <td>0.0</td>\n",
       "      <td>0.0</td>\n",
       "      <td>0.0</td>\n",
       "      <td>0.0</td>\n",
       "      <td>0.0</td>\n",
       "    </tr>\n",
       "  </tbody>\n",
       "</table>\n",
       "</div>"
      ],
      "text/plain": [
       "          image  MEL   NV  BCC  AKIEC  BKL   DF  VASC\n",
       "0  ISIC_0024306  0.0  1.0  0.0    0.0  0.0  0.0   0.0\n",
       "1  ISIC_0024307  0.0  1.0  0.0    0.0  0.0  0.0   0.0\n",
       "2  ISIC_0024308  0.0  1.0  0.0    0.0  0.0  0.0   0.0\n",
       "3  ISIC_0024309  0.0  1.0  0.0    0.0  0.0  0.0   0.0\n",
       "4  ISIC_0024310  1.0  0.0  0.0    0.0  0.0  0.0   0.0"
      ]
     },
     "execution_count": 14,
     "metadata": {},
     "output_type": "execute_result"
    }
   ],
   "source": [
    "df.head()"
   ]
  },
  {
   "cell_type": "markdown",
   "id": "4a2adcfd",
   "metadata": {},
   "source": [
    "### Usando loc"
   ]
  },
  {
   "cell_type": "code",
   "execution_count": 15,
   "id": "77bfa6b1",
   "metadata": {},
   "outputs": [
    {
     "data": {
      "text/html": [
       "<div>\n",
       "<style scoped>\n",
       "    .dataframe tbody tr th:only-of-type {\n",
       "        vertical-align: middle;\n",
       "    }\n",
       "\n",
       "    .dataframe tbody tr th {\n",
       "        vertical-align: top;\n",
       "    }\n",
       "\n",
       "    .dataframe thead th {\n",
       "        text-align: right;\n",
       "    }\n",
       "</style>\n",
       "<table border=\"1\" class=\"dataframe\">\n",
       "  <thead>\n",
       "    <tr style=\"text-align: right;\">\n",
       "      <th></th>\n",
       "      <th>image</th>\n",
       "      <th>MEL</th>\n",
       "      <th>NV</th>\n",
       "      <th>BCC</th>\n",
       "      <th>AKIEC</th>\n",
       "      <th>BKL</th>\n",
       "      <th>DF</th>\n",
       "      <th>VASC</th>\n",
       "    </tr>\n",
       "  </thead>\n",
       "  <tbody>\n",
       "    <tr>\n",
       "      <th>1</th>\n",
       "      <td>ISIC_0024307</td>\n",
       "      <td>0.0</td>\n",
       "      <td>1.0</td>\n",
       "      <td>0.0</td>\n",
       "      <td>0.0</td>\n",
       "      <td>0.0</td>\n",
       "      <td>0.0</td>\n",
       "      <td>0.0</td>\n",
       "    </tr>\n",
       "    <tr>\n",
       "      <th>2</th>\n",
       "      <td>ISIC_0024308</td>\n",
       "      <td>0.0</td>\n",
       "      <td>1.0</td>\n",
       "      <td>0.0</td>\n",
       "      <td>0.0</td>\n",
       "      <td>0.0</td>\n",
       "      <td>0.0</td>\n",
       "      <td>0.0</td>\n",
       "    </tr>\n",
       "    <tr>\n",
       "      <th>3</th>\n",
       "      <td>ISIC_0024309</td>\n",
       "      <td>0.0</td>\n",
       "      <td>1.0</td>\n",
       "      <td>0.0</td>\n",
       "      <td>0.0</td>\n",
       "      <td>0.0</td>\n",
       "      <td>0.0</td>\n",
       "      <td>0.0</td>\n",
       "    </tr>\n",
       "    <tr>\n",
       "      <th>4</th>\n",
       "      <td>ISIC_0024310</td>\n",
       "      <td>1.0</td>\n",
       "      <td>0.0</td>\n",
       "      <td>0.0</td>\n",
       "      <td>0.0</td>\n",
       "      <td>0.0</td>\n",
       "      <td>0.0</td>\n",
       "      <td>0.0</td>\n",
       "    </tr>\n",
       "  </tbody>\n",
       "</table>\n",
       "</div>"
      ],
      "text/plain": [
       "          image  MEL   NV  BCC  AKIEC  BKL   DF  VASC\n",
       "1  ISIC_0024307  0.0  1.0  0.0    0.0  0.0  0.0   0.0\n",
       "2  ISIC_0024308  0.0  1.0  0.0    0.0  0.0  0.0   0.0\n",
       "3  ISIC_0024309  0.0  1.0  0.0    0.0  0.0  0.0   0.0\n",
       "4  ISIC_0024310  1.0  0.0  0.0    0.0  0.0  0.0   0.0"
      ]
     },
     "execution_count": 15,
     "metadata": {},
     "output_type": "execute_result"
    }
   ],
   "source": [
    "#Usando loc \n",
    "df[1:5]"
   ]
  },
  {
   "cell_type": "code",
   "execution_count": 16,
   "id": "94fce7ea",
   "metadata": {},
   "outputs": [
    {
     "data": {
      "text/html": [
       "<div>\n",
       "<style scoped>\n",
       "    .dataframe tbody tr th:only-of-type {\n",
       "        vertical-align: middle;\n",
       "    }\n",
       "\n",
       "    .dataframe tbody tr th {\n",
       "        vertical-align: top;\n",
       "    }\n",
       "\n",
       "    .dataframe thead th {\n",
       "        text-align: right;\n",
       "    }\n",
       "</style>\n",
       "<table border=\"1\" class=\"dataframe\">\n",
       "  <thead>\n",
       "    <tr style=\"text-align: right;\">\n",
       "      <th></th>\n",
       "      <th>image</th>\n",
       "      <th>MEL</th>\n",
       "      <th>NV</th>\n",
       "      <th>BCC</th>\n",
       "      <th>AKIEC</th>\n",
       "      <th>BKL</th>\n",
       "      <th>DF</th>\n",
       "      <th>VASC</th>\n",
       "    </tr>\n",
       "  </thead>\n",
       "  <tbody>\n",
       "    <tr>\n",
       "      <th>1</th>\n",
       "      <td>ISIC_0024307</td>\n",
       "      <td>0.0</td>\n",
       "      <td>1.0</td>\n",
       "      <td>0.0</td>\n",
       "      <td>0.0</td>\n",
       "      <td>0.0</td>\n",
       "      <td>0.0</td>\n",
       "      <td>0.0</td>\n",
       "    </tr>\n",
       "    <tr>\n",
       "      <th>3</th>\n",
       "      <td>ISIC_0024309</td>\n",
       "      <td>0.0</td>\n",
       "      <td>1.0</td>\n",
       "      <td>0.0</td>\n",
       "      <td>0.0</td>\n",
       "      <td>0.0</td>\n",
       "      <td>0.0</td>\n",
       "      <td>0.0</td>\n",
       "    </tr>\n",
       "    <tr>\n",
       "      <th>4</th>\n",
       "      <td>ISIC_0024310</td>\n",
       "      <td>1.0</td>\n",
       "      <td>0.0</td>\n",
       "      <td>0.0</td>\n",
       "      <td>0.0</td>\n",
       "      <td>0.0</td>\n",
       "      <td>0.0</td>\n",
       "      <td>0.0</td>\n",
       "    </tr>\n",
       "  </tbody>\n",
       "</table>\n",
       "</div>"
      ],
      "text/plain": [
       "          image  MEL   NV  BCC  AKIEC  BKL   DF  VASC\n",
       "1  ISIC_0024307  0.0  1.0  0.0    0.0  0.0  0.0   0.0\n",
       "3  ISIC_0024309  0.0  1.0  0.0    0.0  0.0  0.0   0.0\n",
       "4  ISIC_0024310  1.0  0.0  0.0    0.0  0.0  0.0   0.0"
      ]
     },
     "execution_count": 16,
     "metadata": {},
     "output_type": "execute_result"
    }
   ],
   "source": [
    "df.loc[[1, 3, 4]]"
   ]
  },
  {
   "cell_type": "code",
   "execution_count": 17,
   "id": "0c519476",
   "metadata": {},
   "outputs": [
    {
     "data": {
      "text/html": [
       "<div>\n",
       "<style scoped>\n",
       "    .dataframe tbody tr th:only-of-type {\n",
       "        vertical-align: middle;\n",
       "    }\n",
       "\n",
       "    .dataframe tbody tr th {\n",
       "        vertical-align: top;\n",
       "    }\n",
       "\n",
       "    .dataframe thead th {\n",
       "        text-align: right;\n",
       "    }\n",
       "</style>\n",
       "<table border=\"1\" class=\"dataframe\">\n",
       "  <thead>\n",
       "    <tr style=\"text-align: right;\">\n",
       "      <th></th>\n",
       "      <th>image</th>\n",
       "      <th>AKIEC</th>\n",
       "    </tr>\n",
       "  </thead>\n",
       "  <tbody>\n",
       "    <tr>\n",
       "      <th>1</th>\n",
       "      <td>ISIC_0024307</td>\n",
       "      <td>0.0</td>\n",
       "    </tr>\n",
       "    <tr>\n",
       "      <th>2</th>\n",
       "      <td>ISIC_0024308</td>\n",
       "      <td>0.0</td>\n",
       "    </tr>\n",
       "    <tr>\n",
       "      <th>3</th>\n",
       "      <td>ISIC_0024309</td>\n",
       "      <td>0.0</td>\n",
       "    </tr>\n",
       "    <tr>\n",
       "      <th>4</th>\n",
       "      <td>ISIC_0024310</td>\n",
       "      <td>0.0</td>\n",
       "    </tr>\n",
       "    <tr>\n",
       "      <th>5</th>\n",
       "      <td>ISIC_0024311</td>\n",
       "      <td>0.0</td>\n",
       "    </tr>\n",
       "  </tbody>\n",
       "</table>\n",
       "</div>"
      ],
      "text/plain": [
       "          image  AKIEC\n",
       "1  ISIC_0024307    0.0\n",
       "2  ISIC_0024308    0.0\n",
       "3  ISIC_0024309    0.0\n",
       "4  ISIC_0024310    0.0\n",
       "5  ISIC_0024311    0.0"
      ]
     },
     "execution_count": 17,
     "metadata": {},
     "output_type": "execute_result"
    }
   ],
   "source": [
    "df.loc[1:5 , [\"image\",\"AKIEC\"]]  #Retornando um intervalo de linhas para determinadas colunas"
   ]
  },
  {
   "cell_type": "code",
   "execution_count": 18,
   "id": "4f91ed24",
   "metadata": {},
   "outputs": [
    {
     "data": {
      "text/html": [
       "<div>\n",
       "<style scoped>\n",
       "    .dataframe tbody tr th:only-of-type {\n",
       "        vertical-align: middle;\n",
       "    }\n",
       "\n",
       "    .dataframe tbody tr th {\n",
       "        vertical-align: top;\n",
       "    }\n",
       "\n",
       "    .dataframe thead th {\n",
       "        text-align: right;\n",
       "    }\n",
       "</style>\n",
       "<table border=\"1\" class=\"dataframe\">\n",
       "  <thead>\n",
       "    <tr style=\"text-align: right;\">\n",
       "      <th></th>\n",
       "      <th>image</th>\n",
       "      <th>MEL</th>\n",
       "      <th>NV</th>\n",
       "      <th>BCC</th>\n",
       "      <th>AKIEC</th>\n",
       "    </tr>\n",
       "  </thead>\n",
       "  <tbody>\n",
       "    <tr>\n",
       "      <th>1</th>\n",
       "      <td>ISIC_0024307</td>\n",
       "      <td>0.0</td>\n",
       "      <td>1.0</td>\n",
       "      <td>0.0</td>\n",
       "      <td>0.0</td>\n",
       "    </tr>\n",
       "    <tr>\n",
       "      <th>2</th>\n",
       "      <td>ISIC_0024308</td>\n",
       "      <td>0.0</td>\n",
       "      <td>1.0</td>\n",
       "      <td>0.0</td>\n",
       "      <td>0.0</td>\n",
       "    </tr>\n",
       "    <tr>\n",
       "      <th>3</th>\n",
       "      <td>ISIC_0024309</td>\n",
       "      <td>0.0</td>\n",
       "      <td>1.0</td>\n",
       "      <td>0.0</td>\n",
       "      <td>0.0</td>\n",
       "    </tr>\n",
       "    <tr>\n",
       "      <th>4</th>\n",
       "      <td>ISIC_0024310</td>\n",
       "      <td>1.0</td>\n",
       "      <td>0.0</td>\n",
       "      <td>0.0</td>\n",
       "      <td>0.0</td>\n",
       "    </tr>\n",
       "    <tr>\n",
       "      <th>5</th>\n",
       "      <td>ISIC_0024311</td>\n",
       "      <td>0.0</td>\n",
       "      <td>1.0</td>\n",
       "      <td>0.0</td>\n",
       "      <td>0.0</td>\n",
       "    </tr>\n",
       "  </tbody>\n",
       "</table>\n",
       "</div>"
      ],
      "text/plain": [
       "          image  MEL   NV  BCC  AKIEC\n",
       "1  ISIC_0024307  0.0  1.0  0.0    0.0\n",
       "2  ISIC_0024308  0.0  1.0  0.0    0.0\n",
       "3  ISIC_0024309  0.0  1.0  0.0    0.0\n",
       "4  ISIC_0024310  1.0  0.0  0.0    0.0\n",
       "5  ISIC_0024311  0.0  1.0  0.0    0.0"
      ]
     },
     "execution_count": 18,
     "metadata": {},
     "output_type": "execute_result"
    }
   ],
   "source": [
    "df.loc[1:5 , \"image\":\"AKIEC\"] #Retornando um intervalo de linhas para um determinado intervalo de colunas"
   ]
  },
  {
   "cell_type": "code",
   "execution_count": 19,
   "id": "e40dd78d",
   "metadata": {},
   "outputs": [
    {
     "data": {
      "text/html": [
       "<div>\n",
       "<style scoped>\n",
       "    .dataframe tbody tr th:only-of-type {\n",
       "        vertical-align: middle;\n",
       "    }\n",
       "\n",
       "    .dataframe tbody tr th {\n",
       "        vertical-align: top;\n",
       "    }\n",
       "\n",
       "    .dataframe thead th {\n",
       "        text-align: right;\n",
       "    }\n",
       "</style>\n",
       "<table border=\"1\" class=\"dataframe\">\n",
       "  <thead>\n",
       "    <tr style=\"text-align: right;\">\n",
       "      <th></th>\n",
       "      <th>image</th>\n",
       "      <th>MEL</th>\n",
       "      <th>NV</th>\n",
       "      <th>BCC</th>\n",
       "      <th>AKIEC</th>\n",
       "      <th>BKL</th>\n",
       "      <th>DF</th>\n",
       "      <th>VASC</th>\n",
       "    </tr>\n",
       "  </thead>\n",
       "  <tbody>\n",
       "    <tr>\n",
       "      <th>5943</th>\n",
       "      <td>ISIC_0030249</td>\n",
       "      <td>0.0</td>\n",
       "      <td>0.0</td>\n",
       "      <td>1.0</td>\n",
       "      <td>0.0</td>\n",
       "      <td>0.0</td>\n",
       "      <td>0.0</td>\n",
       "      <td>0.0</td>\n",
       "    </tr>\n",
       "    <tr>\n",
       "      <th>8229</th>\n",
       "      <td>ISIC_0032535</td>\n",
       "      <td>1.0</td>\n",
       "      <td>0.0</td>\n",
       "      <td>0.0</td>\n",
       "      <td>0.0</td>\n",
       "      <td>0.0</td>\n",
       "      <td>0.0</td>\n",
       "      <td>0.0</td>\n",
       "    </tr>\n",
       "    <tr>\n",
       "      <th>8228</th>\n",
       "      <td>ISIC_0032534</td>\n",
       "      <td>0.0</td>\n",
       "      <td>0.0</td>\n",
       "      <td>0.0</td>\n",
       "      <td>0.0</td>\n",
       "      <td>1.0</td>\n",
       "      <td>0.0</td>\n",
       "      <td>0.0</td>\n",
       "    </tr>\n",
       "    <tr>\n",
       "      <th>8227</th>\n",
       "      <td>ISIC_0032533</td>\n",
       "      <td>1.0</td>\n",
       "      <td>0.0</td>\n",
       "      <td>0.0</td>\n",
       "      <td>0.0</td>\n",
       "      <td>0.0</td>\n",
       "      <td>0.0</td>\n",
       "      <td>0.0</td>\n",
       "    </tr>\n",
       "    <tr>\n",
       "      <th>2596</th>\n",
       "      <td>ISIC_0026902</td>\n",
       "      <td>0.0</td>\n",
       "      <td>0.0</td>\n",
       "      <td>1.0</td>\n",
       "      <td>0.0</td>\n",
       "      <td>0.0</td>\n",
       "      <td>0.0</td>\n",
       "      <td>0.0</td>\n",
       "    </tr>\n",
       "  </tbody>\n",
       "</table>\n",
       "</div>"
      ],
      "text/plain": [
       "             image  MEL   NV  BCC  AKIEC  BKL   DF  VASC\n",
       "5943  ISIC_0030249  0.0  0.0  1.0    0.0  0.0  0.0   0.0\n",
       "8229  ISIC_0032535  1.0  0.0  0.0    0.0  0.0  0.0   0.0\n",
       "8228  ISIC_0032534  0.0  0.0  0.0    0.0  1.0  0.0   0.0\n",
       "8227  ISIC_0032533  1.0  0.0  0.0    0.0  0.0  0.0   0.0\n",
       "2596  ISIC_0026902  0.0  0.0  1.0    0.0  0.0  0.0   0.0"
      ]
     },
     "execution_count": 19,
     "metadata": {},
     "output_type": "execute_result"
    }
   ],
   "source": [
    "df.sort_values(\"NV\").head()   #Sorteando os dados usando sort_values"
   ]
  },
  {
   "cell_type": "markdown",
   "id": "7e591aae",
   "metadata": {},
   "source": [
    "### Iniciando a manipulação da base de dados como imagens"
   ]
  },
  {
   "cell_type": "code",
   "execution_count": 13,
   "id": "62f10951",
   "metadata": {},
   "outputs": [
    {
     "name": "stdout",
     "output_type": "stream",
     "text": [
      "          image  MEL   NV  BCC  AKIEC  BKL   DF  VASC\n",
      "0  ISIC_0024306  0.0  1.0  0.0    0.0  0.0  0.0   0.0\n",
      "1  ISIC_0024307  0.0  1.0  0.0    0.0  0.0  0.0   0.0\n",
      "2  ISIC_0024308  0.0  1.0  0.0    0.0  0.0  0.0   0.0\n",
      "3  ISIC_0024309  0.0  1.0  0.0    0.0  0.0  0.0   0.0\n",
      "4  ISIC_0024310  1.0  0.0  0.0    0.0  0.0  0.0   0.0\n",
      "10015\n",
      "Index(['image', 'MEL', 'NV', 'BCC', 'AKIEC', 'BKL', 'DF', 'VASC'], dtype='object')\n"
     ]
    }
   ],
   "source": [
    "df=pd.read_csv('GroundTruth.csv')\n",
    "print (df.head())\n",
    "print (len(df))\n",
    "print (df.columns)\n",
    "labels=['MEL', 'NV', 'BCC', 'AKIEC', 'BKL', 'DF', 'VASC']"
   ]
  },
  {
   "cell_type": "code",
   "execution_count": 5,
   "id": "80c24ce6",
   "metadata": {},
   "outputs": [],
   "source": [
    "df['image']=df['image'].apply(lambda x: x+ '.png')"
   ]
  },
  {
   "cell_type": "markdown",
   "id": "6f5c25c4-1085-4448-ae59-691f91df4006",
   "metadata": {},
   "source": [
    "#### Celulas para entendimento para implementação do algoritmo"
   ]
  },
  {
   "cell_type": "code",
   "execution_count": 14,
   "id": "94ce2b99",
   "metadata": {},
   "outputs": [
    {
     "data": {
      "text/html": [
       "<div>\n",
       "<style scoped>\n",
       "    .dataframe tbody tr th:only-of-type {\n",
       "        vertical-align: middle;\n",
       "    }\n",
       "\n",
       "    .dataframe tbody tr th {\n",
       "        vertical-align: top;\n",
       "    }\n",
       "\n",
       "    .dataframe thead th {\n",
       "        text-align: right;\n",
       "    }\n",
       "</style>\n",
       "<table border=\"1\" class=\"dataframe\">\n",
       "  <thead>\n",
       "    <tr style=\"text-align: right;\">\n",
       "      <th></th>\n",
       "      <th>image</th>\n",
       "      <th>MEL</th>\n",
       "      <th>NV</th>\n",
       "      <th>BCC</th>\n",
       "      <th>AKIEC</th>\n",
       "      <th>BKL</th>\n",
       "      <th>DF</th>\n",
       "      <th>VASC</th>\n",
       "    </tr>\n",
       "  </thead>\n",
       "  <tbody>\n",
       "    <tr>\n",
       "      <th>0</th>\n",
       "      <td>ISIC_0024306</td>\n",
       "      <td>0.0</td>\n",
       "      <td>1.0</td>\n",
       "      <td>0.0</td>\n",
       "      <td>0.0</td>\n",
       "      <td>0.0</td>\n",
       "      <td>0.0</td>\n",
       "      <td>0.0</td>\n",
       "    </tr>\n",
       "    <tr>\n",
       "      <th>1</th>\n",
       "      <td>ISIC_0024307</td>\n",
       "      <td>0.0</td>\n",
       "      <td>1.0</td>\n",
       "      <td>0.0</td>\n",
       "      <td>0.0</td>\n",
       "      <td>0.0</td>\n",
       "      <td>0.0</td>\n",
       "      <td>0.0</td>\n",
       "    </tr>\n",
       "    <tr>\n",
       "      <th>2</th>\n",
       "      <td>ISIC_0024308</td>\n",
       "      <td>0.0</td>\n",
       "      <td>1.0</td>\n",
       "      <td>0.0</td>\n",
       "      <td>0.0</td>\n",
       "      <td>0.0</td>\n",
       "      <td>0.0</td>\n",
       "      <td>0.0</td>\n",
       "    </tr>\n",
       "    <tr>\n",
       "      <th>3</th>\n",
       "      <td>ISIC_0024309</td>\n",
       "      <td>0.0</td>\n",
       "      <td>1.0</td>\n",
       "      <td>0.0</td>\n",
       "      <td>0.0</td>\n",
       "      <td>0.0</td>\n",
       "      <td>0.0</td>\n",
       "      <td>0.0</td>\n",
       "    </tr>\n",
       "    <tr>\n",
       "      <th>4</th>\n",
       "      <td>ISIC_0024310</td>\n",
       "      <td>1.0</td>\n",
       "      <td>0.0</td>\n",
       "      <td>0.0</td>\n",
       "      <td>0.0</td>\n",
       "      <td>0.0</td>\n",
       "      <td>0.0</td>\n",
       "      <td>0.0</td>\n",
       "    </tr>\n",
       "    <tr>\n",
       "      <th>5</th>\n",
       "      <td>ISIC_0024311</td>\n",
       "      <td>0.0</td>\n",
       "      <td>1.0</td>\n",
       "      <td>0.0</td>\n",
       "      <td>0.0</td>\n",
       "      <td>0.0</td>\n",
       "      <td>0.0</td>\n",
       "      <td>0.0</td>\n",
       "    </tr>\n",
       "    <tr>\n",
       "      <th>6</th>\n",
       "      <td>ISIC_0024312</td>\n",
       "      <td>0.0</td>\n",
       "      <td>0.0</td>\n",
       "      <td>0.0</td>\n",
       "      <td>0.0</td>\n",
       "      <td>1.0</td>\n",
       "      <td>0.0</td>\n",
       "      <td>0.0</td>\n",
       "    </tr>\n",
       "    <tr>\n",
       "      <th>7</th>\n",
       "      <td>ISIC_0024313</td>\n",
       "      <td>1.0</td>\n",
       "      <td>0.0</td>\n",
       "      <td>0.0</td>\n",
       "      <td>0.0</td>\n",
       "      <td>0.0</td>\n",
       "      <td>0.0</td>\n",
       "      <td>0.0</td>\n",
       "    </tr>\n",
       "    <tr>\n",
       "      <th>8</th>\n",
       "      <td>ISIC_0024314</td>\n",
       "      <td>0.0</td>\n",
       "      <td>1.0</td>\n",
       "      <td>0.0</td>\n",
       "      <td>0.0</td>\n",
       "      <td>0.0</td>\n",
       "      <td>0.0</td>\n",
       "      <td>0.0</td>\n",
       "    </tr>\n",
       "    <tr>\n",
       "      <th>9</th>\n",
       "      <td>ISIC_0024315</td>\n",
       "      <td>1.0</td>\n",
       "      <td>0.0</td>\n",
       "      <td>0.0</td>\n",
       "      <td>0.0</td>\n",
       "      <td>0.0</td>\n",
       "      <td>0.0</td>\n",
       "      <td>0.0</td>\n",
       "    </tr>\n",
       "    <tr>\n",
       "      <th>10</th>\n",
       "      <td>ISIC_0024316</td>\n",
       "      <td>0.0</td>\n",
       "      <td>1.0</td>\n",
       "      <td>0.0</td>\n",
       "      <td>0.0</td>\n",
       "      <td>0.0</td>\n",
       "      <td>0.0</td>\n",
       "      <td>0.0</td>\n",
       "    </tr>\n",
       "    <tr>\n",
       "      <th>11</th>\n",
       "      <td>ISIC_0024317</td>\n",
       "      <td>0.0</td>\n",
       "      <td>1.0</td>\n",
       "      <td>0.0</td>\n",
       "      <td>0.0</td>\n",
       "      <td>0.0</td>\n",
       "      <td>0.0</td>\n",
       "      <td>0.0</td>\n",
       "    </tr>\n",
       "    <tr>\n",
       "      <th>12</th>\n",
       "      <td>ISIC_0024318</td>\n",
       "      <td>0.0</td>\n",
       "      <td>0.0</td>\n",
       "      <td>0.0</td>\n",
       "      <td>0.0</td>\n",
       "      <td>0.0</td>\n",
       "      <td>1.0</td>\n",
       "      <td>0.0</td>\n",
       "    </tr>\n",
       "    <tr>\n",
       "      <th>13</th>\n",
       "      <td>ISIC_0024319</td>\n",
       "      <td>0.0</td>\n",
       "      <td>1.0</td>\n",
       "      <td>0.0</td>\n",
       "      <td>0.0</td>\n",
       "      <td>0.0</td>\n",
       "      <td>0.0</td>\n",
       "      <td>0.0</td>\n",
       "    </tr>\n",
       "    <tr>\n",
       "      <th>14</th>\n",
       "      <td>ISIC_0024320</td>\n",
       "      <td>0.0</td>\n",
       "      <td>1.0</td>\n",
       "      <td>0.0</td>\n",
       "      <td>0.0</td>\n",
       "      <td>0.0</td>\n",
       "      <td>0.0</td>\n",
       "      <td>0.0</td>\n",
       "    </tr>\n",
       "  </tbody>\n",
       "</table>\n",
       "</div>"
      ],
      "text/plain": [
       "           image  MEL   NV  BCC  AKIEC  BKL   DF  VASC\n",
       "0   ISIC_0024306  0.0  1.0  0.0    0.0  0.0  0.0   0.0\n",
       "1   ISIC_0024307  0.0  1.0  0.0    0.0  0.0  0.0   0.0\n",
       "2   ISIC_0024308  0.0  1.0  0.0    0.0  0.0  0.0   0.0\n",
       "3   ISIC_0024309  0.0  1.0  0.0    0.0  0.0  0.0   0.0\n",
       "4   ISIC_0024310  1.0  0.0  0.0    0.0  0.0  0.0   0.0\n",
       "5   ISIC_0024311  0.0  1.0  0.0    0.0  0.0  0.0   0.0\n",
       "6   ISIC_0024312  0.0  0.0  0.0    0.0  1.0  0.0   0.0\n",
       "7   ISIC_0024313  1.0  0.0  0.0    0.0  0.0  0.0   0.0\n",
       "8   ISIC_0024314  0.0  1.0  0.0    0.0  0.0  0.0   0.0\n",
       "9   ISIC_0024315  1.0  0.0  0.0    0.0  0.0  0.0   0.0\n",
       "10  ISIC_0024316  0.0  1.0  0.0    0.0  0.0  0.0   0.0\n",
       "11  ISIC_0024317  0.0  1.0  0.0    0.0  0.0  0.0   0.0\n",
       "12  ISIC_0024318  0.0  0.0  0.0    0.0  0.0  1.0   0.0\n",
       "13  ISIC_0024319  0.0  1.0  0.0    0.0  0.0  0.0   0.0\n",
       "14  ISIC_0024320  0.0  1.0  0.0    0.0  0.0  0.0   0.0"
      ]
     },
     "execution_count": 14,
     "metadata": {},
     "output_type": "execute_result"
    }
   ],
   "source": [
    "df.head(15)"
   ]
  },
  {
   "cell_type": "code",
   "execution_count": 103,
   "id": "85c5293d",
   "metadata": {},
   "outputs": [],
   "source": [
    "row = list(df.iloc[12])"
   ]
  },
  {
   "cell_type": "code",
   "execution_count": 104,
   "id": "08fb382b",
   "metadata": {},
   "outputs": [],
   "source": [
    "del row[0]"
   ]
  },
  {
   "cell_type": "code",
   "execution_count": 105,
   "id": "8fabda3f",
   "metadata": {},
   "outputs": [],
   "source": [
    "index = np.argmax(row)"
   ]
  },
  {
   "cell_type": "code",
   "execution_count": 106,
   "id": "6122f6aa",
   "metadata": {},
   "outputs": [],
   "source": [
    "index=np.argmax(row)"
   ]
  },
  {
   "cell_type": "code",
   "execution_count": 107,
   "id": "8fff7874",
   "metadata": {},
   "outputs": [
    {
     "data": {
      "text/plain": [
       "5"
      ]
     },
     "execution_count": 107,
     "metadata": {},
     "output_type": "execute_result"
    }
   ],
   "source": [
    "index\n"
   ]
  },
  {
   "cell_type": "code",
   "execution_count": 108,
   "id": "733b867a",
   "metadata": {},
   "outputs": [],
   "source": [
    "label=labels[index]\n",
    "label_list.append(label)"
   ]
  },
  {
   "cell_type": "code",
   "execution_count": 109,
   "id": "e1218567",
   "metadata": {},
   "outputs": [
    {
     "data": {
      "text/plain": [
       "['MEL', 'DF']"
      ]
     },
     "execution_count": 109,
     "metadata": {},
     "output_type": "execute_result"
    }
   ],
   "source": [
    "label_list"
   ]
  },
  {
   "cell_type": "markdown",
   "id": "9ad1fa8a-3fd1-4912-a601-e2d8d4f872b1",
   "metadata": {},
   "source": [
    "### Algoritmo aplicado"
   ]
  },
  {
   "cell_type": "code",
   "execution_count": 14,
   "id": "5a9c867f",
   "metadata": {},
   "outputs": [
    {
     "name": "stdout",
     "output_type": "stream",
     "text": [
      "          image label\n",
      "0  ISIC_0024306    NV\n",
      "1  ISIC_0024307    NV\n",
      "2  ISIC_0024308    NV\n",
      "3  ISIC_0024309    NV\n",
      "4  ISIC_0024310   MEL\n"
     ]
    }
   ],
   "source": [
    "labels=['MEL', 'NV', 'BCC', 'AKIEC', 'BKL', 'DF', 'VASC']\n",
    "label_list=[]\n",
    "for i in range (len(df)):\n",
    "    row= list(df.iloc[i])\n",
    "    del row[0]\n",
    "    index=np.argmax(row)\n",
    "    label=labels[index]\n",
    "    label_list.append(label)\n",
    "df['label']= label_list\n",
    "df=df.drop(labels, axis=1)\n",
    "print (df.head())"
   ]
  },
  {
   "cell_type": "code",
   "execution_count": null,
   "id": "8c2f7784-90f6-49a0-a2c9-a777f6f7c92f",
   "metadata": {},
   "outputs": [],
   "source": []
  },
  {
   "cell_type": "markdown",
   "id": "c8f197e0-3eb4-4dd2-b50f-9f01be00e36a",
   "metadata": {},
   "source": [
    "### **Separando os dados para validação e teste por cada classe**"
   ]
  },
  {
   "cell_type": "code",
   "execution_count": 15,
   "id": "062dc53d",
   "metadata": {},
   "outputs": [
    {
     "name": "stdout",
     "output_type": "stream",
     "text": [
      " train_df length:  9514   test_df length:  251   valid_df length:  250\n",
      "             image label\n",
      "3231  ISIC_0027537    NV\n",
      "7927  ISIC_0032233    NV\n",
      "6141  ISIC_0030447    NV\n",
      "5967  ISIC_0030273    NV\n",
      "7336  ISIC_0031642   MEL\n",
      "NV       6384\n",
      "MEL      1053\n",
      "BKL      1035\n",
      "BCC       488\n",
      "AKIEC     309\n",
      "VASC      138\n",
      "DF        107\n",
      "Name: label, dtype: int64\n"
     ]
    }
   ],
   "source": [
    "train_split=.95 \n",
    "valid_split=.025 \n",
    "\n",
    "dummy_split=valid_split/(1-train_split)\n",
    "train_df, dummy_df= train_test_split(df, train_size=train_split, shuffle=True, random_state=123)\n",
    "valid_df, test_df= train_test_split(dummy_df, train_size=dummy_split, shuffle=True, random_state=123)\n",
    "\n",
    "print(' train_df length: ', len(train_df), '  test_df length: ', len(test_df), '  valid_df length: ', len(valid_df))  \n",
    "print (train_df.head())\n",
    "print (train_df['label'].value_counts())"
   ]
  },
  {
   "cell_type": "code",
   "execution_count": 71,
   "id": "2a82259b-4cf7-4030-8a93-cb29e9ad888f",
   "metadata": {},
   "outputs": [
    {
     "data": {
      "text/plain": [
       "(9514, 2)"
      ]
     },
     "execution_count": 71,
     "metadata": {},
     "output_type": "execute_result"
    }
   ],
   "source": [
    "#X = np.array([train_df[0]])\n",
    "train_df.shape"
   ]
  },
  {
   "cell_type": "markdown",
   "id": "6bb8ee62",
   "metadata": {},
   "source": [
    "### Balanceando o numero de imagens por cada classe"
   ]
  },
  {
   "cell_type": "code",
   "execution_count": 18,
   "id": "b0004511",
   "metadata": {},
   "outputs": [
    {
     "name": "stdout",
     "output_type": "stream",
     "text": [
      "5410\n",
      "final number of classes:  7\n",
      "NV       2100\n",
      "MEL      1113\n",
      "BKL      1099\n",
      "BCC       514\n",
      "AKIEC     327\n",
      "VASC      142\n",
      "DF        115\n",
      "Name: label, dtype: int64\n"
     ]
    }
   ],
   "source": [
    "size=2100#numero de imagens por classe\n",
    "samples=[]\n",
    "group=df.groupby('label')\n",
    "for label in df['label'].unique():\n",
    "    Lgroup=group.get_group(label)\n",
    "    count=int(Lgroup['label'].value_counts())    \n",
    "    if count>=size:\n",
    "        sample=Lgroup.sample(size, axis=0)        \n",
    "    else:        \n",
    "        sample=Lgroup.sample(frac=1, axis=0)\n",
    "    samples.append(sample) \n",
    "train_df=pd.concat(samples, axis=0).reset_index(drop=True)\n",
    "print (len(train_df))\n",
    "print ('final number of classes: ', len(train_df['label'].unique()))       \n",
    "print (train_df['label'].value_counts())  "
   ]
  },
  {
   "cell_type": "code",
   "execution_count": 19,
   "id": "cb60fdc7-215b-45cb-882a-10c29bd41a1b",
   "metadata": {},
   "outputs": [
    {
     "name": "stdout",
     "output_type": "stream",
     "text": [
      "final number of classes:  7\n",
      "NV       163\n",
      "MEL       35\n",
      "BKL       30\n",
      "BCC       10\n",
      "AKIEC      7\n",
      "VASC       3\n",
      "DF         3\n",
      "Name: label, dtype: int64\n",
      "final number of classes:  7\n",
      "NV       158\n",
      "BKL       34\n",
      "MEL       25\n",
      "BCC       16\n",
      "AKIEC     11\n",
      "DF         5\n",
      "VASC       1\n",
      "Name: label, dtype: int64\n"
     ]
    }
   ],
   "source": [
    "print ('final number of classes: ', len(test_df['label'].unique()))       \n",
    "print (test_df['label'].value_counts())  \n",
    "print ('final number of classes: ', len(valid_df['label'].unique()))       \n",
    "print (valid_df['label'].value_counts())  "
   ]
  },
  {
   "cell_type": "markdown",
   "id": "b7657d22-54f1-4ccc-9b28-39fa1e86e12c",
   "metadata": {},
   "source": [
    "### Gerando CSV manipulado"
   ]
  },
  {
   "cell_type": "code",
   "execution_count": 20,
   "id": "1e008a56-4c44-4962-8299-921056648ab2",
   "metadata": {},
   "outputs": [],
   "source": [
    "valid_df.to_csv(\"validation.csv\")\n",
    "test_df.to_csv(\"test.csv\")\n",
    "train_df.to_csv(\"train.csv\")"
   ]
  },
  {
   "cell_type": "markdown",
   "id": "f2ec694d-0574-4972-a50e-4cc9afe94e31",
   "metadata": {},
   "source": [
    "**Celulas sem funcionalidade no momento**"
   ]
  },
  {
   "cell_type": "code",
   "execution_count": 132,
   "id": "501f56be",
   "metadata": {},
   "outputs": [
    {
     "name": "stdout",
     "output_type": "stream",
     "text": [
      "test batch size:  1   test steps:  251\n",
      "Found 0 validated image filenames belonging to 0 classes.\n",
      "Found 0 validated image filenames belonging to 0 classes.\n",
      "Found 0 validated image filenames belonging to 0 classes.\n"
     ]
    },
    {
     "name": "stderr",
     "output_type": "stream",
     "text": [
      "C:\\Users\\iuryc\\miniconda3\\envs\\env_pdi\\lib\\site-packages\\keras_preprocessing\\image\\dataframe_iterator.py:279: UserWarning: Found 1757 invalid image filename(s) in x_col=\"image\". These filename(s) will be ignored.\n",
      "  warnings.warn(\n",
      "C:\\Users\\iuryc\\miniconda3\\envs\\env_pdi\\lib\\site-packages\\keras_preprocessing\\image\\dataframe_iterator.py:279: UserWarning: Found 251 invalid image filename(s) in x_col=\"image\". These filename(s) will be ignored.\n",
      "  warnings.warn(\n",
      "C:\\Users\\iuryc\\miniconda3\\envs\\env_pdi\\lib\\site-packages\\keras_preprocessing\\image\\dataframe_iterator.py:279: UserWarning: Found 250 invalid image filename(s) in x_col=\"image\". These filename(s) will be ignored.\n",
      "  warnings.warn(\n"
     ]
    }
   ],
   "source": [
    "sdir='/images' \n",
    "height=224  # image height\n",
    "width=224   # image width\n",
    "channels=3  # number of coloor channels\n",
    "batch_size= 40  # model batch size for training and evaluation\n",
    "img_shape=(height, width, channels)\n",
    "img_size=(height, width)\n",
    "\n",
    "# code below determines test generator batch size and steps so that test_batch_size X test_steps = number of test samples\n",
    "# ensures that for predictions you go through the test set exactly once\n",
    "length=len(test_df)\n",
    "test_batch_size=sorted([int(length/n) for n in range(1,length+1) if length % n ==0 and length/n<=80],reverse=True)[0]  \n",
    "test_steps=int(length/test_batch_size)\n",
    "print ( 'test batch size: ' ,test_batch_size, '  test steps: ', test_steps)\n",
    "#\n",
    "def scalar(img): # unused for efficientnet model\n",
    "    return img/127.5-1  # scale pixel between -1 and +1\n",
    "gen=ImageDataGenerator() # no scaling of pixels is need for efficientnet\n",
    "train_gen=gen.flow_from_dataframe( train_df, sdir, x_col='image', y_col='label', target_size=img_size, class_mode='categorical',\n",
    "                                    color_mode='rgb', shuffle=True, batch_size=batch_size)\n",
    "test_gen=gen.flow_from_dataframe( test_df, sdir, x_col='image', y_col='label', target_size=img_size, class_mode='categorical',\n",
    "                                    color_mode='rgb', shuffle=False, batch_size=test_batch_size)\n",
    "valid_gen=gen.flow_from_dataframe( valid_df, sdir, x_col='image', y_col='label', target_size=img_size, class_mode='categorical',\n",
    "                                    color_mode='rgb', shuffle=True, batch_size=batch_size)\n",
    "\n",
    "classes=list(train_gen.class_indices.keys())\n",
    "\n",
    "class_count=len(classes)\n",
    "train_steps=int(len(train_gen.labels)/batch_size)"
   ]
  },
  {
   "cell_type": "code",
   "execution_count": 122,
   "id": "0461789c",
   "metadata": {},
   "outputs": [],
   "source": [
    "def show_image_samples(gen ):\n",
    "    test_dict=test_gen.class_indices\n",
    "    classes=list(test_dict.keys())    \n",
    "    images,labels=next(gen) # get a sample batch from the generator \n",
    "    plt.figure(figsize=(20, 20))\n",
    "    length=len(labels)\n",
    "    if length<25:   #show maximum of 25 images\n",
    "        r=length\n",
    "    else:\n",
    "        r=25\n",
    "    for i in range(r):\n",
    "        plt.subplot(5, 5, i + 1)\n",
    "        image=images[i]/255 # scale images between 0 and 1 becaue no preprocessing scaling was done for efficientnet\n",
    "        plt.imshow(image)\n",
    "        index=np.argmax(labels[i])\n",
    "        class_name=classes[index]\n",
    "        plt.title(class_name, color='blue', fontsize=16)\n",
    "        plt.axis('off')\n",
    "    plt.show()"
   ]
  },
  {
   "cell_type": "code",
   "execution_count": 123,
   "id": "7101a957",
   "metadata": {},
   "outputs": [
    {
     "ename": "NameError",
     "evalue": "name 'test_gen' is not defined",
     "output_type": "error",
     "traceback": [
      "\u001b[1;31m---------------------------------------------------------------------------\u001b[0m",
      "\u001b[1;31mNameError\u001b[0m                                 Traceback (most recent call last)",
      "Input \u001b[1;32mIn [123]\u001b[0m, in \u001b[0;36m<module>\u001b[1;34m\u001b[0m\n\u001b[1;32m----> 1\u001b[0m im \u001b[38;5;241m=\u001b[39m \u001b[43mshow_image_samples\u001b[49m\u001b[43m(\u001b[49m\u001b[43mtrain_gen\u001b[49m\u001b[43m)\u001b[49m\n",
      "Input \u001b[1;32mIn [122]\u001b[0m, in \u001b[0;36mshow_image_samples\u001b[1;34m(gen)\u001b[0m\n\u001b[0;32m      1\u001b[0m \u001b[38;5;28;01mdef\u001b[39;00m \u001b[38;5;21mshow_image_samples\u001b[39m(gen ):\n\u001b[1;32m----> 2\u001b[0m     test_dict\u001b[38;5;241m=\u001b[39m\u001b[43mtest_gen\u001b[49m\u001b[38;5;241m.\u001b[39mclass_indices\n\u001b[0;32m      3\u001b[0m     classes\u001b[38;5;241m=\u001b[39m\u001b[38;5;28mlist\u001b[39m(test_dict\u001b[38;5;241m.\u001b[39mkeys())    \n\u001b[0;32m      4\u001b[0m     images,labels\u001b[38;5;241m=\u001b[39m\u001b[38;5;28mnext\u001b[39m(gen) \u001b[38;5;66;03m# get a sample batch from the generator \u001b[39;00m\n",
      "\u001b[1;31mNameError\u001b[0m: name 'test_gen' is not defined"
     ]
    }
   ],
   "source": [
    "im = show_image_samples(train_gen)"
   ]
  },
  {
   "cell_type": "markdown",
   "id": "6a287633-ab3f-41a8-938a-35c4bf4157f7",
   "metadata": {},
   "source": [
    "**Continuando com a manipulação de dados**"
   ]
  },
  {
   "cell_type": "markdown",
   "id": "6a91c832-4a2a-4a6e-b20c-055e55e1fe53",
   "metadata": {},
   "source": [
    "### Gerando dados para treino"
   ]
  },
  {
   "cell_type": "code",
   "execution_count": 21,
   "id": "c7abd874-0002-4ba2-a616-f9584931eacc",
   "metadata": {},
   "outputs": [
    {
     "name": "stdout",
     "output_type": "stream",
     "text": [
      "Sucesso\n"
     ]
    }
   ],
   "source": [
    "import shutil\n",
    "import sys\n",
    "import os\n",
    "labels = pd.read_csv(r'train.csv')\n",
    "\n",
    "train_directory = r'images'\n",
    "DR = r'DR_train2'\n",
    "cont = 0\n",
    "if not os.path.exists(DR):\n",
    "    os.mkdir(DR)\n",
    "    \n",
    "for _, filename, class_name  in labels.values:\n",
    "    \n",
    "    if not os.path.exists(DR + '/' + str(class_name)):\n",
    "        os.mkdir(DR + '/' + str(class_name))\n",
    "    src_path = train_directory + '/' + filename +'.jpg'\n",
    "    dst_path = DR + '/' + str(class_name) + '/' + filename +'.jpg'\n",
    "    try:\n",
    "        cont +=1\n",
    "        shutil.copy(src_path, dst_path)\n",
    "        if(cont == labels.shape[0]):\n",
    "            print('Sucesso')\n",
    "    except IOError as e:\n",
    "        print('Unable to copy {} to {}' .format(src_path, dst_path))\n",
    "    except:\n",
    "        print('Whe try to copy {} to {}, unexpected error: {}'.format(src_path, dst_path, sys.exc_info()))"
   ]
  },
  {
   "cell_type": "markdown",
   "id": "70d8bdc8-32d3-4892-a582-0023f172fa29",
   "metadata": {},
   "source": [
    "### Gerando dados para teste"
   ]
  },
  {
   "cell_type": "code",
   "execution_count": 22,
   "id": "12a7d953-668d-47d6-9113-4a8809435029",
   "metadata": {},
   "outputs": [
    {
     "name": "stdout",
     "output_type": "stream",
     "text": [
      "Sucesso\n"
     ]
    }
   ],
   "source": [
    "import shutil\n",
    "import sys\n",
    "import os\n",
    "labels = pd.read_csv(r'test.csv')\n",
    "\n",
    "train_directory = r'images'\n",
    "DR = r'DR_test2'\n",
    "cont = 0\n",
    "if not os.path.exists(DR):\n",
    "    os.mkdir(DR)\n",
    "    \n",
    "for _, filename, class_name  in labels.values:\n",
    "    \n",
    "    if not os.path.exists(DR + '/' + str(class_name)):\n",
    "        os.mkdir(DR + '/' + str(class_name))\n",
    "    src_path = train_directory + '/' + filename + '.jpg'\n",
    "    dst_path = DR + '/'  + str(class_name) + '/' + filename + '.jpg'\n",
    "    try:\n",
    "        cont +=1\n",
    "        shutil.copy(src_path, dst_path)\n",
    "        if(cont == labels.shape[0]):\n",
    "            print('Sucesso')\n",
    "    except IOError as e:\n",
    "        print('Unable to copy {} to {}' .format(src_path, dst_path))\n",
    "    except:\n",
    "        print('Whe try to copy {} to {}, unexpected error: {}'.format(src_path, dst_path, sys.exc_info()))\n",
    "    "
   ]
  },
  {
   "cell_type": "markdown",
   "id": "b8947137-afeb-464e-ab90-9bd993cefc5a",
   "metadata": {},
   "source": [
    "### Gerando dados para validação"
   ]
  },
  {
   "cell_type": "code",
   "execution_count": 23,
   "id": "dfe53573-e074-489b-b667-56f749d90909",
   "metadata": {},
   "outputs": [
    {
     "name": "stdout",
     "output_type": "stream",
     "text": [
      "Sucesso\n"
     ]
    }
   ],
   "source": [
    "import shutil\n",
    "import sys\n",
    "import os\n",
    "labels = pd.read_csv(r'validation.csv')\n",
    "\n",
    "train_directory = r'images'\n",
    "DR = r'DR_validation2'\n",
    "cont = 0\n",
    "if not os.path.exists(DR):\n",
    "    os.mkdir(DR)\n",
    "    \n",
    "for _, filename, class_name  in labels.values:\n",
    "    \n",
    "    if not os.path.exists(DR + '/' + str(class_name)):\n",
    "        os.mkdir(DR + '/' + str(class_name))\n",
    "    src_path = train_directory + '/' + filename +'.jpg'\n",
    "    dst_path = DR + '/' + str(class_name) + '/' + filename +'.jpg'\n",
    "    try:\n",
    "        cont +=1\n",
    "        shutil.copy(src_path, dst_path)\n",
    "        if(cont == labels.shape[0]):\n",
    "            print('Sucesso')\n",
    "    except IOError as e:\n",
    "        print('Unable to copy {} to {}' .format(src_path, dst_path))\n",
    "    except:\n",
    "        print('Whe try to copy {} to {}, unexpected error: {}'.format(src_path, dst_path, sys.exc_info()))"
   ]
  },
  {
   "cell_type": "code",
   "execution_count": 77,
   "id": "0ec65712-f64d-49ac-bfd6-a3cf6a5206e6",
   "metadata": {},
   "outputs": [
    {
     "data": {
      "text/plain": [
       "NV       6384\n",
       "MEL      1053\n",
       "BKL      1035\n",
       "BCC       488\n",
       "AKIEC     309\n",
       "VASC      138\n",
       "DF        107\n",
       "Name: label, dtype: int64"
      ]
     },
     "execution_count": 77,
     "metadata": {},
     "output_type": "execute_result"
    }
   ],
   "source": [
    "X = train_df[\"image\"]\n",
    "y = train_df[\"label\"]\n",
    "y.value_counts()"
   ]
  },
  {
   "cell_type": "code",
   "execution_count": 61,
   "id": "66748798-8dd3-4065-a1e3-36df88cdfdb4",
   "metadata": {},
   "outputs": [],
   "source": [
    "import glob\n",
    "import cv2 \n",
    "def resize_img(dim,directory,formato, future_directory):\n",
    "    '''Dimensão, Diretório de origem, formato da imagem, diretório futuro'''\n",
    "    i = 1\n",
    "    for filename in glob.glob(directory + '/*'+ formato):\n",
    "        img = cv2.imread(filename)\n",
    "        image = cv2.resize(img, dim, interpolation = cv2.INTER_AREA)\n",
    "        cv2.imwrite('{}{}{}'.format(future_directory +'/',i,'.jpg'),image)\n",
    "        i+=1"
   ]
  },
  {
   "cell_type": "code",
   "execution_count": 62,
   "id": "17ba1706-d695-4dcc-8a7c-15d93539082a",
   "metadata": {},
   "outputs": [],
   "source": [
    "labels = ['MEL', 'NV', 'BCC', 'AKIEC', 'BKL', 'DF', 'VASC']\n",
    "i = 0\n",
    "for class_name in labels:\n",
    "    if not os.path.exists('DR_train/' + str(i) + 'modified'):\n",
    "        os.mkdir('DR_train/' + str(class_name) + 'modified')\n",
    "        dr = 'DR_train/' + str(class_name)\n",
    "        dr_future = 'DR_train/' + str(class_name) + 'modified'\n",
    "        resize_img((250,250), dr, '.jpg', dr_future)\n",
    "        i+=1\n",
    "    else:\n",
    "        i+=1\n",
    "        continue"
   ]
  },
  {
   "cell_type": "markdown",
   "id": "23352d5a-f175-4709-b2a7-6750bc8c79e0",
   "metadata": {},
   "source": [
    "### OverSampling"
   ]
  },
  {
   "cell_type": "code",
   "execution_count": 115,
   "id": "b0be47f7-c169-43ab-b337-59630199a21a",
   "metadata": {},
   "outputs": [],
   "source": [
    "# X : current_dataset\n",
    "# y : labels\n",
    "\n",
    "from imblearn.over_sampling import RandomOverSampler, SMOTE,ADASYN\n",
    "oversampling = RandomOverSampler()\n",
    "oversampled_X, oversampled_y  = oversampling.fit_resample(train_df , y)\n",
    "\n",
    "new_data = oversampled_X"
   ]
  },
  {
   "cell_type": "code",
   "execution_count": 116,
   "id": "3f46c756-83ad-4ea2-b632-b2afb3a41a12",
   "metadata": {},
   "outputs": [
    {
     "data": {
      "text/html": [
       "<div>\n",
       "<style scoped>\n",
       "    .dataframe tbody tr th:only-of-type {\n",
       "        vertical-align: middle;\n",
       "    }\n",
       "\n",
       "    .dataframe tbody tr th {\n",
       "        vertical-align: top;\n",
       "    }\n",
       "\n",
       "    .dataframe thead th {\n",
       "        text-align: right;\n",
       "    }\n",
       "</style>\n",
       "<table border=\"1\" class=\"dataframe\">\n",
       "  <thead>\n",
       "    <tr style=\"text-align: right;\">\n",
       "      <th></th>\n",
       "      <th>image</th>\n",
       "      <th>label</th>\n",
       "    </tr>\n",
       "  </thead>\n",
       "  <tbody>\n",
       "    <tr>\n",
       "      <th>0</th>\n",
       "      <td>ISIC_0027537.jpg</td>\n",
       "      <td>NV</td>\n",
       "    </tr>\n",
       "    <tr>\n",
       "      <th>1</th>\n",
       "      <td>ISIC_0032233.jpg</td>\n",
       "      <td>NV</td>\n",
       "    </tr>\n",
       "    <tr>\n",
       "      <th>2</th>\n",
       "      <td>ISIC_0030447.jpg</td>\n",
       "      <td>NV</td>\n",
       "    </tr>\n",
       "    <tr>\n",
       "      <th>3</th>\n",
       "      <td>ISIC_0030273.jpg</td>\n",
       "      <td>NV</td>\n",
       "    </tr>\n",
       "    <tr>\n",
       "      <th>4</th>\n",
       "      <td>ISIC_0031642.jpg</td>\n",
       "      <td>MEL</td>\n",
       "    </tr>\n",
       "    <tr>\n",
       "      <th>...</th>\n",
       "      <td>...</td>\n",
       "      <td>...</td>\n",
       "    </tr>\n",
       "    <tr>\n",
       "      <th>95</th>\n",
       "      <td>ISIC_0031725.jpg</td>\n",
       "      <td>NV</td>\n",
       "    </tr>\n",
       "    <tr>\n",
       "      <th>96</th>\n",
       "      <td>ISIC_0027850.jpg</td>\n",
       "      <td>BKL</td>\n",
       "    </tr>\n",
       "    <tr>\n",
       "      <th>97</th>\n",
       "      <td>ISIC_0030362.jpg</td>\n",
       "      <td>NV</td>\n",
       "    </tr>\n",
       "    <tr>\n",
       "      <th>98</th>\n",
       "      <td>ISIC_0033796.jpg</td>\n",
       "      <td>NV</td>\n",
       "    </tr>\n",
       "    <tr>\n",
       "      <th>99</th>\n",
       "      <td>ISIC_0033948.jpg</td>\n",
       "      <td>NV</td>\n",
       "    </tr>\n",
       "  </tbody>\n",
       "</table>\n",
       "<p>100 rows × 2 columns</p>\n",
       "</div>"
      ],
      "text/plain": [
       "               image label\n",
       "0   ISIC_0027537.jpg    NV\n",
       "1   ISIC_0032233.jpg    NV\n",
       "2   ISIC_0030447.jpg    NV\n",
       "3   ISIC_0030273.jpg    NV\n",
       "4   ISIC_0031642.jpg   MEL\n",
       "..               ...   ...\n",
       "95  ISIC_0031725.jpg    NV\n",
       "96  ISIC_0027850.jpg   BKL\n",
       "97  ISIC_0030362.jpg    NV\n",
       "98  ISIC_0033796.jpg    NV\n",
       "99  ISIC_0033948.jpg    NV\n",
       "\n",
       "[100 rows x 2 columns]"
      ]
     },
     "execution_count": 116,
     "metadata": {},
     "output_type": "execute_result"
    }
   ],
   "source": [
    "new_data.head(100)"
   ]
  },
  {
   "cell_type": "code",
   "execution_count": 104,
   "id": "54ec74a3-8625-492e-8531-53447cd02c24",
   "metadata": {},
   "outputs": [
    {
     "data": {
      "text/plain": [
       "NV       6384\n",
       "MEL      6384\n",
       "BCC      6384\n",
       "BKL      6384\n",
       "AKIEC    6384\n",
       "DF       6384\n",
       "VASC     6384\n",
       "Name: label, dtype: int64"
      ]
     },
     "execution_count": 104,
     "metadata": {},
     "output_type": "execute_result"
    }
   ],
   "source": [
    "new_X['label'].value_counts()"
   ]
  },
  {
   "cell_type": "code",
   "execution_count": null,
   "id": "d96f70ed-444a-4d3e-b644-a4f20e2ac148",
   "metadata": {},
   "outputs": [],
   "source": []
  }
 ],
 "metadata": {
  "kernelspec": {
   "display_name": "Python 3 (ipykernel)",
   "language": "python",
   "name": "python3"
  },
  "language_info": {
   "codemirror_mode": {
    "name": "ipython",
    "version": 3
   },
   "file_extension": ".py",
   "mimetype": "text/x-python",
   "name": "python",
   "nbconvert_exporter": "python",
   "pygments_lexer": "ipython3",
   "version": "3.9.7"
  }
 },
 "nbformat": 4,
 "nbformat_minor": 5
}
