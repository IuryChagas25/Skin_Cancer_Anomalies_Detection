{
 "cells": [
  {
   "cell_type": "code",
   "execution_count": 6,
   "metadata": {
    "id": "txY7trV3y6tN"
   },
   "outputs": [],
   "source": [
    "import os                                             # Operational System para manipulação de arquivos.\n",
    "import cv2                                            # OpenCV para manipulação de imagens.\n",
    "import random\n",
    "import numpy as np                                    # Numpy para manipulação de matrizes e arrays.\n",
    "import matplotlib.pyplot as plt                       # Pyplot para plotagem de gráficos e imagens.\n",
    "from sklearn.metrics import confusion_matrix          # Scikit-Learn para plotar a matriz de confusão\n",
    "import seaborn as sn\n",
    "import pandas as pd\n",
    "import tensorflow as tf\n",
    "from tensorflow.keras import layers                   # Módulo de camadas do Keras\n",
    "from tensorflow.keras import callbacks                # Módulo de callbacks do Keras\n",
    "from tensorflow.keras import optimizers               # Módulo de otimizadores do Keras\n",
    "from tensorflow.keras.models import load_model        # Função para carregar um modelo salvo\n",
    "from tensorflow.keras.models import Sequential        # Classe de modelos sequenciais para construir as redes neurais.\n",
    "from tensorflow.keras.applications import VGG16       # Rede pre treinada (VGG16)\n",
    "\n",
    "#from google_drive_downloader import GoogleDriveDownloader as gdd\n",
    "\n",
    "# ImageDataGenerator, utilizado para carregar imagens em tempo de execução\n",
    "from tensorflow.keras.preprocessing.image import ImageDataGenerator"
   ]
  },
  {
   "cell_type": "code",
   "execution_count": null,
   "metadata": {
    "colab": {
     "base_uri": "https://localhost:8080/"
    },
    "id": "js-u59Xx0E5a",
    "outputId": "fe3d0c46-962f-404d-d2e8-5470e0e7dfb8"
   },
   "outputs": [
    {
     "name": "stdout",
     "output_type": "stream",
     "text": [
      "Mounted at /content/drive\n"
     ]
    }
   ],
   "source": [
    "from google.colab import drive\n",
    "drive.mount(\"/content/drive\")"
   ]
  },
  {
   "cell_type": "code",
   "execution_count": 11,
   "metadata": {
    "colab": {
     "base_uri": "https://localhost:8080/"
    },
    "id": "Tj0w8I2O0QKR",
    "outputId": "85a00ce7-f5d4-4489-cd4c-8d85bac0c567"
   },
   "outputs": [
    {
     "name": "stdout",
     "output_type": "stream",
     "text": [
      "Found 530 images belonging to 7 classes.\n"
     ]
    }
   ],
   "source": [
    "val_datagen   = ImageDataGenerator( rescale = 1./255 )\n",
    "val_generator = val_datagen.flow_from_directory(\"DR_validation_aumentada/DR_validation_aumentada\", target_size = (250, 250),\n",
    "                                                 batch_size  = 64)"
   ]
  },
  {
   "cell_type": "code",
   "execution_count": 12,
   "metadata": {
    "colab": {
     "base_uri": "https://localhost:8080/"
    },
    "id": "EZMAX84r0d4B",
    "outputId": "151dbdf9-d402-418f-8989-65e1731db9ab"
   },
   "outputs": [
    {
     "name": "stdout",
     "output_type": "stream",
     "text": [
      "530 amostras detectadas\n",
      "Mapeamento Classes -> Índices: {'AKIECaugumentaded': 0, 'BCCaugumentaded': 1, 'BKLaugumentaded': 2, 'DFaugumentaded': 3, 'MELaugumentaded': 4, 'NVaugumentaded': 5, 'VASCaugumentaded': 6}\n",
      "Mapeamento Índices -> Classes: {0: 'AKIECaugumentaded', 1: 'BCCaugumentaded', 2: 'BKLaugumentaded', 3: 'DFaugumentaded', 4: 'MELaugumentaded', 5: 'NVaugumentaded', 6: 'VASCaugumentaded'}\n"
     ]
    }
   ],
   "source": [
    "# Atributo do generator que fornece o número de amostras detectadas\n",
    "val_samples = val_generator.samples \n",
    "print(val_samples, \"amostras detectadas\")\n",
    "\n",
    "# Atributo do generator que fornece o mapeamento de classe para índice \n",
    "# Repare que os índices são definidos pelo generator com base nos diretórios de arquivos em ordem alfabética\n",
    "class_to_idx_dict = val_generator.class_indices\n",
    "print( \"Mapeamento Classes -> Índices:\", class_to_idx_dict )\n",
    "\n",
    "# Construção de um novo dicionário que inverte o mapeamento\n",
    "idx_to_class_dict = { v: k for k, v in class_to_idx_dict.items() }\n",
    "print( \"Mapeamento Índices -> Classes:\", idx_to_class_dict )"
   ]
  },
  {
   "cell_type": "code",
   "execution_count": 64,
   "metadata": {
    "colab": {
     "base_uri": "https://localhost:8080/"
    },
    "id": "Jh9lajBY0gYW",
    "outputId": "ebac55ad-1761-4d1d-81d5-823fdf4d1acd"
   },
   "outputs": [
    {
     "name": "stdout",
     "output_type": "stream",
     "text": [
      "Found 16387 images belonging to 7 classes.\n",
      "16387\n"
     ]
    }
   ],
   "source": [
    "train_datagen = ImageDataGenerator( rescale = 1./255 )\n",
    "train_generator = train_datagen.flow_from_directory(\n",
    "    \"DR_train_aumentada/DR_train_aumentada\", target_size = (250, 250),\n",
    "    batch_size  = 64)\n",
    "\n",
    "\n",
    "# Atributo do generator que fornece o número de amostras detectadas\n",
    "train_samples = train_generator.samples \n",
    "print(train_samples)"
   ]
  },
  {
   "cell_type": "code",
   "execution_count": 101,
   "metadata": {
    "colab": {
     "base_uri": "https://localhost:8080/"
    },
    "id": "lEPLySfZ0-BV",
    "outputId": "4212ced3-294d-4b48-d3ee-64d20d76366e"
   },
   "outputs": [
    {
     "name": "stdout",
     "output_type": "stream",
     "text": [
      "Found 482 images belonging to 7 classes.\n"
     ]
    }
   ],
   "source": [
    "test_datagen   = ImageDataGenerator( rescale = 1./255 )\n",
    "test_generator = test_datagen.flow_from_directory(\"DR_test_aumentada/DR_test_aumentada\", target_size = (250, 250),\n",
    "                                                   batch_size  = 64, shuffle = False)\n",
    "batch_size = 64"
   ]
  },
  {
   "cell_type": "code",
   "execution_count": 108,
   "metadata": {
    "colab": {
     "base_uri": "https://localhost:8080/"
    },
    "id": "EK6jT6yV1E5g",
    "outputId": "6ffffe25-4f8d-4c44-a9db-9a6c42042d8f"
   },
   "outputs": [
    {
     "name": "stdout",
     "output_type": "stream",
     "text": [
      "Model: \"vgg16\"\n",
      "_________________________________________________________________\n",
      " Layer (type)                Output Shape              Param #   \n",
      "=================================================================\n",
      " input_11 (InputLayer)       [(None, 250, 250, 3)]     0         \n",
      "                                                                 \n",
      " block1_conv1 (Conv2D)       (None, 250, 250, 64)      1792      \n",
      "                                                                 \n",
      " block1_conv2 (Conv2D)       (None, 250, 250, 64)      36928     \n",
      "                                                                 \n",
      " block1_pool (MaxPooling2D)  (None, 125, 125, 64)      0         \n",
      "                                                                 \n",
      " block2_conv1 (Conv2D)       (None, 125, 125, 128)     73856     \n",
      "                                                                 \n",
      " block2_conv2 (Conv2D)       (None, 125, 125, 128)     147584    \n",
      "                                                                 \n",
      " block2_pool (MaxPooling2D)  (None, 62, 62, 128)       0         \n",
      "                                                                 \n",
      " block3_conv1 (Conv2D)       (None, 62, 62, 256)       295168    \n",
      "                                                                 \n",
      " block3_conv2 (Conv2D)       (None, 62, 62, 256)       590080    \n",
      "                                                                 \n",
      " block3_conv3 (Conv2D)       (None, 62, 62, 256)       590080    \n",
      "                                                                 \n",
      " block3_pool (MaxPooling2D)  (None, 31, 31, 256)       0         \n",
      "                                                                 \n",
      " block4_conv1 (Conv2D)       (None, 31, 31, 512)       1180160   \n",
      "                                                                 \n",
      " block4_conv2 (Conv2D)       (None, 31, 31, 512)       2359808   \n",
      "                                                                 \n",
      " block4_conv3 (Conv2D)       (None, 31, 31, 512)       2359808   \n",
      "                                                                 \n",
      " block4_pool (MaxPooling2D)  (None, 15, 15, 512)       0         \n",
      "                                                                 \n",
      " block5_conv1 (Conv2D)       (None, 15, 15, 512)       2359808   \n",
      "                                                                 \n",
      " block5_conv2 (Conv2D)       (None, 15, 15, 512)       2359808   \n",
      "                                                                 \n",
      " block5_conv3 (Conv2D)       (None, 15, 15, 512)       2359808   \n",
      "                                                                 \n",
      " block5_pool (MaxPooling2D)  (None, 7, 7, 512)         0         \n",
      "                                                                 \n",
      "=================================================================\n",
      "Total params: 14,714,688\n",
      "Trainable params: 14,714,688\n",
      "Non-trainable params: 0\n",
      "_________________________________________________________________\n",
      "None\n"
     ]
    }
   ],
   "source": [
    "def print_vgg16_summary( shape ):\n",
    "    conv_base = VGG16(include_top = False, weights = \"imagenet\", input_shape = shape)\n",
    "    print( conv_base.summary() )\n",
    "    return\n",
    "\n",
    "print_vgg16_summary( shape = (250, 250, 3) )"
   ]
  },
  {
   "cell_type": "code",
   "execution_count": 67,
   "metadata": {
    "id": "lWU3Ndc-7yqr"
   },
   "outputs": [],
   "source": [
    "def print_mobilenetv2_summary( shape ):\n",
    "    mobilebase = tf.keras.applications.MobileNetV2(input_shape=shape,alpha=1.0,include_top= False, weights=\"imagenet\",\n",
    "                                                    input_tensor=None,pooling=None,classes=1000,classifier_activation=\"softmax\")\n",
    "    print(mobilebase.summary())\n",
    "    return"
   ]
  },
  {
   "cell_type": "code",
   "execution_count": 51,
   "metadata": {
    "colab": {
     "base_uri": "https://localhost:8080/"
    },
    "collapsed": true,
    "id": "r7i1wNGF82Ih",
    "jupyter": {
     "outputs_hidden": true
    },
    "outputId": "1457ce9f-0bc0-4a68-b411-66fb30be2007",
    "tags": []
   },
   "outputs": [
    {
     "name": "stdout",
     "output_type": "stream",
     "text": [
      "WARNING:tensorflow:`input_shape` is undefined or non-square, or `rows` is not in [96, 128, 160, 192, 224]. Weights for input shape (224, 224) will be loaded as the default.\n",
      "Model: \"mobilenetv2_1.00_224\"\n",
      "__________________________________________________________________________________________________\n",
      " Layer (type)                   Output Shape         Param #     Connected to                     \n",
      "==================================================================================================\n",
      " input_6 (InputLayer)           [(None, 250, 250, 3  0           []                               \n",
      "                                )]                                                                \n",
      "                                                                                                  \n",
      " Conv1 (Conv2D)                 (None, 125, 125, 32  864         ['input_6[0][0]']                \n",
      "                                )                                                                 \n",
      "                                                                                                  \n",
      " bn_Conv1 (BatchNormalization)  (None, 125, 125, 32  128         ['Conv1[0][0]']                  \n",
      "                                )                                                                 \n",
      "                                                                                                  \n",
      " Conv1_relu (ReLU)              (None, 125, 125, 32  0           ['bn_Conv1[0][0]']               \n",
      "                                )                                                                 \n",
      "                                                                                                  \n",
      " expanded_conv_depthwise (Depth  (None, 125, 125, 32  288        ['Conv1_relu[0][0]']             \n",
      " wiseConv2D)                    )                                                                 \n",
      "                                                                                                  \n",
      " expanded_conv_depthwise_BN (Ba  (None, 125, 125, 32  128        ['expanded_conv_depthwise[0][0]']\n",
      " tchNormalization)              )                                                                 \n",
      "                                                                                                  \n",
      " expanded_conv_depthwise_relu (  (None, 125, 125, 32  0          ['expanded_conv_depthwise_BN[0][0\n",
      " ReLU)                          )                                ]']                              \n",
      "                                                                                                  \n",
      " expanded_conv_project (Conv2D)  (None, 125, 125, 16  512        ['expanded_conv_depthwise_relu[0]\n",
      "                                )                                [0]']                            \n",
      "                                                                                                  \n",
      " expanded_conv_project_BN (Batc  (None, 125, 125, 16  64         ['expanded_conv_project[0][0]']  \n",
      " hNormalization)                )                                                                 \n",
      "                                                                                                  \n",
      " block_1_expand (Conv2D)        (None, 125, 125, 96  1536        ['expanded_conv_project_BN[0][0]'\n",
      "                                )                                ]                                \n",
      "                                                                                                  \n",
      " block_1_expand_BN (BatchNormal  (None, 125, 125, 96  384        ['block_1_expand[0][0]']         \n",
      " ization)                       )                                                                 \n",
      "                                                                                                  \n",
      " block_1_expand_relu (ReLU)     (None, 125, 125, 96  0           ['block_1_expand_BN[0][0]']      \n",
      "                                )                                                                 \n",
      "                                                                                                  \n",
      " block_1_pad (ZeroPadding2D)    (None, 127, 127, 96  0           ['block_1_expand_relu[0][0]']    \n",
      "                                )                                                                 \n",
      "                                                                                                  \n",
      " block_1_depthwise (DepthwiseCo  (None, 63, 63, 96)  864         ['block_1_pad[0][0]']            \n",
      " nv2D)                                                                                            \n",
      "                                                                                                  \n",
      " block_1_depthwise_BN (BatchNor  (None, 63, 63, 96)  384         ['block_1_depthwise[0][0]']      \n",
      " malization)                                                                                      \n",
      "                                                                                                  \n",
      " block_1_depthwise_relu (ReLU)  (None, 63, 63, 96)   0           ['block_1_depthwise_BN[0][0]']   \n",
      "                                                                                                  \n",
      " block_1_project (Conv2D)       (None, 63, 63, 24)   2304        ['block_1_depthwise_relu[0][0]'] \n",
      "                                                                                                  \n",
      " block_1_project_BN (BatchNorma  (None, 63, 63, 24)  96          ['block_1_project[0][0]']        \n",
      " lization)                                                                                        \n",
      "                                                                                                  \n",
      " block_2_expand (Conv2D)        (None, 63, 63, 144)  3456        ['block_1_project_BN[0][0]']     \n",
      "                                                                                                  \n",
      " block_2_expand_BN (BatchNormal  (None, 63, 63, 144)  576        ['block_2_expand[0][0]']         \n",
      " ization)                                                                                         \n",
      "                                                                                                  \n",
      " block_2_expand_relu (ReLU)     (None, 63, 63, 144)  0           ['block_2_expand_BN[0][0]']      \n",
      "                                                                                                  \n",
      " block_2_depthwise (DepthwiseCo  (None, 63, 63, 144)  1296       ['block_2_expand_relu[0][0]']    \n",
      " nv2D)                                                                                            \n",
      "                                                                                                  \n",
      " block_2_depthwise_BN (BatchNor  (None, 63, 63, 144)  576        ['block_2_depthwise[0][0]']      \n",
      " malization)                                                                                      \n",
      "                                                                                                  \n",
      " block_2_depthwise_relu (ReLU)  (None, 63, 63, 144)  0           ['block_2_depthwise_BN[0][0]']   \n",
      "                                                                                                  \n",
      " block_2_project (Conv2D)       (None, 63, 63, 24)   3456        ['block_2_depthwise_relu[0][0]'] \n",
      "                                                                                                  \n",
      " block_2_project_BN (BatchNorma  (None, 63, 63, 24)  96          ['block_2_project[0][0]']        \n",
      " lization)                                                                                        \n",
      "                                                                                                  \n",
      " block_2_add (Add)              (None, 63, 63, 24)   0           ['block_1_project_BN[0][0]',     \n",
      "                                                                  'block_2_project_BN[0][0]']     \n",
      "                                                                                                  \n",
      " block_3_expand (Conv2D)        (None, 63, 63, 144)  3456        ['block_2_add[0][0]']            \n",
      "                                                                                                  \n",
      " block_3_expand_BN (BatchNormal  (None, 63, 63, 144)  576        ['block_3_expand[0][0]']         \n",
      " ization)                                                                                         \n",
      "                                                                                                  \n",
      " block_3_expand_relu (ReLU)     (None, 63, 63, 144)  0           ['block_3_expand_BN[0][0]']      \n",
      "                                                                                                  \n",
      " block_3_pad (ZeroPadding2D)    (None, 65, 65, 144)  0           ['block_3_expand_relu[0][0]']    \n",
      "                                                                                                  \n",
      " block_3_depthwise (DepthwiseCo  (None, 32, 32, 144)  1296       ['block_3_pad[0][0]']            \n",
      " nv2D)                                                                                            \n",
      "                                                                                                  \n",
      " block_3_depthwise_BN (BatchNor  (None, 32, 32, 144)  576        ['block_3_depthwise[0][0]']      \n",
      " malization)                                                                                      \n",
      "                                                                                                  \n",
      " block_3_depthwise_relu (ReLU)  (None, 32, 32, 144)  0           ['block_3_depthwise_BN[0][0]']   \n",
      "                                                                                                  \n",
      " block_3_project (Conv2D)       (None, 32, 32, 32)   4608        ['block_3_depthwise_relu[0][0]'] \n",
      "                                                                                                  \n",
      " block_3_project_BN (BatchNorma  (None, 32, 32, 32)  128         ['block_3_project[0][0]']        \n",
      " lization)                                                                                        \n",
      "                                                                                                  \n",
      " block_4_expand (Conv2D)        (None, 32, 32, 192)  6144        ['block_3_project_BN[0][0]']     \n",
      "                                                                                                  \n",
      " block_4_expand_BN (BatchNormal  (None, 32, 32, 192)  768        ['block_4_expand[0][0]']         \n",
      " ization)                                                                                         \n",
      "                                                                                                  \n",
      " block_4_expand_relu (ReLU)     (None, 32, 32, 192)  0           ['block_4_expand_BN[0][0]']      \n",
      "                                                                                                  \n",
      " block_4_depthwise (DepthwiseCo  (None, 32, 32, 192)  1728       ['block_4_expand_relu[0][0]']    \n",
      " nv2D)                                                                                            \n",
      "                                                                                                  \n",
      " block_4_depthwise_BN (BatchNor  (None, 32, 32, 192)  768        ['block_4_depthwise[0][0]']      \n",
      " malization)                                                                                      \n",
      "                                                                                                  \n",
      " block_4_depthwise_relu (ReLU)  (None, 32, 32, 192)  0           ['block_4_depthwise_BN[0][0]']   \n",
      "                                                                                                  \n",
      " block_4_project (Conv2D)       (None, 32, 32, 32)   6144        ['block_4_depthwise_relu[0][0]'] \n",
      "                                                                                                  \n",
      " block_4_project_BN (BatchNorma  (None, 32, 32, 32)  128         ['block_4_project[0][0]']        \n",
      " lization)                                                                                        \n",
      "                                                                                                  \n",
      " block_4_add (Add)              (None, 32, 32, 32)   0           ['block_3_project_BN[0][0]',     \n",
      "                                                                  'block_4_project_BN[0][0]']     \n",
      "                                                                                                  \n",
      " block_5_expand (Conv2D)        (None, 32, 32, 192)  6144        ['block_4_add[0][0]']            \n",
      "                                                                                                  \n",
      " block_5_expand_BN (BatchNormal  (None, 32, 32, 192)  768        ['block_5_expand[0][0]']         \n",
      " ization)                                                                                         \n",
      "                                                                                                  \n",
      " block_5_expand_relu (ReLU)     (None, 32, 32, 192)  0           ['block_5_expand_BN[0][0]']      \n",
      "                                                                                                  \n",
      " block_5_depthwise (DepthwiseCo  (None, 32, 32, 192)  1728       ['block_5_expand_relu[0][0]']    \n",
      " nv2D)                                                                                            \n",
      "                                                                                                  \n",
      " block_5_depthwise_BN (BatchNor  (None, 32, 32, 192)  768        ['block_5_depthwise[0][0]']      \n",
      " malization)                                                                                      \n",
      "                                                                                                  \n",
      " block_5_depthwise_relu (ReLU)  (None, 32, 32, 192)  0           ['block_5_depthwise_BN[0][0]']   \n",
      "                                                                                                  \n",
      " block_5_project (Conv2D)       (None, 32, 32, 32)   6144        ['block_5_depthwise_relu[0][0]'] \n",
      "                                                                                                  \n",
      " block_5_project_BN (BatchNorma  (None, 32, 32, 32)  128         ['block_5_project[0][0]']        \n",
      " lization)                                                                                        \n",
      "                                                                                                  \n",
      " block_5_add (Add)              (None, 32, 32, 32)   0           ['block_4_add[0][0]',            \n",
      "                                                                  'block_5_project_BN[0][0]']     \n",
      "                                                                                                  \n",
      " block_6_expand (Conv2D)        (None, 32, 32, 192)  6144        ['block_5_add[0][0]']            \n",
      "                                                                                                  \n",
      " block_6_expand_BN (BatchNormal  (None, 32, 32, 192)  768        ['block_6_expand[0][0]']         \n",
      " ization)                                                                                         \n",
      "                                                                                                  \n",
      " block_6_expand_relu (ReLU)     (None, 32, 32, 192)  0           ['block_6_expand_BN[0][0]']      \n",
      "                                                                                                  \n",
      " block_6_pad (ZeroPadding2D)    (None, 33, 33, 192)  0           ['block_6_expand_relu[0][0]']    \n",
      "                                                                                                  \n",
      " block_6_depthwise (DepthwiseCo  (None, 16, 16, 192)  1728       ['block_6_pad[0][0]']            \n",
      " nv2D)                                                                                            \n",
      "                                                                                                  \n",
      " block_6_depthwise_BN (BatchNor  (None, 16, 16, 192)  768        ['block_6_depthwise[0][0]']      \n",
      " malization)                                                                                      \n",
      "                                                                                                  \n",
      " block_6_depthwise_relu (ReLU)  (None, 16, 16, 192)  0           ['block_6_depthwise_BN[0][0]']   \n",
      "                                                                                                  \n",
      " block_6_project (Conv2D)       (None, 16, 16, 64)   12288       ['block_6_depthwise_relu[0][0]'] \n",
      "                                                                                                  \n",
      " block_6_project_BN (BatchNorma  (None, 16, 16, 64)  256         ['block_6_project[0][0]']        \n",
      " lization)                                                                                        \n",
      "                                                                                                  \n",
      " block_7_expand (Conv2D)        (None, 16, 16, 384)  24576       ['block_6_project_BN[0][0]']     \n",
      "                                                                                                  \n",
      " block_7_expand_BN (BatchNormal  (None, 16, 16, 384)  1536       ['block_7_expand[0][0]']         \n",
      " ization)                                                                                         \n",
      "                                                                                                  \n",
      " block_7_expand_relu (ReLU)     (None, 16, 16, 384)  0           ['block_7_expand_BN[0][0]']      \n",
      "                                                                                                  \n",
      " block_7_depthwise (DepthwiseCo  (None, 16, 16, 384)  3456       ['block_7_expand_relu[0][0]']    \n",
      " nv2D)                                                                                            \n",
      "                                                                                                  \n",
      " block_7_depthwise_BN (BatchNor  (None, 16, 16, 384)  1536       ['block_7_depthwise[0][0]']      \n",
      " malization)                                                                                      \n",
      "                                                                                                  \n",
      " block_7_depthwise_relu (ReLU)  (None, 16, 16, 384)  0           ['block_7_depthwise_BN[0][0]']   \n",
      "                                                                                                  \n",
      " block_7_project (Conv2D)       (None, 16, 16, 64)   24576       ['block_7_depthwise_relu[0][0]'] \n",
      "                                                                                                  \n",
      " block_7_project_BN (BatchNorma  (None, 16, 16, 64)  256         ['block_7_project[0][0]']        \n",
      " lization)                                                                                        \n",
      "                                                                                                  \n",
      " block_7_add (Add)              (None, 16, 16, 64)   0           ['block_6_project_BN[0][0]',     \n",
      "                                                                  'block_7_project_BN[0][0]']     \n",
      "                                                                                                  \n",
      " block_8_expand (Conv2D)        (None, 16, 16, 384)  24576       ['block_7_add[0][0]']            \n",
      "                                                                                                  \n",
      " block_8_expand_BN (BatchNormal  (None, 16, 16, 384)  1536       ['block_8_expand[0][0]']         \n",
      " ization)                                                                                         \n",
      "                                                                                                  \n",
      " block_8_expand_relu (ReLU)     (None, 16, 16, 384)  0           ['block_8_expand_BN[0][0]']      \n",
      "                                                                                                  \n",
      " block_8_depthwise (DepthwiseCo  (None, 16, 16, 384)  3456       ['block_8_expand_relu[0][0]']    \n",
      " nv2D)                                                                                            \n",
      "                                                                                                  \n",
      " block_8_depthwise_BN (BatchNor  (None, 16, 16, 384)  1536       ['block_8_depthwise[0][0]']      \n",
      " malization)                                                                                      \n",
      "                                                                                                  \n",
      " block_8_depthwise_relu (ReLU)  (None, 16, 16, 384)  0           ['block_8_depthwise_BN[0][0]']   \n",
      "                                                                                                  \n",
      " block_8_project (Conv2D)       (None, 16, 16, 64)   24576       ['block_8_depthwise_relu[0][0]'] \n",
      "                                                                                                  \n",
      " block_8_project_BN (BatchNorma  (None, 16, 16, 64)  256         ['block_8_project[0][0]']        \n",
      " lization)                                                                                        \n",
      "                                                                                                  \n",
      " block_8_add (Add)              (None, 16, 16, 64)   0           ['block_7_add[0][0]',            \n",
      "                                                                  'block_8_project_BN[0][0]']     \n",
      "                                                                                                  \n",
      " block_9_expand (Conv2D)        (None, 16, 16, 384)  24576       ['block_8_add[0][0]']            \n",
      "                                                                                                  \n",
      " block_9_expand_BN (BatchNormal  (None, 16, 16, 384)  1536       ['block_9_expand[0][0]']         \n",
      " ization)                                                                                         \n",
      "                                                                                                  \n",
      " block_9_expand_relu (ReLU)     (None, 16, 16, 384)  0           ['block_9_expand_BN[0][0]']      \n",
      "                                                                                                  \n",
      " block_9_depthwise (DepthwiseCo  (None, 16, 16, 384)  3456       ['block_9_expand_relu[0][0]']    \n",
      " nv2D)                                                                                            \n",
      "                                                                                                  \n",
      " block_9_depthwise_BN (BatchNor  (None, 16, 16, 384)  1536       ['block_9_depthwise[0][0]']      \n",
      " malization)                                                                                      \n",
      "                                                                                                  \n",
      " block_9_depthwise_relu (ReLU)  (None, 16, 16, 384)  0           ['block_9_depthwise_BN[0][0]']   \n",
      "                                                                                                  \n",
      " block_9_project (Conv2D)       (None, 16, 16, 64)   24576       ['block_9_depthwise_relu[0][0]'] \n",
      "                                                                                                  \n",
      " block_9_project_BN (BatchNorma  (None, 16, 16, 64)  256         ['block_9_project[0][0]']        \n",
      " lization)                                                                                        \n",
      "                                                                                                  \n",
      " block_9_add (Add)              (None, 16, 16, 64)   0           ['block_8_add[0][0]',            \n",
      "                                                                  'block_9_project_BN[0][0]']     \n",
      "                                                                                                  \n",
      " block_10_expand (Conv2D)       (None, 16, 16, 384)  24576       ['block_9_add[0][0]']            \n",
      "                                                                                                  \n",
      " block_10_expand_BN (BatchNorma  (None, 16, 16, 384)  1536       ['block_10_expand[0][0]']        \n",
      " lization)                                                                                        \n",
      "                                                                                                  \n",
      " block_10_expand_relu (ReLU)    (None, 16, 16, 384)  0           ['block_10_expand_BN[0][0]']     \n",
      "                                                                                                  \n",
      " block_10_depthwise (DepthwiseC  (None, 16, 16, 384)  3456       ['block_10_expand_relu[0][0]']   \n",
      " onv2D)                                                                                           \n",
      "                                                                                                  \n",
      " block_10_depthwise_BN (BatchNo  (None, 16, 16, 384)  1536       ['block_10_depthwise[0][0]']     \n",
      " rmalization)                                                                                     \n",
      "                                                                                                  \n",
      " block_10_depthwise_relu (ReLU)  (None, 16, 16, 384)  0          ['block_10_depthwise_BN[0][0]']  \n",
      "                                                                                                  \n",
      " block_10_project (Conv2D)      (None, 16, 16, 96)   36864       ['block_10_depthwise_relu[0][0]']\n",
      "                                                                                                  \n",
      " block_10_project_BN (BatchNorm  (None, 16, 16, 96)  384         ['block_10_project[0][0]']       \n",
      " alization)                                                                                       \n",
      "                                                                                                  \n",
      " block_11_expand (Conv2D)       (None, 16, 16, 576)  55296       ['block_10_project_BN[0][0]']    \n",
      "                                                                                                  \n",
      " block_11_expand_BN (BatchNorma  (None, 16, 16, 576)  2304       ['block_11_expand[0][0]']        \n",
      " lization)                                                                                        \n",
      "                                                                                                  \n",
      " block_11_expand_relu (ReLU)    (None, 16, 16, 576)  0           ['block_11_expand_BN[0][0]']     \n",
      "                                                                                                  \n",
      " block_11_depthwise (DepthwiseC  (None, 16, 16, 576)  5184       ['block_11_expand_relu[0][0]']   \n",
      " onv2D)                                                                                           \n",
      "                                                                                                  \n",
      " block_11_depthwise_BN (BatchNo  (None, 16, 16, 576)  2304       ['block_11_depthwise[0][0]']     \n",
      " rmalization)                                                                                     \n",
      "                                                                                                  \n",
      " block_11_depthwise_relu (ReLU)  (None, 16, 16, 576)  0          ['block_11_depthwise_BN[0][0]']  \n",
      "                                                                                                  \n",
      " block_11_project (Conv2D)      (None, 16, 16, 96)   55296       ['block_11_depthwise_relu[0][0]']\n",
      "                                                                                                  \n",
      " block_11_project_BN (BatchNorm  (None, 16, 16, 96)  384         ['block_11_project[0][0]']       \n",
      " alization)                                                                                       \n",
      "                                                                                                  \n",
      " block_11_add (Add)             (None, 16, 16, 96)   0           ['block_10_project_BN[0][0]',    \n",
      "                                                                  'block_11_project_BN[0][0]']    \n",
      "                                                                                                  \n",
      " block_12_expand (Conv2D)       (None, 16, 16, 576)  55296       ['block_11_add[0][0]']           \n",
      "                                                                                                  \n",
      " block_12_expand_BN (BatchNorma  (None, 16, 16, 576)  2304       ['block_12_expand[0][0]']        \n",
      " lization)                                                                                        \n",
      "                                                                                                  \n",
      " block_12_expand_relu (ReLU)    (None, 16, 16, 576)  0           ['block_12_expand_BN[0][0]']     \n",
      "                                                                                                  \n",
      " block_12_depthwise (DepthwiseC  (None, 16, 16, 576)  5184       ['block_12_expand_relu[0][0]']   \n",
      " onv2D)                                                                                           \n",
      "                                                                                                  \n",
      " block_12_depthwise_BN (BatchNo  (None, 16, 16, 576)  2304       ['block_12_depthwise[0][0]']     \n",
      " rmalization)                                                                                     \n",
      "                                                                                                  \n",
      " block_12_depthwise_relu (ReLU)  (None, 16, 16, 576)  0          ['block_12_depthwise_BN[0][0]']  \n",
      "                                                                                                  \n",
      " block_12_project (Conv2D)      (None, 16, 16, 96)   55296       ['block_12_depthwise_relu[0][0]']\n",
      "                                                                                                  \n",
      " block_12_project_BN (BatchNorm  (None, 16, 16, 96)  384         ['block_12_project[0][0]']       \n",
      " alization)                                                                                       \n",
      "                                                                                                  \n",
      " block_12_add (Add)             (None, 16, 16, 96)   0           ['block_11_add[0][0]',           \n",
      "                                                                  'block_12_project_BN[0][0]']    \n",
      "                                                                                                  \n",
      " block_13_expand (Conv2D)       (None, 16, 16, 576)  55296       ['block_12_add[0][0]']           \n",
      "                                                                                                  \n",
      " block_13_expand_BN (BatchNorma  (None, 16, 16, 576)  2304       ['block_13_expand[0][0]']        \n",
      " lization)                                                                                        \n",
      "                                                                                                  \n",
      " block_13_expand_relu (ReLU)    (None, 16, 16, 576)  0           ['block_13_expand_BN[0][0]']     \n",
      "                                                                                                  \n",
      " block_13_pad (ZeroPadding2D)   (None, 17, 17, 576)  0           ['block_13_expand_relu[0][0]']   \n",
      "                                                                                                  \n",
      " block_13_depthwise (DepthwiseC  (None, 8, 8, 576)   5184        ['block_13_pad[0][0]']           \n",
      " onv2D)                                                                                           \n",
      "                                                                                                  \n",
      " block_13_depthwise_BN (BatchNo  (None, 8, 8, 576)   2304        ['block_13_depthwise[0][0]']     \n",
      " rmalization)                                                                                     \n",
      "                                                                                                  \n",
      " block_13_depthwise_relu (ReLU)  (None, 8, 8, 576)   0           ['block_13_depthwise_BN[0][0]']  \n",
      "                                                                                                  \n",
      " block_13_project (Conv2D)      (None, 8, 8, 160)    92160       ['block_13_depthwise_relu[0][0]']\n",
      "                                                                                                  \n",
      " block_13_project_BN (BatchNorm  (None, 8, 8, 160)   640         ['block_13_project[0][0]']       \n",
      " alization)                                                                                       \n",
      "                                                                                                  \n",
      " block_14_expand (Conv2D)       (None, 8, 8, 960)    153600      ['block_13_project_BN[0][0]']    \n",
      "                                                                                                  \n",
      " block_14_expand_BN (BatchNorma  (None, 8, 8, 960)   3840        ['block_14_expand[0][0]']        \n",
      " lization)                                                                                        \n",
      "                                                                                                  \n",
      " block_14_expand_relu (ReLU)    (None, 8, 8, 960)    0           ['block_14_expand_BN[0][0]']     \n",
      "                                                                                                  \n",
      " block_14_depthwise (DepthwiseC  (None, 8, 8, 960)   8640        ['block_14_expand_relu[0][0]']   \n",
      " onv2D)                                                                                           \n",
      "                                                                                                  \n",
      " block_14_depthwise_BN (BatchNo  (None, 8, 8, 960)   3840        ['block_14_depthwise[0][0]']     \n",
      " rmalization)                                                                                     \n",
      "                                                                                                  \n",
      " block_14_depthwise_relu (ReLU)  (None, 8, 8, 960)   0           ['block_14_depthwise_BN[0][0]']  \n",
      "                                                                                                  \n",
      " block_14_project (Conv2D)      (None, 8, 8, 160)    153600      ['block_14_depthwise_relu[0][0]']\n",
      "                                                                                                  \n",
      " block_14_project_BN (BatchNorm  (None, 8, 8, 160)   640         ['block_14_project[0][0]']       \n",
      " alization)                                                                                       \n",
      "                                                                                                  \n",
      " block_14_add (Add)             (None, 8, 8, 160)    0           ['block_13_project_BN[0][0]',    \n",
      "                                                                  'block_14_project_BN[0][0]']    \n",
      "                                                                                                  \n",
      " block_15_expand (Conv2D)       (None, 8, 8, 960)    153600      ['block_14_add[0][0]']           \n",
      "                                                                                                  \n",
      " block_15_expand_BN (BatchNorma  (None, 8, 8, 960)   3840        ['block_15_expand[0][0]']        \n",
      " lization)                                                                                        \n",
      "                                                                                                  \n",
      " block_15_expand_relu (ReLU)    (None, 8, 8, 960)    0           ['block_15_expand_BN[0][0]']     \n",
      "                                                                                                  \n",
      " block_15_depthwise (DepthwiseC  (None, 8, 8, 960)   8640        ['block_15_expand_relu[0][0]']   \n",
      " onv2D)                                                                                           \n",
      "                                                                                                  \n",
      " block_15_depthwise_BN (BatchNo  (None, 8, 8, 960)   3840        ['block_15_depthwise[0][0]']     \n",
      " rmalization)                                                                                     \n",
      "                                                                                                  \n",
      " block_15_depthwise_relu (ReLU)  (None, 8, 8, 960)   0           ['block_15_depthwise_BN[0][0]']  \n",
      "                                                                                                  \n",
      " block_15_project (Conv2D)      (None, 8, 8, 160)    153600      ['block_15_depthwise_relu[0][0]']\n",
      "                                                                                                  \n",
      " block_15_project_BN (BatchNorm  (None, 8, 8, 160)   640         ['block_15_project[0][0]']       \n",
      " alization)                                                                                       \n",
      "                                                                                                  \n",
      " block_15_add (Add)             (None, 8, 8, 160)    0           ['block_14_add[0][0]',           \n",
      "                                                                  'block_15_project_BN[0][0]']    \n",
      "                                                                                                  \n",
      " block_16_expand (Conv2D)       (None, 8, 8, 960)    153600      ['block_15_add[0][0]']           \n",
      "                                                                                                  \n",
      " block_16_expand_BN (BatchNorma  (None, 8, 8, 960)   3840        ['block_16_expand[0][0]']        \n",
      " lization)                                                                                        \n",
      "                                                                                                  \n",
      " block_16_expand_relu (ReLU)    (None, 8, 8, 960)    0           ['block_16_expand_BN[0][0]']     \n",
      "                                                                                                  \n",
      " block_16_depthwise (DepthwiseC  (None, 8, 8, 960)   8640        ['block_16_expand_relu[0][0]']   \n",
      " onv2D)                                                                                           \n",
      "                                                                                                  \n",
      " block_16_depthwise_BN (BatchNo  (None, 8, 8, 960)   3840        ['block_16_depthwise[0][0]']     \n",
      " rmalization)                                                                                     \n",
      "                                                                                                  \n",
      " block_16_depthwise_relu (ReLU)  (None, 8, 8, 960)   0           ['block_16_depthwise_BN[0][0]']  \n",
      "                                                                                                  \n",
      " block_16_project (Conv2D)      (None, 8, 8, 320)    307200      ['block_16_depthwise_relu[0][0]']\n",
      "                                                                                                  \n",
      " block_16_project_BN (BatchNorm  (None, 8, 8, 320)   1280        ['block_16_project[0][0]']       \n",
      " alization)                                                                                       \n",
      "                                                                                                  \n",
      " Conv_1 (Conv2D)                (None, 8, 8, 1280)   409600      ['block_16_project_BN[0][0]']    \n",
      "                                                                                                  \n",
      " Conv_1_bn (BatchNormalization)  (None, 8, 8, 1280)  5120        ['Conv_1[0][0]']                 \n",
      "                                                                                                  \n",
      " out_relu (ReLU)                (None, 8, 8, 1280)   0           ['Conv_1_bn[0][0]']              \n",
      "                                                                                                  \n",
      "==================================================================================================\n",
      "Total params: 2,257,984\n",
      "Trainable params: 2,223,872\n",
      "Non-trainable params: 34,112\n",
      "__________________________________________________________________________________________________\n",
      "None\n"
     ]
    }
   ],
   "source": [
    "print_mobilenetv2_summary( shape = (250, 250, 3) )"
   ]
  },
  {
   "cell_type": "code",
   "execution_count": 119,
   "metadata": {
    "colab": {
     "base_uri": "https://localhost:8080/"
    },
    "id": "1zAhnhoB1NMa",
    "outputId": "793d6edf-96b0-4fd0-cec0-6edbe5ae196f"
   },
   "outputs": [
    {
     "name": "stdout",
     "output_type": "stream",
     "text": [
      "Model: \"sequential_7\"\n",
      "_________________________________________________________________\n",
      " Layer (type)                Output Shape              Param #   \n",
      "=================================================================\n",
      " vgg16 (Functional)          (None, 7, 7, 512)         14714688  \n",
      "                                                                 \n",
      " dropout_12 (Dropout)        (None, 7, 7, 512)         0         \n",
      "                                                                 \n",
      " flatten_7 (Flatten)         (None, 25088)             0         \n",
      "                                                                 \n",
      " dropout_13 (Dropout)        (None, 25088)             0         \n",
      "                                                                 \n",
      " dense_14 (Dense)            (None, 64)                1605696   \n",
      "                                                                 \n",
      " dense_15 (Dense)            (None, 7)                 455       \n",
      "                                                                 \n",
      "=================================================================\n",
      "Total params: 16,320,839\n",
      "Trainable params: 1,606,151\n",
      "Non-trainable params: 14,714,688\n",
      "_________________________________________________________________\n"
     ]
    }
   ],
   "source": [
    "def build_model( input_shape, n_outputs ):\n",
    "    # Base convolucional\n",
    "    conv_base = VGG16(include_top = False, weights = \"imagenet\", input_shape = input_shape)\n",
    "    conv_base.trainable = False\n",
    "    #mobilebase = tf.keras.applications.MobileNetV2(input_shape=input_shape,alpha=1.0,include_top= False, weights=\"imagenet\",\n",
    "                                                    #input_tensor=None,pooling=None,classes=1000,classifier_activation=\"softmax\")\n",
    "    #mobilebase.trainable = False\n",
    "    conv_base.trainable = False\n",
    "    rede = Sequential()\n",
    "    rede.add( conv_base )\n",
    "    rede.add( layers.Dropout( 0.50 ) )\n",
    "    rede.add( layers.Flatten() )\n",
    "    rede.add( layers.Dropout( 0.20 ) )\n",
    "    rede.add( layers.Dense( 64, activation = \"relu\" ) )\n",
    "    rede.add( layers.Dense(   7, activation = \"softmax\" ) )\n",
    "    \n",
    "    return rede\n",
    "\n",
    "model = build_model( (250, 250, 3), 1 )\n",
    "model.compile(optimizer=optimizers.Adam(lr=1e-4), \n",
    "              loss=\"categorical_crossentropy\", \n",
    "              metrics=[\"acc\"])\n",
    "model.summary()"
   ]
  },
  {
   "cell_type": "code",
   "execution_count": 120,
   "metadata": {
    "colab": {
     "base_uri": "https://localhost:8080/"
    },
    "id": "pvLU1tbw1S6j",
    "outputId": "43f7e3e1-9a49-445e-f71e-1ff54a010343"
   },
   "outputs": [
    {
     "name": "stdout",
     "output_type": "stream",
     "text": [
      "Camada 'input_13' - Status: Congelada - Entrada: [(None, 250, 250, 3)] - Saída: [(None, 250, 250, 3)]\n",
      "Camada 'block1_conv1' - Status: Congelada - Entrada: (None, 250, 250, 3) - Saída: (None, 250, 250, 64)\n",
      "Camada 'block1_conv2' - Status: Congelada - Entrada: (None, 250, 250, 64) - Saída: (None, 250, 250, 64)\n",
      "Camada 'block1_pool' - Status: Congelada - Entrada: (None, 250, 250, 64) - Saída: (None, 125, 125, 64)\n",
      "Camada 'block2_conv1' - Status: Congelada - Entrada: (None, 125, 125, 64) - Saída: (None, 125, 125, 128)\n",
      "Camada 'block2_conv2' - Status: Congelada - Entrada: (None, 125, 125, 128) - Saída: (None, 125, 125, 128)\n",
      "Camada 'block2_pool' - Status: Congelada - Entrada: (None, 125, 125, 128) - Saída: (None, 62, 62, 128)\n",
      "Camada 'block3_conv1' - Status: Congelada - Entrada: (None, 62, 62, 128) - Saída: (None, 62, 62, 256)\n",
      "Camada 'block3_conv2' - Status: Congelada - Entrada: (None, 62, 62, 256) - Saída: (None, 62, 62, 256)\n",
      "Camada 'block3_conv3' - Status: Congelada - Entrada: (None, 62, 62, 256) - Saída: (None, 62, 62, 256)\n",
      "Camada 'block3_pool' - Status: Congelada - Entrada: (None, 62, 62, 256) - Saída: (None, 31, 31, 256)\n",
      "Camada 'block4_conv1' - Status: Congelada - Entrada: (None, 31, 31, 256) - Saída: (None, 31, 31, 512)\n",
      "Camada 'block4_conv2' - Status: Congelada - Entrada: (None, 31, 31, 512) - Saída: (None, 31, 31, 512)\n",
      "Camada 'block4_conv3' - Status: Congelada - Entrada: (None, 31, 31, 512) - Saída: (None, 31, 31, 512)\n",
      "Camada 'block4_pool' - Status: Congelada - Entrada: (None, 31, 31, 512) - Saída: (None, 15, 15, 512)\n",
      "Camada 'block5_conv1' - Status: Congelada - Entrada: (None, 15, 15, 512) - Saída: (None, 15, 15, 512)\n",
      "Camada 'block5_conv2' - Status: Congelada - Entrada: (None, 15, 15, 512) - Saída: (None, 15, 15, 512)\n",
      "Camada 'block5_conv3' - Status: Congelada - Entrada: (None, 15, 15, 512) - Saída: (None, 15, 15, 512)\n",
      "Camada 'block5_pool' - Status: Congelada - Entrada: (None, 15, 15, 512) - Saída: (None, 7, 7, 512)\n"
     ]
    }
   ],
   "source": [
    "conv_base = model.get_layer(\"vgg16\")\n",
    "for layer in conv_base.layers:\n",
    "    status = \"Treinável\" if layer.trainable else \"Congelada\"\n",
    "    print(\"Camada '{}' - Status: {} - Entrada: {} - Saída: {}\".format(layer.name,\n",
    "                                                                      status, \n",
    "                                                                      layer.input_shape, \n",
    "                                                                      layer.output_shape))"
   ]
  },
  {
   "cell_type": "code",
   "execution_count": 123,
   "metadata": {
    "id": "K6a0DTWT5IYN"
   },
   "outputs": [],
   "source": [
    "model.trainable = True\n",
    "conv_base = model.get_layer(\"vgg16\")\n",
    "\n",
    "set_trainable = False\n",
    "for layer in conv_base.layers:\n",
    "    if layer.name == \"block5_conv1\":\n",
    "        set_trainable = True\n",
    "    layer.trainable = set_trainable"
   ]
  },
  {
   "cell_type": "code",
   "execution_count": 124,
   "metadata": {
    "colab": {
     "base_uri": "https://localhost:8080/"
    },
    "id": "WBde7g7h5K4B",
    "outputId": "60bb7e2d-c28c-4442-ded2-10a4ce165e68"
   },
   "outputs": [
    {
     "name": "stdout",
     "output_type": "stream",
     "text": [
      "Camada 'input_13' - Status: Congelada - Entrada: [(None, 250, 250, 3)] - Saída: [(None, 250, 250, 3)]\n",
      "Camada 'block1_conv1' - Status: Congelada - Entrada: (None, 250, 250, 3) - Saída: (None, 250, 250, 64)\n",
      "Camada 'block1_conv2' - Status: Congelada - Entrada: (None, 250, 250, 64) - Saída: (None, 250, 250, 64)\n",
      "Camada 'block1_pool' - Status: Congelada - Entrada: (None, 250, 250, 64) - Saída: (None, 125, 125, 64)\n",
      "Camada 'block2_conv1' - Status: Congelada - Entrada: (None, 125, 125, 64) - Saída: (None, 125, 125, 128)\n",
      "Camada 'block2_conv2' - Status: Congelada - Entrada: (None, 125, 125, 128) - Saída: (None, 125, 125, 128)\n",
      "Camada 'block2_pool' - Status: Congelada - Entrada: (None, 125, 125, 128) - Saída: (None, 62, 62, 128)\n",
      "Camada 'block3_conv1' - Status: Congelada - Entrada: (None, 62, 62, 128) - Saída: (None, 62, 62, 256)\n",
      "Camada 'block3_conv2' - Status: Congelada - Entrada: (None, 62, 62, 256) - Saída: (None, 62, 62, 256)\n",
      "Camada 'block3_conv3' - Status: Congelada - Entrada: (None, 62, 62, 256) - Saída: (None, 62, 62, 256)\n",
      "Camada 'block3_pool' - Status: Congelada - Entrada: (None, 62, 62, 256) - Saída: (None, 31, 31, 256)\n",
      "Camada 'block4_conv1' - Status: Congelada - Entrada: (None, 31, 31, 256) - Saída: (None, 31, 31, 512)\n",
      "Camada 'block4_conv2' - Status: Congelada - Entrada: (None, 31, 31, 512) - Saída: (None, 31, 31, 512)\n",
      "Camada 'block4_conv3' - Status: Congelada - Entrada: (None, 31, 31, 512) - Saída: (None, 31, 31, 512)\n",
      "Camada 'block4_pool' - Status: Congelada - Entrada: (None, 31, 31, 512) - Saída: (None, 15, 15, 512)\n",
      "Camada 'block5_conv1' - Status: Treinável - Entrada: (None, 15, 15, 512) - Saída: (None, 15, 15, 512)\n",
      "Camada 'block5_conv2' - Status: Treinável - Entrada: (None, 15, 15, 512) - Saída: (None, 15, 15, 512)\n",
      "Camada 'block5_conv3' - Status: Treinável - Entrada: (None, 15, 15, 512) - Saída: (None, 15, 15, 512)\n",
      "Camada 'block5_pool' - Status: Treinável - Entrada: (None, 15, 15, 512) - Saída: (None, 7, 7, 512)\n"
     ]
    }
   ],
   "source": [
    "for layer in conv_base.layers:\n",
    "    status = \"Treinável\" if layer.trainable else \"Congelada\"\n",
    "    print(\"Camada '{}' - Status: {} - Entrada: {} - Saída: {}\".format( layer.name,\n",
    "                                                                       status, \n",
    "                                                                       layer.input_shape, \n",
    "                                                                       layer.output_shape ))"
   ]
  },
  {
   "cell_type": "code",
   "execution_count": 125,
   "metadata": {
    "colab": {
     "base_uri": "https://localhost:8080/"
    },
    "id": "No9RH6DX1Xia",
    "outputId": "1013ce8e-cbc6-4abd-d601-e7a51d9c1967"
   },
   "outputs": [
    {
     "name": "stdout",
     "output_type": "stream",
     "text": [
      "Model: \"sequential_7\"\n",
      "_________________________________________________________________\n",
      " Layer (type)                Output Shape              Param #   \n",
      "=================================================================\n",
      " vgg16 (Functional)          (None, 7, 7, 512)         14714688  \n",
      "                                                                 \n",
      " dropout_12 (Dropout)        (None, 7, 7, 512)         0         \n",
      "                                                                 \n",
      " flatten_7 (Flatten)         (None, 25088)             0         \n",
      "                                                                 \n",
      " dropout_13 (Dropout)        (None, 25088)             0         \n",
      "                                                                 \n",
      " dense_14 (Dense)            (None, 64)                1605696   \n",
      "                                                                 \n",
      " dense_15 (Dense)            (None, 7)                 455       \n",
      "                                                                 \n",
      "=================================================================\n",
      "Total params: 16,320,839\n",
      "Trainable params: 8,685,575\n",
      "Non-trainable params: 7,635,264\n",
      "_________________________________________________________________\n"
     ]
    }
   ],
   "source": [
    "model.compile(optimizer=optimizers.Adam(learning_rate = 1e-5), \n",
    "              loss = \"categorical_crossentropy\", \n",
    "              metrics = [\"acc\"])\n",
    "\n",
    "model.summary()"
   ]
  },
  {
   "cell_type": "code",
   "execution_count": null,
   "metadata": {
    "id": "FuTd1b0c1Z-n"
   },
   "outputs": [],
   "source": [
    "ACCURACY_THRESHOLD = 0.90\n",
    "\n",
    "class myCallback(tf.keras.callbacks.Callback):\n",
    "    def on_epoch_end(self, epoch, logs={}):\n",
    "      if(logs.get('val_accuracy') > ACCURACY_THRESHOLD):\n",
    "          print(\"\\nReached %2.2f%% accuracy, so stopping training!!\" %(ACCURACY_THRESHOLD*100))\n",
    "          model.save(\"model2.h5\")\n",
    "          self.model.stop_training = True\n",
    "\n",
    "METRICS = [\n",
    "      tf.keras.metrics.BinaryAccuracy(name='accuracy'),\n",
    "      tf.keras.metrics.Precision(name='precision'),\n",
    "      tf.keras.metrics.Recall(name='recall'),  \n",
    "      tf.keras.metrics.AUC(name='auc')\n",
    "]\n",
    "callbacks = myCallback()\n",
    "model.compile(optimizer=optimizers.Adam(learning_rate=0.001), loss='categorical_crossentropy',metrics=METRICS)"
   ]
  },
  {
   "cell_type": "code",
   "execution_count": 126,
   "metadata": {
    "id": "Gr_2IznEAXNI"
   },
   "outputs": [],
   "source": [
    "model.compile(optimizer=optimizers.Adam(lr=1e-5), \n",
    "              loss=\"categorical_crossentropy\", \n",
    "              metrics=[\"acc\"])\n",
    "\n",
    "model_checkpoint = callbacks.ModelCheckpoint(\"model_ft.h5\", monitor = \"val_acc\", save_best_only = True, verbose = 1)\n",
    "reduce_lr_on_plateau = callbacks.ReduceLROnPlateau(monitor = \"val_acc\", factor = 0.75, patience = 3, verbose = 1)\n",
    "\n",
    "# Repare que ao utilizar mais de 1 callback elas devem ser organizadas em uma lista\n",
    "callback_list = [model_checkpoint, reduce_lr_on_plateau]"
   ]
  },
  {
   "cell_type": "code",
   "execution_count": null,
   "metadata": {
    "colab": {
     "background_save": true,
     "base_uri": "https://localhost:8080/"
    },
    "id": "VVXDgriP1jVt",
    "outputId": "48b5b2c1-43a6-4022-bba0-980066989544"
   },
   "outputs": [
    {
     "name": "stdout",
     "output_type": "stream",
     "text": [
      "Epoch 1/30\n",
      "257/257 [==============================] - ETA: 0s - loss: 1.8743 - acc: 0.2899\n",
      "Epoch 1: val_acc improved from -inf to 0.42830, saving model to model_ft.h5\n",
      "257/257 [==============================] - 107s 415ms/step - loss: 1.8743 - acc: 0.2899 - val_loss: 1.5958 - val_acc: 0.4283 - lr: 1.0000e-05\n",
      "Epoch 2/30\n",
      "257/257 [==============================] - ETA: 0s - loss: 1.4225 - acc: 0.4577\n",
      "Epoch 2: val_acc improved from 0.42830 to 0.47736, saving model to model_ft.h5\n",
      "257/257 [==============================] - 105s 408ms/step - loss: 1.4225 - acc: 0.4577 - val_loss: 1.3561 - val_acc: 0.4774 - lr: 1.0000e-05\n",
      "Epoch 3/30\n",
      "257/257 [==============================] - ETA: 0s - loss: 1.2215 - acc: 0.5360\n",
      "Epoch 3: val_acc improved from 0.47736 to 0.49245, saving model to model_ft.h5\n",
      "257/257 [==============================] - 105s 410ms/step - loss: 1.2215 - acc: 0.5360 - val_loss: 1.2975 - val_acc: 0.4925 - lr: 1.0000e-05\n",
      "Epoch 4/30\n",
      "257/257 [==============================] - ETA: 0s - loss: 1.1057 - acc: 0.5806\n",
      "Epoch 4: val_acc improved from 0.49245 to 0.50000, saving model to model_ft.h5\n",
      "257/257 [==============================] - 106s 412ms/step - loss: 1.1057 - acc: 0.5806 - val_loss: 1.2288 - val_acc: 0.5000 - lr: 1.0000e-05\n",
      "Epoch 5/30\n",
      "257/257 [==============================] - ETA: 0s - loss: 1.0271 - acc: 0.6074\n",
      "Epoch 5: val_acc improved from 0.50000 to 0.52830, saving model to model_ft.h5\n",
      "257/257 [==============================] - 107s 415ms/step - loss: 1.0271 - acc: 0.6074 - val_loss: 1.1305 - val_acc: 0.5283 - lr: 1.0000e-05\n",
      "Epoch 6/30\n",
      "257/257 [==============================] - ETA: 0s - loss: 0.9527 - acc: 0.6376\n",
      "Epoch 6: val_acc improved from 0.52830 to 0.59245, saving model to model_ft.h5\n",
      "257/257 [==============================] - 106s 413ms/step - loss: 0.9527 - acc: 0.6376 - val_loss: 1.0559 - val_acc: 0.5925 - lr: 1.0000e-05\n",
      "Epoch 7/30\n",
      "257/257 [==============================] - ETA: 0s - loss: 0.9002 - acc: 0.6602\n",
      "Epoch 7: val_acc improved from 0.59245 to 0.60189, saving model to model_ft.h5\n",
      "257/257 [==============================] - 107s 414ms/step - loss: 0.9002 - acc: 0.6602 - val_loss: 0.9959 - val_acc: 0.6019 - lr: 1.0000e-05\n",
      "Epoch 8/30\n",
      "257/257 [==============================] - ETA: 0s - loss: 0.8528 - acc: 0.6761\n",
      "Epoch 8: val_acc did not improve from 0.60189\n",
      "257/257 [==============================] - 108s 422ms/step - loss: 0.8528 - acc: 0.6761 - val_loss: 0.9846 - val_acc: 0.6019 - lr: 1.0000e-05\n",
      "Epoch 9/30\n",
      "257/257 [==============================] - ETA: 0s - loss: 0.8032 - acc: 0.7004\n",
      "Epoch 9: val_acc improved from 0.60189 to 0.62075, saving model to model_ft.h5\n",
      "257/257 [==============================] - 113s 440ms/step - loss: 0.8032 - acc: 0.7004 - val_loss: 0.9697 - val_acc: 0.6208 - lr: 1.0000e-05\n",
      "Epoch 10/30\n",
      "253/257 [============================>.] - ETA: 1s - loss: 0.7636 - acc: 0.7145"
     ]
    }
   ],
   "source": [
    "history = model.fit( train_generator,\n",
    "                     epochs = 30, callbacks = callback_list, \n",
    "                     validation_data = val_generator)\n",
    "model.load_weights(\"model_ft.h5\")\n",
    "\n",
    "history_dict = history.history\n",
    "#history=model.fit(train_generator,validation_data=val_generator,epochs = 10,callbacks=[callbacks],verbose = 1)"
   ]
  },
  {
   "cell_type": "code",
   "execution_count": 76,
   "metadata": {},
   "outputs": [
    {
     "data": {
      "text/plain": [
       "<matplotlib.legend.Legend at 0x23b89fc2f50>"
      ]
     },
     "execution_count": 76,
     "metadata": {},
     "output_type": "execute_result"
    },
    {
     "data": {
      "image/png": "[encoded data removed]",
      "text/plain": [
       "<Figure size 1600x800 with 2 Axes>"
      ]
     },
     "metadata": {},
     "output_type": "display_data"
    }
   ],
   "source": [
    "fig, axes = plt.subplots(1, 2, squeeze = False, figsize = (16,8))\n",
    "\n",
    "# Loss\n",
    "train_loss_values = history_dict[\"loss\"]\n",
    "val_loss_values = history_dict[\"val_loss\"]\n",
    "\n",
    "# Epochs\n",
    "epochs = range(1, len(train_loss_values) + 1)\n",
    "\n",
    "# Accuracy\n",
    "train_acc_values = history_dict[\"acc\"]\n",
    "val_acc_values = history_dict[\"val_acc\"]\n",
    "\n",
    "ax = axes.flat[0]\n",
    "ax.plot(epochs, train_loss_values, \"r\", label=\"Training loss\")\n",
    "ax.plot(epochs, val_loss_values, \"b\", label=\"Validation loss\")\n",
    "ax.set_title(\"Training and validation Loss\")\n",
    "ax.set_xlabel(\"Epochs\")\n",
    "ax.set_ylabel(\"Loss\")\n",
    "ax.legend()\n",
    "\n",
    "ax = axes.flat[1]\n",
    "ax.plot(epochs, train_acc_values, \"r\", label=\"Training acc\")\n",
    "ax.plot(epochs, val_acc_values, \"b\", label=\"Validation acc\")\n",
    "ax.set_title(\"Training and validation Accuracy\")\n",
    "ax.set_xlabel(\"Epochs\")\n",
    "ax.set_ylabel(\"Accuracy\")\n",
    "ax.legend()"
   ]
  },
  {
   "cell_type": "code",
   "execution_count": 77,
   "metadata": {},
   "outputs": [
    {
     "name": "stdout",
     "output_type": "stream",
     "text": [
      "8/8 [==============================] - 2s 322ms/step - loss: 0.8211 - acc: 0.7344\n",
      "Test Accuracy: 73.44398498535156 %\n",
      "Acertos: 354 - Erros: 128\n"
     ]
    }
   ],
   "source": [
    "test_samples = test_generator.samples\n",
    "\n",
    "test_loss, test_acc = model.evaluate( test_generator )\n",
    "\n",
    "print(\"Test Accuracy:\", 100*test_acc, \"%\")\n",
    "print(\"Acertos: {} - Erros: {}\".format(round(test_samples * test_acc), \n",
    "                                       round(test_samples * (1-test_acc) )))"
   ]
  }
 ],
 "metadata": {
  "accelerator": "GPU",
  "colab": {
   "provenance": []
  },
  "gpuClass": "standard",
  "kernelspec": {
   "display_name": "Python 3 (ipykernel)",
   "language": "python",
   "name": "python3"
  },
  "language_info": {
   "codemirror_mode": {
    "name": "ipython",
    "version": 3
   },
   "file_extension": ".py",
   "mimetype": "text/x-python",
   "name": "python",
   "nbconvert_exporter": "python",
   "pygments_lexer": "ipython3",
   "version": "3.10.4"
  }
 },
 "nbformat": 4,
 "nbformat_minor": 4
}
