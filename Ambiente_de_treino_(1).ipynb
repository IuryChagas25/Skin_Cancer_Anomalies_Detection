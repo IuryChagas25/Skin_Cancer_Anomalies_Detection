{
  "nbformat": 4,
  "nbformat_minor": 0,
  "metadata": {
    "colab": {
      "provenance": [],
      "collapsed_sections": [],
      "machine_shape": "hm"
    },
    "kernelspec": {
      "name": "python3",
      "display_name": "Python 3"
    },
    "language_info": {
      "name": "python"
    },
    "gpuClass": "premium",
    "accelerator": "GPU"
  },
  "cells": [
    {
      "cell_type": "code",
      "execution_count": null,
      "metadata": {
        "id": "txY7trV3y6tN"
      },
      "outputs": [],
      "source": [
        "import os                                             # Operational System para manipulação de arquivos.\n",
        "import cv2                                            # OpenCV para manipulação de imagens.\n",
        "import random\n",
        "import numpy as np                                    # Numpy para manipulação de matrizes e arrays.\n",
        "import matplotlib.pyplot as plt                       # Pyplot para plotagem de gráficos e imagens.\n",
        "from sklearn.metrics import confusion_matrix          # Scikit-Learn para plotar a matriz de confusão\n",
        "import seaborn as sn\n",
        "import pandas as pd\n",
        "import tensorflow as tf\n",
        "from tensorflow.keras import layers                   # Módulo de camadas do Keras\n",
        "from tensorflow.keras import callbacks                # Módulo de callbacks do Keras\n",
        "from tensorflow.keras import optimizers               # Módulo de otimizadores do Keras\n",
        "from tensorflow.keras.models import load_model        # Função para carregar um modelo salvo\n",
        "from tensorflow.keras.models import Sequential        # Classe de modelos sequenciais para construir as redes neurais.\n",
        "from tensorflow.keras.applications import VGG16       # Rede pre treinada (VGG16)\n",
        "\n",
        "from google_drive_downloader import GoogleDriveDownloader as gdd\n",
        "\n",
        "# ImageDataGenerator, utilizado para carregar imagens em tempo de execução\n",
        "from tensorflow.keras.preprocessing.image import ImageDataGenerator"
      ]
    },
    {
      "cell_type": "code",
      "source": [
        "from google.colab import drive\n",
        "drive.mount(\"/content/drive\")"
      ],
      "metadata": {
        "colab": {
          "base_uri": "https://localhost:8080/"
        },
        "id": "js-u59Xx0E5a",
        "outputId": "3c153c2a-304f-45c8-dee2-9b632c9f517d"
      },
      "execution_count": null,
      "outputs": [
        {
          "output_type": "stream",
          "name": "stdout",
          "text": [
            "Mounted at /content/drive\n"
          ]
        }
      ]
    },
    {
      "cell_type": "code",
      "source": [
        "!unzip \"/content/DR_test_aumentada.zip\""
      ],
      "metadata": {
        "id": "BlcstrZ5WdMI"
      },
      "execution_count": null,
      "outputs": []
    },
    {
      "cell_type": "code",
      "source": [
        "!unzip \"/content/DR_train_aumentada.zip\""
      ],
      "metadata": {
        "id": "0RRo7nSYayvl"
      },
      "execution_count": null,
      "outputs": []
    },
    {
      "cell_type": "code",
      "source": [
        "!unzip \"/content/DR_validation_aumentada.zip\""
      ],
      "metadata": {
        "id": "oxcIHvfXa86u"
      },
      "execution_count": null,
      "outputs": []
    },
    {
      "cell_type": "code",
      "source": [
        "hyperparameters  = {'input_height':250, 'input_width':250, 'input_channels':3, 'batchsize': 64}"
      ],
      "metadata": {
        "id": "k-qlgbGgRpzb"
      },
      "execution_count": null,
      "outputs": []
    },
    {
      "cell_type": "code",
      "source": [
        "partition = '/content/drive/MyDrive/skin cancer ham 10000 - dados/Trainmodified'"
      ],
      "metadata": {
        "id": "z3aJaw4Xi-J8"
      },
      "execution_count": null,
      "outputs": []
    },
    {
      "cell_type": "code",
      "source": [
        "class CustomDataGenerator(tf.keras.utils.Sequence):\n",
        "    \n",
        "    def __init__(self, partition, hyperparameters, aug_dict = None, \n",
        "                 sampling = None, shuffle = True, seed = None):\n",
        "\n",
        "        # Generates random seed if not provided\n",
        "        if seed is None:\n",
        "            seed = np.random.randint( 0, 255)\n",
        "\n",
        "        # Sets the given seed to random, numpy and tensorflow for reproducibility\n",
        "        self.seed = seed\n",
        "        random.seed(self.seed)\n",
        "        np.random.seed(self.seed)\n",
        "        tf.random.set_seed(self.seed)\n",
        "\n",
        "        # How the sampling should be done, can be either:\n",
        "        # None, for regular sampling from ImageDataGenerator\n",
        "        # oversampling, for random oversampling\n",
        "        # undersampling, for random undersampling\n",
        "        self.sampling = None\n",
        "        if isinstance(sampling, str) and sampling.lower() in [\"oversampling\", \"undersampling\"]:\n",
        "            self.sampling = sampling.lower()\n",
        "\n",
        "        # Extracts the targeted shape\n",
        "        inputH = hyperparameters[\"input_height\"]\n",
        "        inputW = hyperparameters[\"input_width\"]\n",
        "        inputC = hyperparameters[\"input_channels\"]\n",
        "        \n",
        "        # Defines other metadata based on the given parameters \n",
        "        self.batch_size = hyperparameters[\"batchsize\"]\n",
        "        self.input_size = (inputH, inputW, inputC)\n",
        "        self.shuffle = shuffle\n",
        "\n",
        "        # Gets the dataframe with input/output paths \n",
        "\n",
        "        #self.base_df = dataset.get_dataframe(partition)\n",
        "        \n",
        "        # Gets the relative path to the dataset\n",
        "        image_dir = f\"{inputH}x{inputW}\"\n",
        "        #data_path = os.path.join( self.meta_dir, f\"{}_data.csv\" )\n",
        "        self.import_dir = partition\n",
        "        \n",
        "        # If the targeted size is unavailable,\n",
        "        # samples are resized from 512x512 images\n",
        "        if not os.path.exists(self.import_dir):\n",
        "           print('Please, insert a path of your data_set')\n",
        "            #self.import_dir = os.path.join(data_path, \"original\")    \n",
        "\n",
        "        # Gets the names of the input and output columns in the dataf ame\n",
        "        # self.X_col = dataset.input_col\n",
        "        # self.Y_col = dataset.output_col\n",
        "\n",
        "        # Identifies each individual class from given labels\n",
        "        images = ImageDataGenerator()\n",
        "        images_dir = images.flow_from_directory(partition, target_size = (250, 250),\n",
        "                                                 batch_size  = 64)\n",
        "        #evaluate samples\n",
        "        val_samples = images_dir.samples \n",
        "        #evaluate class to index\n",
        "        self.label2class_dict = images_dir.class_indices\n",
        "        #evaluate index to class\n",
        "        self.class2label_dict = { v: k for k, v in class_to_idx_dict.items() }\n",
        "\n",
        "        #below, this code is doing the samething then code above\n",
        "\n",
        "        #self.unq_labels = [ clss for clss in dataset.classes.keys() ]\n",
        "        #self.label2class_dict = { label: clss for clss, label in enumerate(self.unq_labels) }\n",
        "        #self.class2label_dict = { clss: label for clss, label in enumerate(self.unq_labels) }\n",
        "\n",
        "        # Gets the number of samples and the number of classes in the dataset\n",
        "        self.n = images_dir.samples\n",
        "        self.n_classes = len(val_generator.class_indices)\n",
        "\n",
        "     #   if self.n_classes != len(self.unq_labels):\n",
        "      #      print( f\"\\nOnly {dataset.n_classes} of {self.n_classes} classes are represented in this dataset...\" )\n",
        "            \n",
        "        # Saves the augmentation dict whithin the generator class\n",
        "        self.set_datagen_transformations( hyperparameters, aug_dict )\n",
        "        self.set_generator()\n",
        "\n",
        "        return\n",
        "    \n",
        "    @staticmethod\n",
        "    def custom_preprocess_input(model_input):\n",
        "        model_input = model_input.astype(np.float32)\n",
        "        \n",
        "        # Maps images from [0 ~ 255] to [-1, 1]\n",
        "        model_input /= 127.5\n",
        "        model_input -= 1\n",
        "        \n",
        "        return model_input\n",
        "\n",
        "    def get_sampled_df(self, sub_df, ref_samples):\n",
        "        if ref_samples == len(sub_df):\n",
        "            return sub_df\n",
        "        \n",
        "        if self.sampling == \"undersampling\":\n",
        "            # Undersamples larger dfs to match ref_samples\n",
        "            sub_df = sub_df.sample(n = ref_samples, replace = False)\n",
        "        \n",
        "        if self.sampling == \"oversampling\":\n",
        "            # Upsamples smaller dfs to match ref_samples\n",
        "            sub_df = sub_df.sample(n = ref_samples, replace = True)\n",
        "            \n",
        "        sub_df.reset_index(drop = True, inplace = True)\n",
        "        return sub_df\n",
        "\n",
        "    def resample_dataframe( self, src_df ):\n",
        "        if self.sampling is None:\n",
        "            return src_df\n",
        "        \n",
        "        class_dfs = []\n",
        "        class_samples = []\n",
        "        for label in self.label2class_dict.keys():\n",
        "            class_dfs.append(src_df[src_df[self.Y_col] == label].copy(deep = True))\n",
        "            class_samples.append( len(class_dfs[-1]) )\n",
        "        \n",
        "        max_samples = np.max(class_samples)\n",
        "        min_samples = np.min(class_samples)\n",
        "        ref_samples = max_samples if self.sampling == \"oversampling\" else min_samples\n",
        "        \n",
        "        # Resamples each class' dataframe based on the sampling method\n",
        "        class_dfs = [self.get_sampled_df(df, ref_samples) for df in class_dfs]\n",
        "        dst_df = pd.concat(class_dfs, axis = 0, ignore_index = True)\n",
        "        \n",
        "        if self.shuffle:\n",
        "            dst_df = dst_df.sample(frac=1).reset_index(drop=True)\n",
        "        \n",
        "        return dst_df\n",
        "    \n",
        "    def set_datagen_transformations(self, hyperparameters, augmentation_dict):\n",
        "        \n",
        "        if (augmentation_dict is None) or (not hyperparameters[\"augmentation\"]):\n",
        "            # Transformations for ImageDataGenerator\n",
        "            self.datagen = tf.keras.preprocessing.image.ImageDataGenerator( rescale = 1.,\n",
        "                              preprocessing_function = CustomDataGenerator.custom_preprocess_input )\n",
        "        \n",
        "        else:\n",
        "            # Zoom range for data augmentation\n",
        "            zoom_range = ( 1. - augmentation_dict[\"zoom_in\"], \n",
        "                           1. + augmentation_dict[\"zoom_out\"] )\n",
        "\n",
        "            # brightness range for data augmentation\n",
        "            brightness_range = ( 1. - augmentation_dict[\"brightness\"], \n",
        "                                 1. + augmentation_dict[\"brightness\"] )\n",
        "\n",
        "            # Transformations for ImageDataGenerator\n",
        "            self.datagen = tf.keras.preprocessing.image.ImageDataGenerator(rescale           = 1.,\n",
        "                                                                      rotation_range         = augmentation_dict[\"rotation\"],\n",
        "                                                                      shear_range            = augmentation_dict[\"shear\"],\n",
        "                                                                      brightness_range       = brightness_range,\n",
        "                                                                      width_shift_range      = augmentation_dict[\"horizontal_translation\"],\n",
        "                                                                      height_shift_range     = augmentation_dict[\"vertical_translation\"],\n",
        "                                                                      zoom_range             = zoom_range,\n",
        "                                                                      horizontal_flip        = augmentation_dict[\"horizontal_flip\"],\n",
        "                                                                      vertical_flip          = augmentation_dict[\"vertical_flip\"],\n",
        "                                                                      fill_mode              = augmentation_dict[\"fill_mode\"],\n",
        "                                                                      cval                   = augmentation_dict[\"constant_val\"], \n",
        "                                                                      preprocessing_function = CustomDataGenerator.custom_preprocess_input\n",
        "                                                                     )\n",
        "        return\n",
        "\n",
        "    def set_generator(self):\n",
        "\n",
        "        self.df = self.resample_dataframe(self.base_df)\n",
        "    \n",
        "        input_H, input_W, input_C = self.input_size\n",
        "        color_mode = \"grayscale\" if input_C == 1 else \"rgb\"\n",
        "\n",
        "        # Adjusts labels in the generator's dataframe to keep desired class order (0: not COVID, 1: COVID)\n",
        "        gen_df = self.df.copy(deep = True)\n",
        "        gen_df[self.Y_col] = gen_df.apply( lambda r: int(self.label2class_dict[r[self.Y_col]]), axis = 1 )\n",
        "\n",
        "        # Builds a data generator object\n",
        "        self.generator = self.datagen.flow_from_dataframe(dataframe = gen_df, x_col = self.X_col, y_col = self.Y_col, \n",
        "                                target_size = (input_H, input_W), batch_size = self.batch_size, class_mode = \"raw\",\n",
        "                                directory = self.import_dir, color_mode = color_mode, shuffle = False, \n",
        "                                seed = self.seed)\n",
        "        return \n",
        "    \n",
        "    def on_epoch_end(self):\n",
        "        # On the end of each epoch, if applying random undersampling or \n",
        "        # oversampling, resets the generator to choose new samples \n",
        "        # for the next epoch\n",
        "        if not self.sampling is None:\n",
        "            self.set_generator()\n",
        "        return \n",
        "\n",
        "    def get_labels(self):\n",
        "        # Gets all labels in the dataframe as their corresponding class numbers\n",
        "        return [self.label2class_dict[l] for l in self.df[self.Y_col].to_list()]\n",
        "        \n",
        "    def get_fnames(self):\n",
        "        # Gets all labels in the dataframe as their corresponding class numbers\n",
        "        return [os.path.basename(p) for p in self.df[self.X_col].to_list()]\n",
        "    \n",
        "    def __getitem__(self, index):\n",
        "        return self.generator.__getitem__(index)\n",
        "    \n",
        "    def __len__(self):\n",
        "        # Returns the number of batches the generator can produce\n",
        "        return len(self.generator)\n"
      ],
      "metadata": {
        "id": "XVMsVR-5QE9y"
      },
      "execution_count": null,
      "outputs": []
    },
    {
      "cell_type": "code",
      "source": [
        "val_datagen   = ImageDataGenerator( rescale = 1./255 )\n",
        "val_generator = val_datagen.flow_from_directory(\"/content/drive/MyDrive/skin cancer ham 10000 - dados/DR_validation3/ValidResized\", target_size = (250, 250),\n",
        "                                                 batch_size  = 64)"
      ],
      "metadata": {
        "colab": {
          "base_uri": "https://localhost:8080/"
        },
        "id": "Tj0w8I2O0QKR",
        "outputId": "52efddd6-6226-4b3a-a772-0b01576f2d1c"
      },
      "execution_count": null,
      "outputs": [
        {
          "output_type": "stream",
          "name": "stdout",
          "text": [
            "Found 501 images belonging to 7 classes.\n"
          ]
        }
      ]
    },
    {
      "cell_type": "code",
      "source": [
        "# Atributo do generator que fornece o número de amostras detectadas\n",
        "val_samples = val_generator.samples \n",
        "print(val_samples, \"amostras detectadas\")\n",
        "\n",
        "# Atributo do generator que fornece o mapeamento de classe para índice \n",
        "# Repare que os índices são definidos pelo generator com base nos diretórios de arquivos em ordem alfabética\n",
        "class_to_idx_dict = val_generator.class_indices\n",
        "print( \"Mapeamento Classes -> Índices:\", class_to_idx_dict )\n",
        "\n",
        "# Construção de um novo dicionário que inverte o mapeamento\n",
        "idx_to_class_dict = { v: k for k, v in class_to_idx_dict.items() }\n",
        "print( \"Mapeamento Índices -> Classes:\", idx_to_class_dict )"
      ],
      "metadata": {
        "colab": {
          "base_uri": "https://localhost:8080/"
        },
        "id": "EZMAX84r0d4B",
        "outputId": "308a8592-04b9-4444-9510-741140198016"
      },
      "execution_count": null,
      "outputs": [
        {
          "output_type": "stream",
          "name": "stdout",
          "text": [
            "501 amostras detectadas\n",
            "Mapeamento Classes -> Índices: {'AKIECValidation3resized': 0, 'BCCValidation3resized': 1, 'BKLValidation3resized': 2, 'DFValidation3resized': 3, 'MELValidation3resized': 4, 'NVValidation3resized': 5, 'VASCValidation3resized': 6}\n",
            "Mapeamento Índices -> Classes: {0: 'AKIECValidation3resized', 1: 'BCCValidation3resized', 2: 'BKLValidation3resized', 3: 'DFValidation3resized', 4: 'MELValidation3resized', 5: 'NVValidation3resized', 6: 'VASCValidation3resized'}\n"
          ]
        }
      ]
    },
    {
      "cell_type": "code",
      "source": [
        "class_to_idx_dict.keys()"
      ],
      "metadata": {
        "colab": {
          "base_uri": "https://localhost:8080/"
        },
        "id": "XJRVOJoen3fh",
        "outputId": "48067a8e-b3df-4bd5-cf84-29301535ef9b"
      },
      "execution_count": null,
      "outputs": [
        {
          "output_type": "execute_result",
          "data": {
            "text/plain": [
              "dict_keys(['AKIECaugumentaded', 'BCCaugumentaded', 'BKLaugumentaded', 'DFaugumentaded', 'MELaugumentaded', 'NVaugumentaded', 'VASCaugumentaded'])"
            ]
          },
          "metadata": {},
          "execution_count": 28
        }
      ]
    },
    {
      "cell_type": "code",
      "source": [
        "from collections import Counter\n",
        "counter = Counter(val_generator.classes)\n",
        "counter"
      ],
      "metadata": {
        "colab": {
          "base_uri": "https://localhost:8080/"
        },
        "id": "FNaM1i8Xj4-C",
        "outputId": "f6eb0dc3-46f6-4770-cb83-a9992f9632ea"
      },
      "execution_count": null,
      "outputs": [
        {
          "output_type": "execute_result",
          "data": {
            "text/plain": [
              "Counter({0: 76, 1: 64, 2: 68, 3: 100, 4: 50, 5: 157, 6: 15})"
            ]
          },
          "metadata": {},
          "execution_count": 27
        }
      ]
    },
    {
      "cell_type": "code",
      "source": [
        "train_datagen = ImageDataGenerator(\n",
        "                  rescale = 1. / 255,        # normalizando as imagens\n",
        "                  rotation_range = 20,       # Rotação aleatória de até 20°\n",
        "                  width_shift_range = 0.2,   # Translação horizontal de até 20% da largura\n",
        "                  height_shift_range = 0.2,  # Translação vertical de até 20% da altura\n",
        "                  zoom_range = 0.2,          # Zoom aleatório de até 20%\n",
        "                  shear_range = 0.1,         # Deformação de 10%\n",
        "                  horizontal_flip = True,    # Espelhamento horizontal aleatório\n",
        "                  vertical_flip = True,     # Espelhamento vertical aleatório\n",
        "                  fill_mode = \"nearest\")     # Preenchimento de buracos pelo pixel mais próximo\n",
        "\n",
        "train_generator = train_datagen.flow_from_directory(\n",
        "    \"/content/drive/MyDrive/skin cancer ham 10000 - dados/DR_train3/TrainResized\", target_size = (250, 250),\n",
        "    batch_size  = 64)\n",
        "\n",
        "\n",
        "# Atributo do generator que fornece o número de amostras detectadas\n",
        "train_samples = train_generator.samples \n",
        "print(train_samples)"
      ],
      "metadata": {
        "colab": {
          "base_uri": "https://localhost:8080/"
        },
        "id": "Jh9lajBY0gYW",
        "outputId": "3ccc3e90-ea8c-4d73-f936-98f9ab2cee55"
      },
      "execution_count": null,
      "outputs": [
        {
          "output_type": "stream",
          "name": "stdout",
          "text": [
            "Found 805 images belonging to 7 classes.\n",
            "805\n"
          ]
        }
      ]
    },
    {
      "cell_type": "code",
      "source": [
        "test_datagen   = ImageDataGenerator( rescale = 1./255 )\n",
        "test_generator = test_datagen.flow_from_directory(\"/content/drive/MyDrive/skin cancer ham 10000 - dados/DR_test3/TestResized\", target_size = (250, 250),\n",
        "                                                   batch_size  = 64, shuffle = False)\n",
        "batch_size = 64"
      ],
      "metadata": {
        "colab": {
          "base_uri": "https://localhost:8080/"
        },
        "id": "lEPLySfZ0-BV",
        "outputId": "df2ae93f-3fde-4942-8749-02b83162f316"
      },
      "execution_count": null,
      "outputs": [
        {
          "output_type": "stream",
          "name": "stdout",
          "text": [
            "Found 501 images belonging to 7 classes.\n"
          ]
        }
      ]
    },
    {
      "cell_type": "code",
      "source": [
        "def print_vgg16_summary( shape ):\n",
        "    conv_base = VGG16(include_top = False, weights = \"imagenet\", input_shape = shape)\n",
        "    print( conv_base.summary() )\n",
        "    return\n",
        "\n",
        "print_vgg16_summary( shape = (250, 250, 3) )"
      ],
      "metadata": {
        "colab": {
          "base_uri": "https://localhost:8080/"
        },
        "id": "EK6jT6yV1E5g",
        "outputId": "6ffffe25-4f8d-4c44-a9db-9a6c42042d8f"
      },
      "execution_count": null,
      "outputs": [
        {
          "output_type": "stream",
          "name": "stdout",
          "text": [
            "Model: \"vgg16\"\n",
            "_________________________________________________________________\n",
            " Layer (type)                Output Shape              Param #   \n",
            "=================================================================\n",
            " input_1 (InputLayer)        [(None, 250, 250, 3)]     0         \n",
            "                                                                 \n",
            " block1_conv1 (Conv2D)       (None, 250, 250, 64)      1792      \n",
            "                                                                 \n",
            " block1_conv2 (Conv2D)       (None, 250, 250, 64)      36928     \n",
            "                                                                 \n",
            " block1_pool (MaxPooling2D)  (None, 125, 125, 64)      0         \n",
            "                                                                 \n",
            " block2_conv1 (Conv2D)       (None, 125, 125, 128)     73856     \n",
            "                                                                 \n",
            " block2_conv2 (Conv2D)       (None, 125, 125, 128)     147584    \n",
            "                                                                 \n",
            " block2_pool (MaxPooling2D)  (None, 62, 62, 128)       0         \n",
            "                                                                 \n",
            " block3_conv1 (Conv2D)       (None, 62, 62, 256)       295168    \n",
            "                                                                 \n",
            " block3_conv2 (Conv2D)       (None, 62, 62, 256)       590080    \n",
            "                                                                 \n",
            " block3_conv3 (Conv2D)       (None, 62, 62, 256)       590080    \n",
            "                                                                 \n",
            " block3_pool (MaxPooling2D)  (None, 31, 31, 256)       0         \n",
            "                                                                 \n",
            " block4_conv1 (Conv2D)       (None, 31, 31, 512)       1180160   \n",
            "                                                                 \n",
            " block4_conv2 (Conv2D)       (None, 31, 31, 512)       2359808   \n",
            "                                                                 \n",
            " block4_conv3 (Conv2D)       (None, 31, 31, 512)       2359808   \n",
            "                                                                 \n",
            " block4_pool (MaxPooling2D)  (None, 15, 15, 512)       0         \n",
            "                                                                 \n",
            " block5_conv1 (Conv2D)       (None, 15, 15, 512)       2359808   \n",
            "                                                                 \n",
            " block5_conv2 (Conv2D)       (None, 15, 15, 512)       2359808   \n",
            "                                                                 \n",
            " block5_conv3 (Conv2D)       (None, 15, 15, 512)       2359808   \n",
            "                                                                 \n",
            " block5_pool (MaxPooling2D)  (None, 7, 7, 512)         0         \n",
            "                                                                 \n",
            "=================================================================\n",
            "Total params: 14,714,688\n",
            "Trainable params: 14,714,688\n",
            "Non-trainable params: 0\n",
            "_________________________________________________________________\n",
            "None\n"
          ]
        }
      ]
    },
    {
      "cell_type": "code",
      "source": [
        "def print_mobilenetv2_summary( shape ):\n",
        "    mobilebase = tf.keras.applications.MobileNetV2(input_shape=shape,alpha=1.0,include_top= False, weights=\"imagenet\",\n",
        "                                                    input_tensor=None,pooling=None,classes=1000,classifier_activation=\"softmax\")\n",
        "    print(mobilebase.summary())\n",
        "    return"
      ],
      "metadata": {
        "id": "lWU3Ndc-7yqr"
      },
      "execution_count": null,
      "outputs": []
    },
    {
      "cell_type": "code",
      "source": [
        "print_mobilenetv2_summary( shape = (250, 250, 3) )"
      ],
      "metadata": {
        "colab": {
          "base_uri": "https://localhost:8080/"
        },
        "id": "r7i1wNGF82Ih",
        "outputId": "7107bda9-af89-4f91-d68d-12ed54a8f3d1"
      },
      "execution_count": null,
      "outputs": [
        {
          "output_type": "stream",
          "name": "stderr",
          "text": [
            "WARNING:tensorflow:`input_shape` is undefined or non-square, or `rows` is not in [96, 128, 160, 192, 224]. Weights for input shape (224, 224) will be loaded as the default.\n"
          ]
        },
        {
          "output_type": "stream",
          "name": "stdout",
          "text": [
            "Downloading data from https://storage.googleapis.com/tensorflow/keras-applications/mobilenet_v2/mobilenet_v2_weights_tf_dim_ordering_tf_kernels_1.0_224_no_top.h5\n",
            "9406464/9406464 [==============================] - 0s 0us/step\n",
            "Model: \"mobilenetv2_1.00_224\"\n",
            "__________________________________________________________________________________________________\n",
            " Layer (type)                   Output Shape         Param #     Connected to                     \n",
            "==================================================================================================\n",
            " input_1 (InputLayer)           [(None, 250, 250, 3  0           []                               \n",
            "                                )]                                                                \n",
            "                                                                                                  \n",
            " Conv1 (Conv2D)                 (None, 125, 125, 32  864         ['input_1[0][0]']                \n",
            "                                )                                                                 \n",
            "                                                                                                  \n",
            " bn_Conv1 (BatchNormalization)  (None, 125, 125, 32  128         ['Conv1[0][0]']                  \n",
            "                                )                                                                 \n",
            "                                                                                                  \n",
            " Conv1_relu (ReLU)              (None, 125, 125, 32  0           ['bn_Conv1[0][0]']               \n",
            "                                )                                                                 \n",
            "                                                                                                  \n",
            " expanded_conv_depthwise (Depth  (None, 125, 125, 32  288        ['Conv1_relu[0][0]']             \n",
            " wiseConv2D)                    )                                                                 \n",
            "                                                                                                  \n",
            " expanded_conv_depthwise_BN (Ba  (None, 125, 125, 32  128        ['expanded_conv_depthwise[0][0]']\n",
            " tchNormalization)              )                                                                 \n",
            "                                                                                                  \n",
            " expanded_conv_depthwise_relu (  (None, 125, 125, 32  0          ['expanded_conv_depthwise_BN[0][0\n",
            " ReLU)                          )                                ]']                              \n",
            "                                                                                                  \n",
            " expanded_conv_project (Conv2D)  (None, 125, 125, 16  512        ['expanded_conv_depthwise_relu[0]\n",
            "                                )                                [0]']                            \n",
            "                                                                                                  \n",
            " expanded_conv_project_BN (Batc  (None, 125, 125, 16  64         ['expanded_conv_project[0][0]']  \n",
            " hNormalization)                )                                                                 \n",
            "                                                                                                  \n",
            " block_1_expand (Conv2D)        (None, 125, 125, 96  1536        ['expanded_conv_project_BN[0][0]'\n",
            "                                )                                ]                                \n",
            "                                                                                                  \n",
            " block_1_expand_BN (BatchNormal  (None, 125, 125, 96  384        ['block_1_expand[0][0]']         \n",
            " ization)                       )                                                                 \n",
            "                                                                                                  \n",
            " block_1_expand_relu (ReLU)     (None, 125, 125, 96  0           ['block_1_expand_BN[0][0]']      \n",
            "                                )                                                                 \n",
            "                                                                                                  \n",
            " block_1_pad (ZeroPadding2D)    (None, 127, 127, 96  0           ['block_1_expand_relu[0][0]']    \n",
            "                                )                                                                 \n",
            "                                                                                                  \n",
            " block_1_depthwise (DepthwiseCo  (None, 63, 63, 96)  864         ['block_1_pad[0][0]']            \n",
            " nv2D)                                                                                            \n",
            "                                                                                                  \n",
            " block_1_depthwise_BN (BatchNor  (None, 63, 63, 96)  384         ['block_1_depthwise[0][0]']      \n",
            " malization)                                                                                      \n",
            "                                                                                                  \n",
            " block_1_depthwise_relu (ReLU)  (None, 63, 63, 96)   0           ['block_1_depthwise_BN[0][0]']   \n",
            "                                                                                                  \n",
            " block_1_project (Conv2D)       (None, 63, 63, 24)   2304        ['block_1_depthwise_relu[0][0]'] \n",
            "                                                                                                  \n",
            " block_1_project_BN (BatchNorma  (None, 63, 63, 24)  96          ['block_1_project[0][0]']        \n",
            " lization)                                                                                        \n",
            "                                                                                                  \n",
            " block_2_expand (Conv2D)        (None, 63, 63, 144)  3456        ['block_1_project_BN[0][0]']     \n",
            "                                                                                                  \n",
            " block_2_expand_BN (BatchNormal  (None, 63, 63, 144)  576        ['block_2_expand[0][0]']         \n",
            " ization)                                                                                         \n",
            "                                                                                                  \n",
            " block_2_expand_relu (ReLU)     (None, 63, 63, 144)  0           ['block_2_expand_BN[0][0]']      \n",
            "                                                                                                  \n",
            " block_2_depthwise (DepthwiseCo  (None, 63, 63, 144)  1296       ['block_2_expand_relu[0][0]']    \n",
            " nv2D)                                                                                            \n",
            "                                                                                                  \n",
            " block_2_depthwise_BN (BatchNor  (None, 63, 63, 144)  576        ['block_2_depthwise[0][0]']      \n",
            " malization)                                                                                      \n",
            "                                                                                                  \n",
            " block_2_depthwise_relu (ReLU)  (None, 63, 63, 144)  0           ['block_2_depthwise_BN[0][0]']   \n",
            "                                                                                                  \n",
            " block_2_project (Conv2D)       (None, 63, 63, 24)   3456        ['block_2_depthwise_relu[0][0]'] \n",
            "                                                                                                  \n",
            " block_2_project_BN (BatchNorma  (None, 63, 63, 24)  96          ['block_2_project[0][0]']        \n",
            " lization)                                                                                        \n",
            "                                                                                                  \n",
            " block_2_add (Add)              (None, 63, 63, 24)   0           ['block_1_project_BN[0][0]',     \n",
            "                                                                  'block_2_project_BN[0][0]']     \n",
            "                                                                                                  \n",
            " block_3_expand (Conv2D)        (None, 63, 63, 144)  3456        ['block_2_add[0][0]']            \n",
            "                                                                                                  \n",
            " block_3_expand_BN (BatchNormal  (None, 63, 63, 144)  576        ['block_3_expand[0][0]']         \n",
            " ization)                                                                                         \n",
            "                                                                                                  \n",
            " block_3_expand_relu (ReLU)     (None, 63, 63, 144)  0           ['block_3_expand_BN[0][0]']      \n",
            "                                                                                                  \n",
            " block_3_pad (ZeroPadding2D)    (None, 65, 65, 144)  0           ['block_3_expand_relu[0][0]']    \n",
            "                                                                                                  \n",
            " block_3_depthwise (DepthwiseCo  (None, 32, 32, 144)  1296       ['block_3_pad[0][0]']            \n",
            " nv2D)                                                                                            \n",
            "                                                                                                  \n",
            " block_3_depthwise_BN (BatchNor  (None, 32, 32, 144)  576        ['block_3_depthwise[0][0]']      \n",
            " malization)                                                                                      \n",
            "                                                                                                  \n",
            " block_3_depthwise_relu (ReLU)  (None, 32, 32, 144)  0           ['block_3_depthwise_BN[0][0]']   \n",
            "                                                                                                  \n",
            " block_3_project (Conv2D)       (None, 32, 32, 32)   4608        ['block_3_depthwise_relu[0][0]'] \n",
            "                                                                                                  \n",
            " block_3_project_BN (BatchNorma  (None, 32, 32, 32)  128         ['block_3_project[0][0]']        \n",
            " lization)                                                                                        \n",
            "                                                                                                  \n",
            " block_4_expand (Conv2D)        (None, 32, 32, 192)  6144        ['block_3_project_BN[0][0]']     \n",
            "                                                                                                  \n",
            " block_4_expand_BN (BatchNormal  (None, 32, 32, 192)  768        ['block_4_expand[0][0]']         \n",
            " ization)                                                                                         \n",
            "                                                                                                  \n",
            " block_4_expand_relu (ReLU)     (None, 32, 32, 192)  0           ['block_4_expand_BN[0][0]']      \n",
            "                                                                                                  \n",
            " block_4_depthwise (DepthwiseCo  (None, 32, 32, 192)  1728       ['block_4_expand_relu[0][0]']    \n",
            " nv2D)                                                                                            \n",
            "                                                                                                  \n",
            " block_4_depthwise_BN (BatchNor  (None, 32, 32, 192)  768        ['block_4_depthwise[0][0]']      \n",
            " malization)                                                                                      \n",
            "                                                                                                  \n",
            " block_4_depthwise_relu (ReLU)  (None, 32, 32, 192)  0           ['block_4_depthwise_BN[0][0]']   \n",
            "                                                                                                  \n",
            " block_4_project (Conv2D)       (None, 32, 32, 32)   6144        ['block_4_depthwise_relu[0][0]'] \n",
            "                                                                                                  \n",
            " block_4_project_BN (BatchNorma  (None, 32, 32, 32)  128         ['block_4_project[0][0]']        \n",
            " lization)                                                                                        \n",
            "                                                                                                  \n",
            " block_4_add (Add)              (None, 32, 32, 32)   0           ['block_3_project_BN[0][0]',     \n",
            "                                                                  'block_4_project_BN[0][0]']     \n",
            "                                                                                                  \n",
            " block_5_expand (Conv2D)        (None, 32, 32, 192)  6144        ['block_4_add[0][0]']            \n",
            "                                                                                                  \n",
            " block_5_expand_BN (BatchNormal  (None, 32, 32, 192)  768        ['block_5_expand[0][0]']         \n",
            " ization)                                                                                         \n",
            "                                                                                                  \n",
            " block_5_expand_relu (ReLU)     (None, 32, 32, 192)  0           ['block_5_expand_BN[0][0]']      \n",
            "                                                                                                  \n",
            " block_5_depthwise (DepthwiseCo  (None, 32, 32, 192)  1728       ['block_5_expand_relu[0][0]']    \n",
            " nv2D)                                                                                            \n",
            "                                                                                                  \n",
            " block_5_depthwise_BN (BatchNor  (None, 32, 32, 192)  768        ['block_5_depthwise[0][0]']      \n",
            " malization)                                                                                      \n",
            "                                                                                                  \n",
            " block_5_depthwise_relu (ReLU)  (None, 32, 32, 192)  0           ['block_5_depthwise_BN[0][0]']   \n",
            "                                                                                                  \n",
            " block_5_project (Conv2D)       (None, 32, 32, 32)   6144        ['block_5_depthwise_relu[0][0]'] \n",
            "                                                                                                  \n",
            " block_5_project_BN (BatchNorma  (None, 32, 32, 32)  128         ['block_5_project[0][0]']        \n",
            " lization)                                                                                        \n",
            "                                                                                                  \n",
            " block_5_add (Add)              (None, 32, 32, 32)   0           ['block_4_add[0][0]',            \n",
            "                                                                  'block_5_project_BN[0][0]']     \n",
            "                                                                                                  \n",
            " block_6_expand (Conv2D)        (None, 32, 32, 192)  6144        ['block_5_add[0][0]']            \n",
            "                                                                                                  \n",
            " block_6_expand_BN (BatchNormal  (None, 32, 32, 192)  768        ['block_6_expand[0][0]']         \n",
            " ization)                                                                                         \n",
            "                                                                                                  \n",
            " block_6_expand_relu (ReLU)     (None, 32, 32, 192)  0           ['block_6_expand_BN[0][0]']      \n",
            "                                                                                                  \n",
            " block_6_pad (ZeroPadding2D)    (None, 33, 33, 192)  0           ['block_6_expand_relu[0][0]']    \n",
            "                                                                                                  \n",
            " block_6_depthwise (DepthwiseCo  (None, 16, 16, 192)  1728       ['block_6_pad[0][0]']            \n",
            " nv2D)                                                                                            \n",
            "                                                                                                  \n",
            " block_6_depthwise_BN (BatchNor  (None, 16, 16, 192)  768        ['block_6_depthwise[0][0]']      \n",
            " malization)                                                                                      \n",
            "                                                                                                  \n",
            " block_6_depthwise_relu (ReLU)  (None, 16, 16, 192)  0           ['block_6_depthwise_BN[0][0]']   \n",
            "                                                                                                  \n",
            " block_6_project (Conv2D)       (None, 16, 16, 64)   12288       ['block_6_depthwise_relu[0][0]'] \n",
            "                                                                                                  \n",
            " block_6_project_BN (BatchNorma  (None, 16, 16, 64)  256         ['block_6_project[0][0]']        \n",
            " lization)                                                                                        \n",
            "                                                                                                  \n",
            " block_7_expand (Conv2D)        (None, 16, 16, 384)  24576       ['block_6_project_BN[0][0]']     \n",
            "                                                                                                  \n",
            " block_7_expand_BN (BatchNormal  (None, 16, 16, 384)  1536       ['block_7_expand[0][0]']         \n",
            " ization)                                                                                         \n",
            "                                                                                                  \n",
            " block_7_expand_relu (ReLU)     (None, 16, 16, 384)  0           ['block_7_expand_BN[0][0]']      \n",
            "                                                                                                  \n",
            " block_7_depthwise (DepthwiseCo  (None, 16, 16, 384)  3456       ['block_7_expand_relu[0][0]']    \n",
            " nv2D)                                                                                            \n",
            "                                                                                                  \n",
            " block_7_depthwise_BN (BatchNor  (None, 16, 16, 384)  1536       ['block_7_depthwise[0][0]']      \n",
            " malization)                                                                                      \n",
            "                                                                                                  \n",
            " block_7_depthwise_relu (ReLU)  (None, 16, 16, 384)  0           ['block_7_depthwise_BN[0][0]']   \n",
            "                                                                                                  \n",
            " block_7_project (Conv2D)       (None, 16, 16, 64)   24576       ['block_7_depthwise_relu[0][0]'] \n",
            "                                                                                                  \n",
            " block_7_project_BN (BatchNorma  (None, 16, 16, 64)  256         ['block_7_project[0][0]']        \n",
            " lization)                                                                                        \n",
            "                                                                                                  \n",
            " block_7_add (Add)              (None, 16, 16, 64)   0           ['block_6_project_BN[0][0]',     \n",
            "                                                                  'block_7_project_BN[0][0]']     \n",
            "                                                                                                  \n",
            " block_8_expand (Conv2D)        (None, 16, 16, 384)  24576       ['block_7_add[0][0]']            \n",
            "                                                                                                  \n",
            " block_8_expand_BN (BatchNormal  (None, 16, 16, 384)  1536       ['block_8_expand[0][0]']         \n",
            " ization)                                                                                         \n",
            "                                                                                                  \n",
            " block_8_expand_relu (ReLU)     (None, 16, 16, 384)  0           ['block_8_expand_BN[0][0]']      \n",
            "                                                                                                  \n",
            " block_8_depthwise (DepthwiseCo  (None, 16, 16, 384)  3456       ['block_8_expand_relu[0][0]']    \n",
            " nv2D)                                                                                            \n",
            "                                                                                                  \n",
            " block_8_depthwise_BN (BatchNor  (None, 16, 16, 384)  1536       ['block_8_depthwise[0][0]']      \n",
            " malization)                                                                                      \n",
            "                                                                                                  \n",
            " block_8_depthwise_relu (ReLU)  (None, 16, 16, 384)  0           ['block_8_depthwise_BN[0][0]']   \n",
            "                                                                                                  \n",
            " block_8_project (Conv2D)       (None, 16, 16, 64)   24576       ['block_8_depthwise_relu[0][0]'] \n",
            "                                                                                                  \n",
            " block_8_project_BN (BatchNorma  (None, 16, 16, 64)  256         ['block_8_project[0][0]']        \n",
            " lization)                                                                                        \n",
            "                                                                                                  \n",
            " block_8_add (Add)              (None, 16, 16, 64)   0           ['block_7_add[0][0]',            \n",
            "                                                                  'block_8_project_BN[0][0]']     \n",
            "                                                                                                  \n",
            " block_9_expand (Conv2D)        (None, 16, 16, 384)  24576       ['block_8_add[0][0]']            \n",
            "                                                                                                  \n",
            " block_9_expand_BN (BatchNormal  (None, 16, 16, 384)  1536       ['block_9_expand[0][0]']         \n",
            " ization)                                                                                         \n",
            "                                                                                                  \n",
            " block_9_expand_relu (ReLU)     (None, 16, 16, 384)  0           ['block_9_expand_BN[0][0]']      \n",
            "                                                                                                  \n",
            " block_9_depthwise (DepthwiseCo  (None, 16, 16, 384)  3456       ['block_9_expand_relu[0][0]']    \n",
            " nv2D)                                                                                            \n",
            "                                                                                                  \n",
            " block_9_depthwise_BN (BatchNor  (None, 16, 16, 384)  1536       ['block_9_depthwise[0][0]']      \n",
            " malization)                                                                                      \n",
            "                                                                                                  \n",
            " block_9_depthwise_relu (ReLU)  (None, 16, 16, 384)  0           ['block_9_depthwise_BN[0][0]']   \n",
            "                                                                                                  \n",
            " block_9_project (Conv2D)       (None, 16, 16, 64)   24576       ['block_9_depthwise_relu[0][0]'] \n",
            "                                                                                                  \n",
            " block_9_project_BN (BatchNorma  (None, 16, 16, 64)  256         ['block_9_project[0][0]']        \n",
            " lization)                                                                                        \n",
            "                                                                                                  \n",
            " block_9_add (Add)              (None, 16, 16, 64)   0           ['block_8_add[0][0]',            \n",
            "                                                                  'block_9_project_BN[0][0]']     \n",
            "                                                                                                  \n",
            " block_10_expand (Conv2D)       (None, 16, 16, 384)  24576       ['block_9_add[0][0]']            \n",
            "                                                                                                  \n",
            " block_10_expand_BN (BatchNorma  (None, 16, 16, 384)  1536       ['block_10_expand[0][0]']        \n",
            " lization)                                                                                        \n",
            "                                                                                                  \n",
            " block_10_expand_relu (ReLU)    (None, 16, 16, 384)  0           ['block_10_expand_BN[0][0]']     \n",
            "                                                                                                  \n",
            " block_10_depthwise (DepthwiseC  (None, 16, 16, 384)  3456       ['block_10_expand_relu[0][0]']   \n",
            " onv2D)                                                                                           \n",
            "                                                                                                  \n",
            " block_10_depthwise_BN (BatchNo  (None, 16, 16, 384)  1536       ['block_10_depthwise[0][0]']     \n",
            " rmalization)                                                                                     \n",
            "                                                                                                  \n",
            " block_10_depthwise_relu (ReLU)  (None, 16, 16, 384)  0          ['block_10_depthwise_BN[0][0]']  \n",
            "                                                                                                  \n",
            " block_10_project (Conv2D)      (None, 16, 16, 96)   36864       ['block_10_depthwise_relu[0][0]']\n",
            "                                                                                                  \n",
            " block_10_project_BN (BatchNorm  (None, 16, 16, 96)  384         ['block_10_project[0][0]']       \n",
            " alization)                                                                                       \n",
            "                                                                                                  \n",
            " block_11_expand (Conv2D)       (None, 16, 16, 576)  55296       ['block_10_project_BN[0][0]']    \n",
            "                                                                                                  \n",
            " block_11_expand_BN (BatchNorma  (None, 16, 16, 576)  2304       ['block_11_expand[0][0]']        \n",
            " lization)                                                                                        \n",
            "                                                                                                  \n",
            " block_11_expand_relu (ReLU)    (None, 16, 16, 576)  0           ['block_11_expand_BN[0][0]']     \n",
            "                                                                                                  \n",
            " block_11_depthwise (DepthwiseC  (None, 16, 16, 576)  5184       ['block_11_expand_relu[0][0]']   \n",
            " onv2D)                                                                                           \n",
            "                                                                                                  \n",
            " block_11_depthwise_BN (BatchNo  (None, 16, 16, 576)  2304       ['block_11_depthwise[0][0]']     \n",
            " rmalization)                                                                                     \n",
            "                                                                                                  \n",
            " block_11_depthwise_relu (ReLU)  (None, 16, 16, 576)  0          ['block_11_depthwise_BN[0][0]']  \n",
            "                                                                                                  \n",
            " block_11_project (Conv2D)      (None, 16, 16, 96)   55296       ['block_11_depthwise_relu[0][0]']\n",
            "                                                                                                  \n",
            " block_11_project_BN (BatchNorm  (None, 16, 16, 96)  384         ['block_11_project[0][0]']       \n",
            " alization)                                                                                       \n",
            "                                                                                                  \n",
            " block_11_add (Add)             (None, 16, 16, 96)   0           ['block_10_project_BN[0][0]',    \n",
            "                                                                  'block_11_project_BN[0][0]']    \n",
            "                                                                                                  \n",
            " block_12_expand (Conv2D)       (None, 16, 16, 576)  55296       ['block_11_add[0][0]']           \n",
            "                                                                                                  \n",
            " block_12_expand_BN (BatchNorma  (None, 16, 16, 576)  2304       ['block_12_expand[0][0]']        \n",
            " lization)                                                                                        \n",
            "                                                                                                  \n",
            " block_12_expand_relu (ReLU)    (None, 16, 16, 576)  0           ['block_12_expand_BN[0][0]']     \n",
            "                                                                                                  \n",
            " block_12_depthwise (DepthwiseC  (None, 16, 16, 576)  5184       ['block_12_expand_relu[0][0]']   \n",
            " onv2D)                                                                                           \n",
            "                                                                                                  \n",
            " block_12_depthwise_BN (BatchNo  (None, 16, 16, 576)  2304       ['block_12_depthwise[0][0]']     \n",
            " rmalization)                                                                                     \n",
            "                                                                                                  \n",
            " block_12_depthwise_relu (ReLU)  (None, 16, 16, 576)  0          ['block_12_depthwise_BN[0][0]']  \n",
            "                                                                                                  \n",
            " block_12_project (Conv2D)      (None, 16, 16, 96)   55296       ['block_12_depthwise_relu[0][0]']\n",
            "                                                                                                  \n",
            " block_12_project_BN (BatchNorm  (None, 16, 16, 96)  384         ['block_12_project[0][0]']       \n",
            " alization)                                                                                       \n",
            "                                                                                                  \n",
            " block_12_add (Add)             (None, 16, 16, 96)   0           ['block_11_add[0][0]',           \n",
            "                                                                  'block_12_project_BN[0][0]']    \n",
            "                                                                                                  \n",
            " block_13_expand (Conv2D)       (None, 16, 16, 576)  55296       ['block_12_add[0][0]']           \n",
            "                                                                                                  \n",
            " block_13_expand_BN (BatchNorma  (None, 16, 16, 576)  2304       ['block_13_expand[0][0]']        \n",
            " lization)                                                                                        \n",
            "                                                                                                  \n",
            " block_13_expand_relu (ReLU)    (None, 16, 16, 576)  0           ['block_13_expand_BN[0][0]']     \n",
            "                                                                                                  \n",
            " block_13_pad (ZeroPadding2D)   (None, 17, 17, 576)  0           ['block_13_expand_relu[0][0]']   \n",
            "                                                                                                  \n",
            " block_13_depthwise (DepthwiseC  (None, 8, 8, 576)   5184        ['block_13_pad[0][0]']           \n",
            " onv2D)                                                                                           \n",
            "                                                                                                  \n",
            " block_13_depthwise_BN (BatchNo  (None, 8, 8, 576)   2304        ['block_13_depthwise[0][0]']     \n",
            " rmalization)                                                                                     \n",
            "                                                                                                  \n",
            " block_13_depthwise_relu (ReLU)  (None, 8, 8, 576)   0           ['block_13_depthwise_BN[0][0]']  \n",
            "                                                                                                  \n",
            " block_13_project (Conv2D)      (None, 8, 8, 160)    92160       ['block_13_depthwise_relu[0][0]']\n",
            "                                                                                                  \n",
            " block_13_project_BN (BatchNorm  (None, 8, 8, 160)   640         ['block_13_project[0][0]']       \n",
            " alization)                                                                                       \n",
            "                                                                                                  \n",
            " block_14_expand (Conv2D)       (None, 8, 8, 960)    153600      ['block_13_project_BN[0][0]']    \n",
            "                                                                                                  \n",
            " block_14_expand_BN (BatchNorma  (None, 8, 8, 960)   3840        ['block_14_expand[0][0]']        \n",
            " lization)                                                                                        \n",
            "                                                                                                  \n",
            " block_14_expand_relu (ReLU)    (None, 8, 8, 960)    0           ['block_14_expand_BN[0][0]']     \n",
            "                                                                                                  \n",
            " block_14_depthwise (DepthwiseC  (None, 8, 8, 960)   8640        ['block_14_expand_relu[0][0]']   \n",
            " onv2D)                                                                                           \n",
            "                                                                                                  \n",
            " block_14_depthwise_BN (BatchNo  (None, 8, 8, 960)   3840        ['block_14_depthwise[0][0]']     \n",
            " rmalization)                                                                                     \n",
            "                                                                                                  \n",
            " block_14_depthwise_relu (ReLU)  (None, 8, 8, 960)   0           ['block_14_depthwise_BN[0][0]']  \n",
            "                                                                                                  \n",
            " block_14_project (Conv2D)      (None, 8, 8, 160)    153600      ['block_14_depthwise_relu[0][0]']\n",
            "                                                                                                  \n",
            " block_14_project_BN (BatchNorm  (None, 8, 8, 160)   640         ['block_14_project[0][0]']       \n",
            " alization)                                                                                       \n",
            "                                                                                                  \n",
            " block_14_add (Add)             (None, 8, 8, 160)    0           ['block_13_project_BN[0][0]',    \n",
            "                                                                  'block_14_project_BN[0][0]']    \n",
            "                                                                                                  \n",
            " block_15_expand (Conv2D)       (None, 8, 8, 960)    153600      ['block_14_add[0][0]']           \n",
            "                                                                                                  \n",
            " block_15_expand_BN (BatchNorma  (None, 8, 8, 960)   3840        ['block_15_expand[0][0]']        \n",
            " lization)                                                                                        \n",
            "                                                                                                  \n",
            " block_15_expand_relu (ReLU)    (None, 8, 8, 960)    0           ['block_15_expand_BN[0][0]']     \n",
            "                                                                                                  \n",
            " block_15_depthwise (DepthwiseC  (None, 8, 8, 960)   8640        ['block_15_expand_relu[0][0]']   \n",
            " onv2D)                                                                                           \n",
            "                                                                                                  \n",
            " block_15_depthwise_BN (BatchNo  (None, 8, 8, 960)   3840        ['block_15_depthwise[0][0]']     \n",
            " rmalization)                                                                                     \n",
            "                                                                                                  \n",
            " block_15_depthwise_relu (ReLU)  (None, 8, 8, 960)   0           ['block_15_depthwise_BN[0][0]']  \n",
            "                                                                                                  \n",
            " block_15_project (Conv2D)      (None, 8, 8, 160)    153600      ['block_15_depthwise_relu[0][0]']\n",
            "                                                                                                  \n",
            " block_15_project_BN (BatchNorm  (None, 8, 8, 160)   640         ['block_15_project[0][0]']       \n",
            " alization)                                                                                       \n",
            "                                                                                                  \n",
            " block_15_add (Add)             (None, 8, 8, 160)    0           ['block_14_add[0][0]',           \n",
            "                                                                  'block_15_project_BN[0][0]']    \n",
            "                                                                                                  \n",
            " block_16_expand (Conv2D)       (None, 8, 8, 960)    153600      ['block_15_add[0][0]']           \n",
            "                                                                                                  \n",
            " block_16_expand_BN (BatchNorma  (None, 8, 8, 960)   3840        ['block_16_expand[0][0]']        \n",
            " lization)                                                                                        \n",
            "                                                                                                  \n",
            " block_16_expand_relu (ReLU)    (None, 8, 8, 960)    0           ['block_16_expand_BN[0][0]']     \n",
            "                                                                                                  \n",
            " block_16_depthwise (DepthwiseC  (None, 8, 8, 960)   8640        ['block_16_expand_relu[0][0]']   \n",
            " onv2D)                                                                                           \n",
            "                                                                                                  \n",
            " block_16_depthwise_BN (BatchNo  (None, 8, 8, 960)   3840        ['block_16_depthwise[0][0]']     \n",
            " rmalization)                                                                                     \n",
            "                                                                                                  \n",
            " block_16_depthwise_relu (ReLU)  (None, 8, 8, 960)   0           ['block_16_depthwise_BN[0][0]']  \n",
            "                                                                                                  \n",
            " block_16_project (Conv2D)      (None, 8, 8, 320)    307200      ['block_16_depthwise_relu[0][0]']\n",
            "                                                                                                  \n",
            " block_16_project_BN (BatchNorm  (None, 8, 8, 320)   1280        ['block_16_project[0][0]']       \n",
            " alization)                                                                                       \n",
            "                                                                                                  \n",
            " Conv_1 (Conv2D)                (None, 8, 8, 1280)   409600      ['block_16_project_BN[0][0]']    \n",
            "                                                                                                  \n",
            " Conv_1_bn (BatchNormalization)  (None, 8, 8, 1280)  5120        ['Conv_1[0][0]']                 \n",
            "                                                                                                  \n",
            " out_relu (ReLU)                (None, 8, 8, 1280)   0           ['Conv_1_bn[0][0]']              \n",
            "                                                                                                  \n",
            "==================================================================================================\n",
            "Total params: 2,257,984\n",
            "Trainable params: 2,223,872\n",
            "Non-trainable params: 34,112\n",
            "__________________________________________________________________________________________________\n",
            "None\n"
          ]
        }
      ]
    },
    {
      "cell_type": "code",
      "source": [
        "def build_model( input_shape, n_outputs ):\n",
        "    # Base convolucional\n",
        "    #conv_base = VGG16(include_top = False, weights = \"imagenet\", input_shape = input_shape)\n",
        "    #conv_base.trainable = False\n",
        "    mobilebase = tf.keras.applications.MobileNetV2(input_shape=input_shape,alpha=1.0,include_top= False, weights=\"imagenet\",\n",
        "                                                    input_tensor=None,pooling=None,classes=1000,classifier_activation=\"softmax\")\n",
        "    mobilebase.trainable = False\n",
        "    rede = Sequential()\n",
        "    rede.add( mobilebase )\n",
        "    rede.add( layers.Flatten() )\n",
        "    #rede.add( layers.Dropout( 0.50 ) )\n",
        "    rede.add( layers.Dense( 64, activation = \"relu\" ) )\n",
        "    #rede.add( layers.Dropout( 0.30 ) )\n",
        "    rede.add( layers.Dense(   7, activation = \"softmax\" ) )\n",
        "    \n",
        "    \n",
        "    return rede\n",
        "\n",
        "model = build_model( (250, 250, 3), 1 )\n",
        "model.compile(optimizer=optimizers.Adam(lr=1e-5), \n",
        "              loss=\"categorical_crossentropy\", \n",
        "              metrics=[\"acc\"])\n",
        "model.summary()"
      ],
      "metadata": {
        "colab": {
          "base_uri": "https://localhost:8080/"
        },
        "id": "1zAhnhoB1NMa",
        "outputId": "a3deaa01-8005-4239-d7fe-f66ecd297fbc"
      },
      "execution_count": null,
      "outputs": [
        {
          "output_type": "stream",
          "name": "stderr",
          "text": [
            "WARNING:tensorflow:`input_shape` is undefined or non-square, or `rows` is not in [96, 128, 160, 192, 224]. Weights for input shape (224, 224) will be loaded as the default.\n"
          ]
        },
        {
          "output_type": "stream",
          "name": "stdout",
          "text": [
            "Model: \"sequential_11\"\n",
            "_________________________________________________________________\n",
            " Layer (type)                Output Shape              Param #   \n",
            "=================================================================\n",
            " mobilenetv2_1.00_224 (Funct  (None, 8, 8, 1280)       2257984   \n",
            " ional)                                                          \n",
            "                                                                 \n",
            " flatten_11 (Flatten)        (None, 81920)             0         \n",
            "                                                                 \n",
            " dense_22 (Dense)            (None, 64)                5242944   \n",
            "                                                                 \n",
            " dense_23 (Dense)            (None, 7)                 455       \n",
            "                                                                 \n",
            "=================================================================\n",
            "Total params: 7,501,383\n",
            "Trainable params: 5,243,399\n",
            "Non-trainable params: 2,257,984\n",
            "_________________________________________________________________\n"
          ]
        }
      ]
    },
    {
      "cell_type": "code",
      "source": [
        "mobilebase = model.get_layer(\"mobilenetv2_1.00_224\")\n",
        "for layer in mobilebase.layers:\n",
        "    status = \"Treinável\" if layer.trainable else \"Congelada\"\n",
        "    print(\"Camada '{}' - Status: {} - Entrada: {} - Saída: {}\".format(layer.name,\n",
        "                                                                      status, \n",
        "                                                                      layer.input_shape, \n",
        "                                                                      layer.output_shape))"
      ],
      "metadata": {
        "colab": {
          "base_uri": "https://localhost:8080/"
        },
        "id": "pvLU1tbw1S6j",
        "outputId": "56c661e4-e024-4357-8b09-57397e0b5e9b"
      },
      "execution_count": null,
      "outputs": [
        {
          "output_type": "stream",
          "name": "stdout",
          "text": [
            "Camada 'input_12' - Status: Congelada - Entrada: [(None, 250, 250, 3)] - Saída: [(None, 250, 250, 3)]\n",
            "Camada 'Conv1' - Status: Congelada - Entrada: (None, 250, 250, 3) - Saída: (None, 125, 125, 32)\n",
            "Camada 'bn_Conv1' - Status: Congelada - Entrada: (None, 125, 125, 32) - Saída: (None, 125, 125, 32)\n",
            "Camada 'Conv1_relu' - Status: Congelada - Entrada: (None, 125, 125, 32) - Saída: (None, 125, 125, 32)\n",
            "Camada 'expanded_conv_depthwise' - Status: Congelada - Entrada: (None, 125, 125, 32) - Saída: (None, 125, 125, 32)\n",
            "Camada 'expanded_conv_depthwise_BN' - Status: Congelada - Entrada: (None, 125, 125, 32) - Saída: (None, 125, 125, 32)\n",
            "Camada 'expanded_conv_depthwise_relu' - Status: Congelada - Entrada: (None, 125, 125, 32) - Saída: (None, 125, 125, 32)\n",
            "Camada 'expanded_conv_project' - Status: Congelada - Entrada: (None, 125, 125, 32) - Saída: (None, 125, 125, 16)\n",
            "Camada 'expanded_conv_project_BN' - Status: Congelada - Entrada: (None, 125, 125, 16) - Saída: (None, 125, 125, 16)\n",
            "Camada 'block_1_expand' - Status: Congelada - Entrada: (None, 125, 125, 16) - Saída: (None, 125, 125, 96)\n",
            "Camada 'block_1_expand_BN' - Status: Congelada - Entrada: (None, 125, 125, 96) - Saída: (None, 125, 125, 96)\n",
            "Camada 'block_1_expand_relu' - Status: Congelada - Entrada: (None, 125, 125, 96) - Saída: (None, 125, 125, 96)\n",
            "Camada 'block_1_pad' - Status: Congelada - Entrada: (None, 125, 125, 96) - Saída: (None, 127, 127, 96)\n",
            "Camada 'block_1_depthwise' - Status: Congelada - Entrada: (None, 127, 127, 96) - Saída: (None, 63, 63, 96)\n",
            "Camada 'block_1_depthwise_BN' - Status: Congelada - Entrada: (None, 63, 63, 96) - Saída: (None, 63, 63, 96)\n",
            "Camada 'block_1_depthwise_relu' - Status: Congelada - Entrada: (None, 63, 63, 96) - Saída: (None, 63, 63, 96)\n",
            "Camada 'block_1_project' - Status: Congelada - Entrada: (None, 63, 63, 96) - Saída: (None, 63, 63, 24)\n",
            "Camada 'block_1_project_BN' - Status: Congelada - Entrada: (None, 63, 63, 24) - Saída: (None, 63, 63, 24)\n",
            "Camada 'block_2_expand' - Status: Congelada - Entrada: (None, 63, 63, 24) - Saída: (None, 63, 63, 144)\n",
            "Camada 'block_2_expand_BN' - Status: Congelada - Entrada: (None, 63, 63, 144) - Saída: (None, 63, 63, 144)\n",
            "Camada 'block_2_expand_relu' - Status: Congelada - Entrada: (None, 63, 63, 144) - Saída: (None, 63, 63, 144)\n",
            "Camada 'block_2_depthwise' - Status: Congelada - Entrada: (None, 63, 63, 144) - Saída: (None, 63, 63, 144)\n",
            "Camada 'block_2_depthwise_BN' - Status: Congelada - Entrada: (None, 63, 63, 144) - Saída: (None, 63, 63, 144)\n",
            "Camada 'block_2_depthwise_relu' - Status: Congelada - Entrada: (None, 63, 63, 144) - Saída: (None, 63, 63, 144)\n",
            "Camada 'block_2_project' - Status: Congelada - Entrada: (None, 63, 63, 144) - Saída: (None, 63, 63, 24)\n",
            "Camada 'block_2_project_BN' - Status: Congelada - Entrada: (None, 63, 63, 24) - Saída: (None, 63, 63, 24)\n",
            "Camada 'block_2_add' - Status: Congelada - Entrada: [(None, 63, 63, 24), (None, 63, 63, 24)] - Saída: (None, 63, 63, 24)\n",
            "Camada 'block_3_expand' - Status: Congelada - Entrada: (None, 63, 63, 24) - Saída: (None, 63, 63, 144)\n",
            "Camada 'block_3_expand_BN' - Status: Congelada - Entrada: (None, 63, 63, 144) - Saída: (None, 63, 63, 144)\n",
            "Camada 'block_3_expand_relu' - Status: Congelada - Entrada: (None, 63, 63, 144) - Saída: (None, 63, 63, 144)\n",
            "Camada 'block_3_pad' - Status: Congelada - Entrada: (None, 63, 63, 144) - Saída: (None, 65, 65, 144)\n",
            "Camada 'block_3_depthwise' - Status: Congelada - Entrada: (None, 65, 65, 144) - Saída: (None, 32, 32, 144)\n",
            "Camada 'block_3_depthwise_BN' - Status: Congelada - Entrada: (None, 32, 32, 144) - Saída: (None, 32, 32, 144)\n",
            "Camada 'block_3_depthwise_relu' - Status: Congelada - Entrada: (None, 32, 32, 144) - Saída: (None, 32, 32, 144)\n",
            "Camada 'block_3_project' - Status: Congelada - Entrada: (None, 32, 32, 144) - Saída: (None, 32, 32, 32)\n",
            "Camada 'block_3_project_BN' - Status: Congelada - Entrada: (None, 32, 32, 32) - Saída: (None, 32, 32, 32)\n",
            "Camada 'block_4_expand' - Status: Congelada - Entrada: (None, 32, 32, 32) - Saída: (None, 32, 32, 192)\n",
            "Camada 'block_4_expand_BN' - Status: Congelada - Entrada: (None, 32, 32, 192) - Saída: (None, 32, 32, 192)\n",
            "Camada 'block_4_expand_relu' - Status: Congelada - Entrada: (None, 32, 32, 192) - Saída: (None, 32, 32, 192)\n",
            "Camada 'block_4_depthwise' - Status: Congelada - Entrada: (None, 32, 32, 192) - Saída: (None, 32, 32, 192)\n",
            "Camada 'block_4_depthwise_BN' - Status: Congelada - Entrada: (None, 32, 32, 192) - Saída: (None, 32, 32, 192)\n",
            "Camada 'block_4_depthwise_relu' - Status: Congelada - Entrada: (None, 32, 32, 192) - Saída: (None, 32, 32, 192)\n",
            "Camada 'block_4_project' - Status: Congelada - Entrada: (None, 32, 32, 192) - Saída: (None, 32, 32, 32)\n",
            "Camada 'block_4_project_BN' - Status: Congelada - Entrada: (None, 32, 32, 32) - Saída: (None, 32, 32, 32)\n",
            "Camada 'block_4_add' - Status: Congelada - Entrada: [(None, 32, 32, 32), (None, 32, 32, 32)] - Saída: (None, 32, 32, 32)\n",
            "Camada 'block_5_expand' - Status: Congelada - Entrada: (None, 32, 32, 32) - Saída: (None, 32, 32, 192)\n",
            "Camada 'block_5_expand_BN' - Status: Congelada - Entrada: (None, 32, 32, 192) - Saída: (None, 32, 32, 192)\n",
            "Camada 'block_5_expand_relu' - Status: Congelada - Entrada: (None, 32, 32, 192) - Saída: (None, 32, 32, 192)\n",
            "Camada 'block_5_depthwise' - Status: Congelada - Entrada: (None, 32, 32, 192) - Saída: (None, 32, 32, 192)\n",
            "Camada 'block_5_depthwise_BN' - Status: Congelada - Entrada: (None, 32, 32, 192) - Saída: (None, 32, 32, 192)\n",
            "Camada 'block_5_depthwise_relu' - Status: Congelada - Entrada: (None, 32, 32, 192) - Saída: (None, 32, 32, 192)\n",
            "Camada 'block_5_project' - Status: Congelada - Entrada: (None, 32, 32, 192) - Saída: (None, 32, 32, 32)\n",
            "Camada 'block_5_project_BN' - Status: Congelada - Entrada: (None, 32, 32, 32) - Saída: (None, 32, 32, 32)\n",
            "Camada 'block_5_add' - Status: Congelada - Entrada: [(None, 32, 32, 32), (None, 32, 32, 32)] - Saída: (None, 32, 32, 32)\n",
            "Camada 'block_6_expand' - Status: Congelada - Entrada: (None, 32, 32, 32) - Saída: (None, 32, 32, 192)\n",
            "Camada 'block_6_expand_BN' - Status: Congelada - Entrada: (None, 32, 32, 192) - Saída: (None, 32, 32, 192)\n",
            "Camada 'block_6_expand_relu' - Status: Congelada - Entrada: (None, 32, 32, 192) - Saída: (None, 32, 32, 192)\n",
            "Camada 'block_6_pad' - Status: Congelada - Entrada: (None, 32, 32, 192) - Saída: (None, 33, 33, 192)\n",
            "Camada 'block_6_depthwise' - Status: Congelada - Entrada: (None, 33, 33, 192) - Saída: (None, 16, 16, 192)\n",
            "Camada 'block_6_depthwise_BN' - Status: Congelada - Entrada: (None, 16, 16, 192) - Saída: (None, 16, 16, 192)\n",
            "Camada 'block_6_depthwise_relu' - Status: Congelada - Entrada: (None, 16, 16, 192) - Saída: (None, 16, 16, 192)\n",
            "Camada 'block_6_project' - Status: Congelada - Entrada: (None, 16, 16, 192) - Saída: (None, 16, 16, 64)\n",
            "Camada 'block_6_project_BN' - Status: Congelada - Entrada: (None, 16, 16, 64) - Saída: (None, 16, 16, 64)\n",
            "Camada 'block_7_expand' - Status: Congelada - Entrada: (None, 16, 16, 64) - Saída: (None, 16, 16, 384)\n",
            "Camada 'block_7_expand_BN' - Status: Congelada - Entrada: (None, 16, 16, 384) - Saída: (None, 16, 16, 384)\n",
            "Camada 'block_7_expand_relu' - Status: Congelada - Entrada: (None, 16, 16, 384) - Saída: (None, 16, 16, 384)\n",
            "Camada 'block_7_depthwise' - Status: Congelada - Entrada: (None, 16, 16, 384) - Saída: (None, 16, 16, 384)\n",
            "Camada 'block_7_depthwise_BN' - Status: Congelada - Entrada: (None, 16, 16, 384) - Saída: (None, 16, 16, 384)\n",
            "Camada 'block_7_depthwise_relu' - Status: Congelada - Entrada: (None, 16, 16, 384) - Saída: (None, 16, 16, 384)\n",
            "Camada 'block_7_project' - Status: Congelada - Entrada: (None, 16, 16, 384) - Saída: (None, 16, 16, 64)\n",
            "Camada 'block_7_project_BN' - Status: Congelada - Entrada: (None, 16, 16, 64) - Saída: (None, 16, 16, 64)\n",
            "Camada 'block_7_add' - Status: Congelada - Entrada: [(None, 16, 16, 64), (None, 16, 16, 64)] - Saída: (None, 16, 16, 64)\n",
            "Camada 'block_8_expand' - Status: Congelada - Entrada: (None, 16, 16, 64) - Saída: (None, 16, 16, 384)\n",
            "Camada 'block_8_expand_BN' - Status: Congelada - Entrada: (None, 16, 16, 384) - Saída: (None, 16, 16, 384)\n",
            "Camada 'block_8_expand_relu' - Status: Congelada - Entrada: (None, 16, 16, 384) - Saída: (None, 16, 16, 384)\n",
            "Camada 'block_8_depthwise' - Status: Congelada - Entrada: (None, 16, 16, 384) - Saída: (None, 16, 16, 384)\n",
            "Camada 'block_8_depthwise_BN' - Status: Congelada - Entrada: (None, 16, 16, 384) - Saída: (None, 16, 16, 384)\n",
            "Camada 'block_8_depthwise_relu' - Status: Congelada - Entrada: (None, 16, 16, 384) - Saída: (None, 16, 16, 384)\n",
            "Camada 'block_8_project' - Status: Congelada - Entrada: (None, 16, 16, 384) - Saída: (None, 16, 16, 64)\n",
            "Camada 'block_8_project_BN' - Status: Congelada - Entrada: (None, 16, 16, 64) - Saída: (None, 16, 16, 64)\n",
            "Camada 'block_8_add' - Status: Congelada - Entrada: [(None, 16, 16, 64), (None, 16, 16, 64)] - Saída: (None, 16, 16, 64)\n",
            "Camada 'block_9_expand' - Status: Congelada - Entrada: (None, 16, 16, 64) - Saída: (None, 16, 16, 384)\n",
            "Camada 'block_9_expand_BN' - Status: Congelada - Entrada: (None, 16, 16, 384) - Saída: (None, 16, 16, 384)\n",
            "Camada 'block_9_expand_relu' - Status: Congelada - Entrada: (None, 16, 16, 384) - Saída: (None, 16, 16, 384)\n",
            "Camada 'block_9_depthwise' - Status: Congelada - Entrada: (None, 16, 16, 384) - Saída: (None, 16, 16, 384)\n",
            "Camada 'block_9_depthwise_BN' - Status: Congelada - Entrada: (None, 16, 16, 384) - Saída: (None, 16, 16, 384)\n",
            "Camada 'block_9_depthwise_relu' - Status: Congelada - Entrada: (None, 16, 16, 384) - Saída: (None, 16, 16, 384)\n",
            "Camada 'block_9_project' - Status: Congelada - Entrada: (None, 16, 16, 384) - Saída: (None, 16, 16, 64)\n",
            "Camada 'block_9_project_BN' - Status: Congelada - Entrada: (None, 16, 16, 64) - Saída: (None, 16, 16, 64)\n",
            "Camada 'block_9_add' - Status: Congelada - Entrada: [(None, 16, 16, 64), (None, 16, 16, 64)] - Saída: (None, 16, 16, 64)\n",
            "Camada 'block_10_expand' - Status: Congelada - Entrada: (None, 16, 16, 64) - Saída: (None, 16, 16, 384)\n",
            "Camada 'block_10_expand_BN' - Status: Congelada - Entrada: (None, 16, 16, 384) - Saída: (None, 16, 16, 384)\n",
            "Camada 'block_10_expand_relu' - Status: Congelada - Entrada: (None, 16, 16, 384) - Saída: (None, 16, 16, 384)\n",
            "Camada 'block_10_depthwise' - Status: Congelada - Entrada: (None, 16, 16, 384) - Saída: (None, 16, 16, 384)\n",
            "Camada 'block_10_depthwise_BN' - Status: Congelada - Entrada: (None, 16, 16, 384) - Saída: (None, 16, 16, 384)\n",
            "Camada 'block_10_depthwise_relu' - Status: Congelada - Entrada: (None, 16, 16, 384) - Saída: (None, 16, 16, 384)\n",
            "Camada 'block_10_project' - Status: Congelada - Entrada: (None, 16, 16, 384) - Saída: (None, 16, 16, 96)\n",
            "Camada 'block_10_project_BN' - Status: Congelada - Entrada: (None, 16, 16, 96) - Saída: (None, 16, 16, 96)\n",
            "Camada 'block_11_expand' - Status: Congelada - Entrada: (None, 16, 16, 96) - Saída: (None, 16, 16, 576)\n",
            "Camada 'block_11_expand_BN' - Status: Congelada - Entrada: (None, 16, 16, 576) - Saída: (None, 16, 16, 576)\n",
            "Camada 'block_11_expand_relu' - Status: Congelada - Entrada: (None, 16, 16, 576) - Saída: (None, 16, 16, 576)\n",
            "Camada 'block_11_depthwise' - Status: Congelada - Entrada: (None, 16, 16, 576) - Saída: (None, 16, 16, 576)\n",
            "Camada 'block_11_depthwise_BN' - Status: Congelada - Entrada: (None, 16, 16, 576) - Saída: (None, 16, 16, 576)\n",
            "Camada 'block_11_depthwise_relu' - Status: Congelada - Entrada: (None, 16, 16, 576) - Saída: (None, 16, 16, 576)\n",
            "Camada 'block_11_project' - Status: Congelada - Entrada: (None, 16, 16, 576) - Saída: (None, 16, 16, 96)\n",
            "Camada 'block_11_project_BN' - Status: Congelada - Entrada: (None, 16, 16, 96) - Saída: (None, 16, 16, 96)\n",
            "Camada 'block_11_add' - Status: Congelada - Entrada: [(None, 16, 16, 96), (None, 16, 16, 96)] - Saída: (None, 16, 16, 96)\n",
            "Camada 'block_12_expand' - Status: Congelada - Entrada: (None, 16, 16, 96) - Saída: (None, 16, 16, 576)\n",
            "Camada 'block_12_expand_BN' - Status: Congelada - Entrada: (None, 16, 16, 576) - Saída: (None, 16, 16, 576)\n",
            "Camada 'block_12_expand_relu' - Status: Congelada - Entrada: (None, 16, 16, 576) - Saída: (None, 16, 16, 576)\n",
            "Camada 'block_12_depthwise' - Status: Congelada - Entrada: (None, 16, 16, 576) - Saída: (None, 16, 16, 576)\n",
            "Camada 'block_12_depthwise_BN' - Status: Congelada - Entrada: (None, 16, 16, 576) - Saída: (None, 16, 16, 576)\n",
            "Camada 'block_12_depthwise_relu' - Status: Congelada - Entrada: (None, 16, 16, 576) - Saída: (None, 16, 16, 576)\n",
            "Camada 'block_12_project' - Status: Congelada - Entrada: (None, 16, 16, 576) - Saída: (None, 16, 16, 96)\n",
            "Camada 'block_12_project_BN' - Status: Congelada - Entrada: (None, 16, 16, 96) - Saída: (None, 16, 16, 96)\n",
            "Camada 'block_12_add' - Status: Congelada - Entrada: [(None, 16, 16, 96), (None, 16, 16, 96)] - Saída: (None, 16, 16, 96)\n",
            "Camada 'block_13_expand' - Status: Congelada - Entrada: (None, 16, 16, 96) - Saída: (None, 16, 16, 576)\n",
            "Camada 'block_13_expand_BN' - Status: Congelada - Entrada: (None, 16, 16, 576) - Saída: (None, 16, 16, 576)\n",
            "Camada 'block_13_expand_relu' - Status: Congelada - Entrada: (None, 16, 16, 576) - Saída: (None, 16, 16, 576)\n",
            "Camada 'block_13_pad' - Status: Congelada - Entrada: (None, 16, 16, 576) - Saída: (None, 17, 17, 576)\n",
            "Camada 'block_13_depthwise' - Status: Congelada - Entrada: (None, 17, 17, 576) - Saída: (None, 8, 8, 576)\n",
            "Camada 'block_13_depthwise_BN' - Status: Congelada - Entrada: (None, 8, 8, 576) - Saída: (None, 8, 8, 576)\n",
            "Camada 'block_13_depthwise_relu' - Status: Congelada - Entrada: (None, 8, 8, 576) - Saída: (None, 8, 8, 576)\n",
            "Camada 'block_13_project' - Status: Congelada - Entrada: (None, 8, 8, 576) - Saída: (None, 8, 8, 160)\n",
            "Camada 'block_13_project_BN' - Status: Congelada - Entrada: (None, 8, 8, 160) - Saída: (None, 8, 8, 160)\n",
            "Camada 'block_14_expand' - Status: Congelada - Entrada: (None, 8, 8, 160) - Saída: (None, 8, 8, 960)\n",
            "Camada 'block_14_expand_BN' - Status: Congelada - Entrada: (None, 8, 8, 960) - Saída: (None, 8, 8, 960)\n",
            "Camada 'block_14_expand_relu' - Status: Congelada - Entrada: (None, 8, 8, 960) - Saída: (None, 8, 8, 960)\n",
            "Camada 'block_14_depthwise' - Status: Congelada - Entrada: (None, 8, 8, 960) - Saída: (None, 8, 8, 960)\n",
            "Camada 'block_14_depthwise_BN' - Status: Congelada - Entrada: (None, 8, 8, 960) - Saída: (None, 8, 8, 960)\n",
            "Camada 'block_14_depthwise_relu' - Status: Congelada - Entrada: (None, 8, 8, 960) - Saída: (None, 8, 8, 960)\n",
            "Camada 'block_14_project' - Status: Congelada - Entrada: (None, 8, 8, 960) - Saída: (None, 8, 8, 160)\n",
            "Camada 'block_14_project_BN' - Status: Congelada - Entrada: (None, 8, 8, 160) - Saída: (None, 8, 8, 160)\n",
            "Camada 'block_14_add' - Status: Congelada - Entrada: [(None, 8, 8, 160), (None, 8, 8, 160)] - Saída: (None, 8, 8, 160)\n",
            "Camada 'block_15_expand' - Status: Congelada - Entrada: (None, 8, 8, 160) - Saída: (None, 8, 8, 960)\n",
            "Camada 'block_15_expand_BN' - Status: Congelada - Entrada: (None, 8, 8, 960) - Saída: (None, 8, 8, 960)\n",
            "Camada 'block_15_expand_relu' - Status: Congelada - Entrada: (None, 8, 8, 960) - Saída: (None, 8, 8, 960)\n",
            "Camada 'block_15_depthwise' - Status: Congelada - Entrada: (None, 8, 8, 960) - Saída: (None, 8, 8, 960)\n",
            "Camada 'block_15_depthwise_BN' - Status: Congelada - Entrada: (None, 8, 8, 960) - Saída: (None, 8, 8, 960)\n",
            "Camada 'block_15_depthwise_relu' - Status: Congelada - Entrada: (None, 8, 8, 960) - Saída: (None, 8, 8, 960)\n",
            "Camada 'block_15_project' - Status: Congelada - Entrada: (None, 8, 8, 960) - Saída: (None, 8, 8, 160)\n",
            "Camada 'block_15_project_BN' - Status: Congelada - Entrada: (None, 8, 8, 160) - Saída: (None, 8, 8, 160)\n",
            "Camada 'block_15_add' - Status: Congelada - Entrada: [(None, 8, 8, 160), (None, 8, 8, 160)] - Saída: (None, 8, 8, 160)\n",
            "Camada 'block_16_expand' - Status: Congelada - Entrada: (None, 8, 8, 160) - Saída: (None, 8, 8, 960)\n",
            "Camada 'block_16_expand_BN' - Status: Congelada - Entrada: (None, 8, 8, 960) - Saída: (None, 8, 8, 960)\n",
            "Camada 'block_16_expand_relu' - Status: Congelada - Entrada: (None, 8, 8, 960) - Saída: (None, 8, 8, 960)\n",
            "Camada 'block_16_depthwise' - Status: Congelada - Entrada: (None, 8, 8, 960) - Saída: (None, 8, 8, 960)\n",
            "Camada 'block_16_depthwise_BN' - Status: Congelada - Entrada: (None, 8, 8, 960) - Saída: (None, 8, 8, 960)\n",
            "Camada 'block_16_depthwise_relu' - Status: Congelada - Entrada: (None, 8, 8, 960) - Saída: (None, 8, 8, 960)\n",
            "Camada 'block_16_project' - Status: Congelada - Entrada: (None, 8, 8, 960) - Saída: (None, 8, 8, 320)\n",
            "Camada 'block_16_project_BN' - Status: Congelada - Entrada: (None, 8, 8, 320) - Saída: (None, 8, 8, 320)\n",
            "Camada 'Conv_1' - Status: Congelada - Entrada: (None, 8, 8, 320) - Saída: (None, 8, 8, 1280)\n",
            "Camada 'Conv_1_bn' - Status: Congelada - Entrada: (None, 8, 8, 1280) - Saída: (None, 8, 8, 1280)\n",
            "Camada 'out_relu' - Status: Congelada - Entrada: (None, 8, 8, 1280) - Saída: (None, 8, 8, 1280)\n"
          ]
        }
      ]
    },
    {
      "cell_type": "code",
      "source": [
        "model.trainable = True\n",
        "mobilebase = model.get_layer(\"mobilenetv2_1.00_224\")\n",
        "\n",
        "set_trainable = False\n",
        "for layer in mobilebase.layers:\n",
        "    if layer.name == \"block_16_expand\":\n",
        "        set_trainable = True\n",
        "    layer.trainable = set_trainable"
      ],
      "metadata": {
        "id": "K6a0DTWT5IYN"
      },
      "execution_count": null,
      "outputs": []
    },
    {
      "cell_type": "code",
      "source": [
        "for layer in mobilebase.layers:\n",
        "    status = \"Treinável\" if layer.trainable else \"Congelada\"\n",
        "    print(\"Camada '{}' - Status: {} - Entrada: {} - Saída: {}\".format( layer.name,\n",
        "                                                                       status, \n",
        "                                                                       layer.input_shape, \n",
        "                                                                       layer.output_shape ))"
      ],
      "metadata": {
        "colab": {
          "base_uri": "https://localhost:8080/"
        },
        "id": "WBde7g7h5K4B",
        "outputId": "48fa3b54-4d11-4487-a747-2c942402b930"
      },
      "execution_count": null,
      "outputs": [
        {
          "output_type": "stream",
          "name": "stdout",
          "text": [
            "Camada 'input_12' - Status: Congelada - Entrada: [(None, 250, 250, 3)] - Saída: [(None, 250, 250, 3)]\n",
            "Camada 'Conv1' - Status: Congelada - Entrada: (None, 250, 250, 3) - Saída: (None, 125, 125, 32)\n",
            "Camada 'bn_Conv1' - Status: Congelada - Entrada: (None, 125, 125, 32) - Saída: (None, 125, 125, 32)\n",
            "Camada 'Conv1_relu' - Status: Congelada - Entrada: (None, 125, 125, 32) - Saída: (None, 125, 125, 32)\n",
            "Camada 'expanded_conv_depthwise' - Status: Congelada - Entrada: (None, 125, 125, 32) - Saída: (None, 125, 125, 32)\n",
            "Camada 'expanded_conv_depthwise_BN' - Status: Congelada - Entrada: (None, 125, 125, 32) - Saída: (None, 125, 125, 32)\n",
            "Camada 'expanded_conv_depthwise_relu' - Status: Congelada - Entrada: (None, 125, 125, 32) - Saída: (None, 125, 125, 32)\n",
            "Camada 'expanded_conv_project' - Status: Congelada - Entrada: (None, 125, 125, 32) - Saída: (None, 125, 125, 16)\n",
            "Camada 'expanded_conv_project_BN' - Status: Congelada - Entrada: (None, 125, 125, 16) - Saída: (None, 125, 125, 16)\n",
            "Camada 'block_1_expand' - Status: Congelada - Entrada: (None, 125, 125, 16) - Saída: (None, 125, 125, 96)\n",
            "Camada 'block_1_expand_BN' - Status: Congelada - Entrada: (None, 125, 125, 96) - Saída: (None, 125, 125, 96)\n",
            "Camada 'block_1_expand_relu' - Status: Congelada - Entrada: (None, 125, 125, 96) - Saída: (None, 125, 125, 96)\n",
            "Camada 'block_1_pad' - Status: Congelada - Entrada: (None, 125, 125, 96) - Saída: (None, 127, 127, 96)\n",
            "Camada 'block_1_depthwise' - Status: Congelada - Entrada: (None, 127, 127, 96) - Saída: (None, 63, 63, 96)\n",
            "Camada 'block_1_depthwise_BN' - Status: Congelada - Entrada: (None, 63, 63, 96) - Saída: (None, 63, 63, 96)\n",
            "Camada 'block_1_depthwise_relu' - Status: Congelada - Entrada: (None, 63, 63, 96) - Saída: (None, 63, 63, 96)\n",
            "Camada 'block_1_project' - Status: Congelada - Entrada: (None, 63, 63, 96) - Saída: (None, 63, 63, 24)\n",
            "Camada 'block_1_project_BN' - Status: Congelada - Entrada: (None, 63, 63, 24) - Saída: (None, 63, 63, 24)\n",
            "Camada 'block_2_expand' - Status: Congelada - Entrada: (None, 63, 63, 24) - Saída: (None, 63, 63, 144)\n",
            "Camada 'block_2_expand_BN' - Status: Congelada - Entrada: (None, 63, 63, 144) - Saída: (None, 63, 63, 144)\n",
            "Camada 'block_2_expand_relu' - Status: Congelada - Entrada: (None, 63, 63, 144) - Saída: (None, 63, 63, 144)\n",
            "Camada 'block_2_depthwise' - Status: Congelada - Entrada: (None, 63, 63, 144) - Saída: (None, 63, 63, 144)\n",
            "Camada 'block_2_depthwise_BN' - Status: Congelada - Entrada: (None, 63, 63, 144) - Saída: (None, 63, 63, 144)\n",
            "Camada 'block_2_depthwise_relu' - Status: Congelada - Entrada: (None, 63, 63, 144) - Saída: (None, 63, 63, 144)\n",
            "Camada 'block_2_project' - Status: Congelada - Entrada: (None, 63, 63, 144) - Saída: (None, 63, 63, 24)\n",
            "Camada 'block_2_project_BN' - Status: Congelada - Entrada: (None, 63, 63, 24) - Saída: (None, 63, 63, 24)\n",
            "Camada 'block_2_add' - Status: Congelada - Entrada: [(None, 63, 63, 24), (None, 63, 63, 24)] - Saída: (None, 63, 63, 24)\n",
            "Camada 'block_3_expand' - Status: Congelada - Entrada: (None, 63, 63, 24) - Saída: (None, 63, 63, 144)\n",
            "Camada 'block_3_expand_BN' - Status: Congelada - Entrada: (None, 63, 63, 144) - Saída: (None, 63, 63, 144)\n",
            "Camada 'block_3_expand_relu' - Status: Congelada - Entrada: (None, 63, 63, 144) - Saída: (None, 63, 63, 144)\n",
            "Camada 'block_3_pad' - Status: Congelada - Entrada: (None, 63, 63, 144) - Saída: (None, 65, 65, 144)\n",
            "Camada 'block_3_depthwise' - Status: Congelada - Entrada: (None, 65, 65, 144) - Saída: (None, 32, 32, 144)\n",
            "Camada 'block_3_depthwise_BN' - Status: Congelada - Entrada: (None, 32, 32, 144) - Saída: (None, 32, 32, 144)\n",
            "Camada 'block_3_depthwise_relu' - Status: Congelada - Entrada: (None, 32, 32, 144) - Saída: (None, 32, 32, 144)\n",
            "Camada 'block_3_project' - Status: Congelada - Entrada: (None, 32, 32, 144) - Saída: (None, 32, 32, 32)\n",
            "Camada 'block_3_project_BN' - Status: Congelada - Entrada: (None, 32, 32, 32) - Saída: (None, 32, 32, 32)\n",
            "Camada 'block_4_expand' - Status: Congelada - Entrada: (None, 32, 32, 32) - Saída: (None, 32, 32, 192)\n",
            "Camada 'block_4_expand_BN' - Status: Congelada - Entrada: (None, 32, 32, 192) - Saída: (None, 32, 32, 192)\n",
            "Camada 'block_4_expand_relu' - Status: Congelada - Entrada: (None, 32, 32, 192) - Saída: (None, 32, 32, 192)\n",
            "Camada 'block_4_depthwise' - Status: Congelada - Entrada: (None, 32, 32, 192) - Saída: (None, 32, 32, 192)\n",
            "Camada 'block_4_depthwise_BN' - Status: Congelada - Entrada: (None, 32, 32, 192) - Saída: (None, 32, 32, 192)\n",
            "Camada 'block_4_depthwise_relu' - Status: Congelada - Entrada: (None, 32, 32, 192) - Saída: (None, 32, 32, 192)\n",
            "Camada 'block_4_project' - Status: Congelada - Entrada: (None, 32, 32, 192) - Saída: (None, 32, 32, 32)\n",
            "Camada 'block_4_project_BN' - Status: Congelada - Entrada: (None, 32, 32, 32) - Saída: (None, 32, 32, 32)\n",
            "Camada 'block_4_add' - Status: Congelada - Entrada: [(None, 32, 32, 32), (None, 32, 32, 32)] - Saída: (None, 32, 32, 32)\n",
            "Camada 'block_5_expand' - Status: Congelada - Entrada: (None, 32, 32, 32) - Saída: (None, 32, 32, 192)\n",
            "Camada 'block_5_expand_BN' - Status: Congelada - Entrada: (None, 32, 32, 192) - Saída: (None, 32, 32, 192)\n",
            "Camada 'block_5_expand_relu' - Status: Congelada - Entrada: (None, 32, 32, 192) - Saída: (None, 32, 32, 192)\n",
            "Camada 'block_5_depthwise' - Status: Congelada - Entrada: (None, 32, 32, 192) - Saída: (None, 32, 32, 192)\n",
            "Camada 'block_5_depthwise_BN' - Status: Congelada - Entrada: (None, 32, 32, 192) - Saída: (None, 32, 32, 192)\n",
            "Camada 'block_5_depthwise_relu' - Status: Congelada - Entrada: (None, 32, 32, 192) - Saída: (None, 32, 32, 192)\n",
            "Camada 'block_5_project' - Status: Congelada - Entrada: (None, 32, 32, 192) - Saída: (None, 32, 32, 32)\n",
            "Camada 'block_5_project_BN' - Status: Congelada - Entrada: (None, 32, 32, 32) - Saída: (None, 32, 32, 32)\n",
            "Camada 'block_5_add' - Status: Congelada - Entrada: [(None, 32, 32, 32), (None, 32, 32, 32)] - Saída: (None, 32, 32, 32)\n",
            "Camada 'block_6_expand' - Status: Congelada - Entrada: (None, 32, 32, 32) - Saída: (None, 32, 32, 192)\n",
            "Camada 'block_6_expand_BN' - Status: Congelada - Entrada: (None, 32, 32, 192) - Saída: (None, 32, 32, 192)\n",
            "Camada 'block_6_expand_relu' - Status: Congelada - Entrada: (None, 32, 32, 192) - Saída: (None, 32, 32, 192)\n",
            "Camada 'block_6_pad' - Status: Congelada - Entrada: (None, 32, 32, 192) - Saída: (None, 33, 33, 192)\n",
            "Camada 'block_6_depthwise' - Status: Congelada - Entrada: (None, 33, 33, 192) - Saída: (None, 16, 16, 192)\n",
            "Camada 'block_6_depthwise_BN' - Status: Congelada - Entrada: (None, 16, 16, 192) - Saída: (None, 16, 16, 192)\n",
            "Camada 'block_6_depthwise_relu' - Status: Congelada - Entrada: (None, 16, 16, 192) - Saída: (None, 16, 16, 192)\n",
            "Camada 'block_6_project' - Status: Congelada - Entrada: (None, 16, 16, 192) - Saída: (None, 16, 16, 64)\n",
            "Camada 'block_6_project_BN' - Status: Congelada - Entrada: (None, 16, 16, 64) - Saída: (None, 16, 16, 64)\n",
            "Camada 'block_7_expand' - Status: Congelada - Entrada: (None, 16, 16, 64) - Saída: (None, 16, 16, 384)\n",
            "Camada 'block_7_expand_BN' - Status: Congelada - Entrada: (None, 16, 16, 384) - Saída: (None, 16, 16, 384)\n",
            "Camada 'block_7_expand_relu' - Status: Congelada - Entrada: (None, 16, 16, 384) - Saída: (None, 16, 16, 384)\n",
            "Camada 'block_7_depthwise' - Status: Congelada - Entrada: (None, 16, 16, 384) - Saída: (None, 16, 16, 384)\n",
            "Camada 'block_7_depthwise_BN' - Status: Congelada - Entrada: (None, 16, 16, 384) - Saída: (None, 16, 16, 384)\n",
            "Camada 'block_7_depthwise_relu' - Status: Congelada - Entrada: (None, 16, 16, 384) - Saída: (None, 16, 16, 384)\n",
            "Camada 'block_7_project' - Status: Congelada - Entrada: (None, 16, 16, 384) - Saída: (None, 16, 16, 64)\n",
            "Camada 'block_7_project_BN' - Status: Congelada - Entrada: (None, 16, 16, 64) - Saída: (None, 16, 16, 64)\n",
            "Camada 'block_7_add' - Status: Congelada - Entrada: [(None, 16, 16, 64), (None, 16, 16, 64)] - Saída: (None, 16, 16, 64)\n",
            "Camada 'block_8_expand' - Status: Congelada - Entrada: (None, 16, 16, 64) - Saída: (None, 16, 16, 384)\n",
            "Camada 'block_8_expand_BN' - Status: Congelada - Entrada: (None, 16, 16, 384) - Saída: (None, 16, 16, 384)\n",
            "Camada 'block_8_expand_relu' - Status: Congelada - Entrada: (None, 16, 16, 384) - Saída: (None, 16, 16, 384)\n",
            "Camada 'block_8_depthwise' - Status: Congelada - Entrada: (None, 16, 16, 384) - Saída: (None, 16, 16, 384)\n",
            "Camada 'block_8_depthwise_BN' - Status: Congelada - Entrada: (None, 16, 16, 384) - Saída: (None, 16, 16, 384)\n",
            "Camada 'block_8_depthwise_relu' - Status: Congelada - Entrada: (None, 16, 16, 384) - Saída: (None, 16, 16, 384)\n",
            "Camada 'block_8_project' - Status: Congelada - Entrada: (None, 16, 16, 384) - Saída: (None, 16, 16, 64)\n",
            "Camada 'block_8_project_BN' - Status: Congelada - Entrada: (None, 16, 16, 64) - Saída: (None, 16, 16, 64)\n",
            "Camada 'block_8_add' - Status: Congelada - Entrada: [(None, 16, 16, 64), (None, 16, 16, 64)] - Saída: (None, 16, 16, 64)\n",
            "Camada 'block_9_expand' - Status: Congelada - Entrada: (None, 16, 16, 64) - Saída: (None, 16, 16, 384)\n",
            "Camada 'block_9_expand_BN' - Status: Congelada - Entrada: (None, 16, 16, 384) - Saída: (None, 16, 16, 384)\n",
            "Camada 'block_9_expand_relu' - Status: Congelada - Entrada: (None, 16, 16, 384) - Saída: (None, 16, 16, 384)\n",
            "Camada 'block_9_depthwise' - Status: Congelada - Entrada: (None, 16, 16, 384) - Saída: (None, 16, 16, 384)\n",
            "Camada 'block_9_depthwise_BN' - Status: Congelada - Entrada: (None, 16, 16, 384) - Saída: (None, 16, 16, 384)\n",
            "Camada 'block_9_depthwise_relu' - Status: Congelada - Entrada: (None, 16, 16, 384) - Saída: (None, 16, 16, 384)\n",
            "Camada 'block_9_project' - Status: Congelada - Entrada: (None, 16, 16, 384) - Saída: (None, 16, 16, 64)\n",
            "Camada 'block_9_project_BN' - Status: Congelada - Entrada: (None, 16, 16, 64) - Saída: (None, 16, 16, 64)\n",
            "Camada 'block_9_add' - Status: Congelada - Entrada: [(None, 16, 16, 64), (None, 16, 16, 64)] - Saída: (None, 16, 16, 64)\n",
            "Camada 'block_10_expand' - Status: Congelada - Entrada: (None, 16, 16, 64) - Saída: (None, 16, 16, 384)\n",
            "Camada 'block_10_expand_BN' - Status: Congelada - Entrada: (None, 16, 16, 384) - Saída: (None, 16, 16, 384)\n",
            "Camada 'block_10_expand_relu' - Status: Congelada - Entrada: (None, 16, 16, 384) - Saída: (None, 16, 16, 384)\n",
            "Camada 'block_10_depthwise' - Status: Congelada - Entrada: (None, 16, 16, 384) - Saída: (None, 16, 16, 384)\n",
            "Camada 'block_10_depthwise_BN' - Status: Congelada - Entrada: (None, 16, 16, 384) - Saída: (None, 16, 16, 384)\n",
            "Camada 'block_10_depthwise_relu' - Status: Congelada - Entrada: (None, 16, 16, 384) - Saída: (None, 16, 16, 384)\n",
            "Camada 'block_10_project' - Status: Congelada - Entrada: (None, 16, 16, 384) - Saída: (None, 16, 16, 96)\n",
            "Camada 'block_10_project_BN' - Status: Congelada - Entrada: (None, 16, 16, 96) - Saída: (None, 16, 16, 96)\n",
            "Camada 'block_11_expand' - Status: Congelada - Entrada: (None, 16, 16, 96) - Saída: (None, 16, 16, 576)\n",
            "Camada 'block_11_expand_BN' - Status: Congelada - Entrada: (None, 16, 16, 576) - Saída: (None, 16, 16, 576)\n",
            "Camada 'block_11_expand_relu' - Status: Congelada - Entrada: (None, 16, 16, 576) - Saída: (None, 16, 16, 576)\n",
            "Camada 'block_11_depthwise' - Status: Congelada - Entrada: (None, 16, 16, 576) - Saída: (None, 16, 16, 576)\n",
            "Camada 'block_11_depthwise_BN' - Status: Congelada - Entrada: (None, 16, 16, 576) - Saída: (None, 16, 16, 576)\n",
            "Camada 'block_11_depthwise_relu' - Status: Congelada - Entrada: (None, 16, 16, 576) - Saída: (None, 16, 16, 576)\n",
            "Camada 'block_11_project' - Status: Congelada - Entrada: (None, 16, 16, 576) - Saída: (None, 16, 16, 96)\n",
            "Camada 'block_11_project_BN' - Status: Congelada - Entrada: (None, 16, 16, 96) - Saída: (None, 16, 16, 96)\n",
            "Camada 'block_11_add' - Status: Congelada - Entrada: [(None, 16, 16, 96), (None, 16, 16, 96)] - Saída: (None, 16, 16, 96)\n",
            "Camada 'block_12_expand' - Status: Congelada - Entrada: (None, 16, 16, 96) - Saída: (None, 16, 16, 576)\n",
            "Camada 'block_12_expand_BN' - Status: Congelada - Entrada: (None, 16, 16, 576) - Saída: (None, 16, 16, 576)\n",
            "Camada 'block_12_expand_relu' - Status: Congelada - Entrada: (None, 16, 16, 576) - Saída: (None, 16, 16, 576)\n",
            "Camada 'block_12_depthwise' - Status: Congelada - Entrada: (None, 16, 16, 576) - Saída: (None, 16, 16, 576)\n",
            "Camada 'block_12_depthwise_BN' - Status: Congelada - Entrada: (None, 16, 16, 576) - Saída: (None, 16, 16, 576)\n",
            "Camada 'block_12_depthwise_relu' - Status: Congelada - Entrada: (None, 16, 16, 576) - Saída: (None, 16, 16, 576)\n",
            "Camada 'block_12_project' - Status: Congelada - Entrada: (None, 16, 16, 576) - Saída: (None, 16, 16, 96)\n",
            "Camada 'block_12_project_BN' - Status: Congelada - Entrada: (None, 16, 16, 96) - Saída: (None, 16, 16, 96)\n",
            "Camada 'block_12_add' - Status: Congelada - Entrada: [(None, 16, 16, 96), (None, 16, 16, 96)] - Saída: (None, 16, 16, 96)\n",
            "Camada 'block_13_expand' - Status: Congelada - Entrada: (None, 16, 16, 96) - Saída: (None, 16, 16, 576)\n",
            "Camada 'block_13_expand_BN' - Status: Congelada - Entrada: (None, 16, 16, 576) - Saída: (None, 16, 16, 576)\n",
            "Camada 'block_13_expand_relu' - Status: Congelada - Entrada: (None, 16, 16, 576) - Saída: (None, 16, 16, 576)\n",
            "Camada 'block_13_pad' - Status: Congelada - Entrada: (None, 16, 16, 576) - Saída: (None, 17, 17, 576)\n",
            "Camada 'block_13_depthwise' - Status: Congelada - Entrada: (None, 17, 17, 576) - Saída: (None, 8, 8, 576)\n",
            "Camada 'block_13_depthwise_BN' - Status: Congelada - Entrada: (None, 8, 8, 576) - Saída: (None, 8, 8, 576)\n",
            "Camada 'block_13_depthwise_relu' - Status: Congelada - Entrada: (None, 8, 8, 576) - Saída: (None, 8, 8, 576)\n",
            "Camada 'block_13_project' - Status: Congelada - Entrada: (None, 8, 8, 576) - Saída: (None, 8, 8, 160)\n",
            "Camada 'block_13_project_BN' - Status: Congelada - Entrada: (None, 8, 8, 160) - Saída: (None, 8, 8, 160)\n",
            "Camada 'block_14_expand' - Status: Congelada - Entrada: (None, 8, 8, 160) - Saída: (None, 8, 8, 960)\n",
            "Camada 'block_14_expand_BN' - Status: Congelada - Entrada: (None, 8, 8, 960) - Saída: (None, 8, 8, 960)\n",
            "Camada 'block_14_expand_relu' - Status: Congelada - Entrada: (None, 8, 8, 960) - Saída: (None, 8, 8, 960)\n",
            "Camada 'block_14_depthwise' - Status: Congelada - Entrada: (None, 8, 8, 960) - Saída: (None, 8, 8, 960)\n",
            "Camada 'block_14_depthwise_BN' - Status: Congelada - Entrada: (None, 8, 8, 960) - Saída: (None, 8, 8, 960)\n",
            "Camada 'block_14_depthwise_relu' - Status: Congelada - Entrada: (None, 8, 8, 960) - Saída: (None, 8, 8, 960)\n",
            "Camada 'block_14_project' - Status: Congelada - Entrada: (None, 8, 8, 960) - Saída: (None, 8, 8, 160)\n",
            "Camada 'block_14_project_BN' - Status: Congelada - Entrada: (None, 8, 8, 160) - Saída: (None, 8, 8, 160)\n",
            "Camada 'block_14_add' - Status: Congelada - Entrada: [(None, 8, 8, 160), (None, 8, 8, 160)] - Saída: (None, 8, 8, 160)\n",
            "Camada 'block_15_expand' - Status: Congelada - Entrada: (None, 8, 8, 160) - Saída: (None, 8, 8, 960)\n",
            "Camada 'block_15_expand_BN' - Status: Congelada - Entrada: (None, 8, 8, 960) - Saída: (None, 8, 8, 960)\n",
            "Camada 'block_15_expand_relu' - Status: Congelada - Entrada: (None, 8, 8, 960) - Saída: (None, 8, 8, 960)\n",
            "Camada 'block_15_depthwise' - Status: Congelada - Entrada: (None, 8, 8, 960) - Saída: (None, 8, 8, 960)\n",
            "Camada 'block_15_depthwise_BN' - Status: Congelada - Entrada: (None, 8, 8, 960) - Saída: (None, 8, 8, 960)\n",
            "Camada 'block_15_depthwise_relu' - Status: Congelada - Entrada: (None, 8, 8, 960) - Saída: (None, 8, 8, 960)\n",
            "Camada 'block_15_project' - Status: Congelada - Entrada: (None, 8, 8, 960) - Saída: (None, 8, 8, 160)\n",
            "Camada 'block_15_project_BN' - Status: Congelada - Entrada: (None, 8, 8, 160) - Saída: (None, 8, 8, 160)\n",
            "Camada 'block_15_add' - Status: Congelada - Entrada: [(None, 8, 8, 160), (None, 8, 8, 160)] - Saída: (None, 8, 8, 160)\n",
            "Camada 'block_16_expand' - Status: Treinável - Entrada: (None, 8, 8, 160) - Saída: (None, 8, 8, 960)\n",
            "Camada 'block_16_expand_BN' - Status: Treinável - Entrada: (None, 8, 8, 960) - Saída: (None, 8, 8, 960)\n",
            "Camada 'block_16_expand_relu' - Status: Treinável - Entrada: (None, 8, 8, 960) - Saída: (None, 8, 8, 960)\n",
            "Camada 'block_16_depthwise' - Status: Treinável - Entrada: (None, 8, 8, 960) - Saída: (None, 8, 8, 960)\n",
            "Camada 'block_16_depthwise_BN' - Status: Treinável - Entrada: (None, 8, 8, 960) - Saída: (None, 8, 8, 960)\n",
            "Camada 'block_16_depthwise_relu' - Status: Treinável - Entrada: (None, 8, 8, 960) - Saída: (None, 8, 8, 960)\n",
            "Camada 'block_16_project' - Status: Treinável - Entrada: (None, 8, 8, 960) - Saída: (None, 8, 8, 320)\n",
            "Camada 'block_16_project_BN' - Status: Treinável - Entrada: (None, 8, 8, 320) - Saída: (None, 8, 8, 320)\n",
            "Camada 'Conv_1' - Status: Treinável - Entrada: (None, 8, 8, 320) - Saída: (None, 8, 8, 1280)\n",
            "Camada 'Conv_1_bn' - Status: Treinável - Entrada: (None, 8, 8, 1280) - Saída: (None, 8, 8, 1280)\n",
            "Camada 'out_relu' - Status: Treinável - Entrada: (None, 8, 8, 1280) - Saída: (None, 8, 8, 1280)\n"
          ]
        }
      ]
    },
    {
      "cell_type": "code",
      "source": [
        "model.compile(optimizer=optimizers.Adam(learning_rate = 1e-5), \n",
        "              loss = \"categorical_crossentropy\", \n",
        "              metrics = [\"acc\"])\n",
        "\n",
        "model.summary()"
      ],
      "metadata": {
        "colab": {
          "base_uri": "https://localhost:8080/"
        },
        "id": "No9RH6DX1Xia",
        "outputId": "ad71d303-5c22-4a2f-a411-270da14f6018"
      },
      "execution_count": null,
      "outputs": [
        {
          "output_type": "stream",
          "name": "stdout",
          "text": [
            "Model: \"sequential_11\"\n",
            "_________________________________________________________________\n",
            " Layer (type)                Output Shape              Param #   \n",
            "=================================================================\n",
            " mobilenetv2_1.00_224 (Funct  (None, 8, 8, 1280)       2257984   \n",
            " ional)                                                          \n",
            "                                                                 \n",
            " flatten_11 (Flatten)        (None, 81920)             0         \n",
            "                                                                 \n",
            " dense_22 (Dense)            (None, 64)                5242944   \n",
            "                                                                 \n",
            " dense_23 (Dense)            (None, 7)                 455       \n",
            "                                                                 \n",
            "=================================================================\n",
            "Total params: 7,501,383\n",
            "Trainable params: 6,129,479\n",
            "Non-trainable params: 1,371,904\n",
            "_________________________________________________________________\n"
          ]
        }
      ]
    },
    {
      "cell_type": "code",
      "source": [
        "ACCURACY_THRESHOLD = 0.95\n",
        "\n",
        "class myCallback(tf.keras.callbacks.Callback):\n",
        "    def on_epoch_end(self, epoch, logs={}):\n",
        "      if(logs.get('val_accuracy') >= 0.95):\n",
        "          print(\"\\nReached %2.2f%% accuracy, so stopping training!!\" %(ACCURACY_THRESHOLD*100))\n",
        "          model.save(\"model2.h5\")\n",
        "          self.model.stop_training = True\n",
        "\n",
        "METRICS = [\n",
        "      tf.keras.metrics.BinaryAccuracy(name='accuracy'),\n",
        "      tf.keras.metrics.Precision(name='precision'),\n",
        "      tf.keras.metrics.Recall(name='recall'),  \n",
        "      tf.keras.metrics.AUC(name='auc')\n",
        "]\n",
        "callbacks = myCallback()\n",
        "model.compile(optimizer=optimizers.Adam(learning_rate=1e-5), loss='categorical_crossentropy',metrics=METRICS)"
      ],
      "metadata": {
        "id": "FuTd1b0c1Z-n"
      },
      "execution_count": null,
      "outputs": []
    },
    {
      "cell_type": "code",
      "source": [
        "model_checkpoint = callbacks.ModelCheckpoint(\"model_ft.h5\", monitor = \"acc\", save_best_only = True, verbose = 1)\n",
        "reduce_lr_on_plateau = callbacks.ReduceLROnPlateau(monitor = \"acc\", factor = 0.75, patience = 3, verbose = 1)\n",
        "\n",
        "# Repare que ao utilizar mais de 1 callback elas devem ser organizadas em uma lista\n",
        "callback_list = [model_checkpoint, reduce_lr_on_plateau]"
      ],
      "metadata": {
        "id": "Gr_2IznEAXNI"
      },
      "execution_count": null,
      "outputs": []
    },
    {
      "cell_type": "code",
      "source": [
        "history = model.fit( train_generator, steps_per_epoch = (train_samples//batch_size),\n",
        "                     epochs = 30, callbacks =callback_list , \n",
        "                     validation_data = val_generator, validation_steps = (val_samples//batch_size))\n",
        "history_dict = history.history\n",
        "#history=model.fit(train_generator,validation_data=val_generator,epochs = 10,callbacks=[callbacks],verbose = 1)"
      ],
      "metadata": {
        "colab": {
          "base_uri": "https://localhost:8080/"
        },
        "id": "VVXDgriP1jVt",
        "outputId": "f1c2f573-db5a-4721-df4a-5edb9fab9d7c"
      },
      "execution_count": null,
      "outputs": [
        {
          "output_type": "stream",
          "name": "stdout",
          "text": [
            "Epoch 1/30\n",
            "12/12 [==============================] - ETA: 0s - loss: 1.9615 - accuracy: 0.8512 - precision: 0.3974 - recall: 0.0810 - auc: 0.6400"
          ]
        },
        {
          "output_type": "stream",
          "name": "stderr",
          "text": [
            "WARNING:tensorflow:Can save best model only with acc available, skipping.\n",
            "WARNING:tensorflow:Learning rate reduction is conditioned on metric `acc` which is not available. Available metrics are: loss,accuracy,precision,recall,auc,val_loss,val_accuracy,val_precision,val_recall,val_auc,lr\n"
          ]
        },
        {
          "output_type": "stream",
          "name": "stdout",
          "text": [
            "\b\b\b\b\b\b\b\b\b\b\b\b\b\b\b\b\b\b\b\b\b\b\b\b\b\b\b\b\b\b\b\b\b\b\b\b\b\b\b\b\b\b\b\b\b\b\b\b\b\b\b\b\b\b\b\b\b\b\b\b\b\b\b\b\b\b\b\b\b\b\b\b\b\b\b\b\b\b\b\b\b\b\b\b\b\b\b\b\b\b\b\b\b\b\b\b\b\b\b\b\b\b\b\b\b\b\b\b\b\b\b\b\b\b\b\b\b\b\b\b\b\b\b\b\b\b\b\b\b\b\b\b\b\r12/12 [==============================] - 13s 1s/step - loss: 1.9615 - accuracy: 0.8512 - precision: 0.3974 - recall: 0.0810 - auc: 0.6400 - val_loss: 1.8245 - val_accuracy: 0.8504 - val_precision: 0.2766 - val_recall: 0.0290 - val_auc: 0.6826 - lr: 1.0000e-05\n",
            "Epoch 2/30\n",
            "12/12 [==============================] - ETA: 0s - loss: 1.8008 - accuracy: 0.8589 - precision: 0.5315 - recall: 0.1026 - auc: 0.6926"
          ]
        },
        {
          "output_type": "stream",
          "name": "stderr",
          "text": [
            "WARNING:tensorflow:Can save best model only with acc available, skipping.\n",
            "WARNING:tensorflow:Learning rate reduction is conditioned on metric `acc` which is not available. Available metrics are: loss,accuracy,precision,recall,auc,val_loss,val_accuracy,val_precision,val_recall,val_auc,lr\n"
          ]
        },
        {
          "output_type": "stream",
          "name": "stdout",
          "text": [
            "\b\b\b\b\b\b\b\b\b\b\b\b\b\b\b\b\b\b\b\b\b\b\b\b\b\b\b\b\b\b\b\b\b\b\b\b\b\b\b\b\b\b\b\b\b\b\b\b\b\b\b\b\b\b\b\b\b\b\b\b\b\b\b\b\b\b\b\b\b\b\b\b\b\b\b\b\b\b\b\b\b\b\b\b\b\b\b\b\b\b\b\b\b\b\b\b\b\b\b\b\b\b\b\b\b\b\b\b\b\b\b\b\b\b\b\b\b\b\b\b\b\b\b\b\b\b\b\b\b\b\b\b\b\r12/12 [==============================] - 13s 1s/step - loss: 1.8008 - accuracy: 0.8589 - precision: 0.5315 - recall: 0.1026 - auc: 0.6926 - val_loss: 1.7312 - val_accuracy: 0.8530 - val_precision: 0.3488 - val_recall: 0.0335 - val_auc: 0.7205 - lr: 1.0000e-05\n",
            "Epoch 3/30\n",
            "12/12 [==============================] - ETA: 0s - loss: 1.6997 - accuracy: 0.8608 - precision: 0.5597 - recall: 0.1201 - auc: 0.7347"
          ]
        },
        {
          "output_type": "stream",
          "name": "stderr",
          "text": [
            "WARNING:tensorflow:Can save best model only with acc available, skipping.\n",
            "WARNING:tensorflow:Learning rate reduction is conditioned on metric `acc` which is not available. Available metrics are: loss,accuracy,precision,recall,auc,val_loss,val_accuracy,val_precision,val_recall,val_auc,lr\n"
          ]
        },
        {
          "output_type": "stream",
          "name": "stdout",
          "text": [
            "\b\b\b\b\b\b\b\b\b\b\b\b\b\b\b\b\b\b\b\b\b\b\b\b\b\b\b\b\b\b\b\b\b\b\b\b\b\b\b\b\b\b\b\b\b\b\b\b\b\b\b\b\b\b\b\b\b\b\b\b\b\b\b\b\b\b\b\b\b\b\b\b\b\b\b\b\b\b\b\b\b\b\b\b\b\b\b\b\b\b\b\b\b\b\b\b\b\b\b\b\b\b\b\b\b\b\b\b\b\b\b\b\b\b\b\b\b\b\b\b\b\b\b\b\b\b\b\b\b\b\b\b\b\r12/12 [==============================] - 13s 1s/step - loss: 1.6997 - accuracy: 0.8608 - precision: 0.5597 - recall: 0.1201 - auc: 0.7347 - val_loss: 1.7820 - val_accuracy: 0.8524 - val_precision: 0.3333 - val_recall: 0.0335 - val_auc: 0.6988 - lr: 1.0000e-05\n",
            "Epoch 4/30\n",
            "12/12 [==============================] - ETA: 0s - loss: 1.5643 - accuracy: 0.8649 - precision: 0.6220 - recall: 0.1377 - auc: 0.7778"
          ]
        },
        {
          "output_type": "stream",
          "name": "stderr",
          "text": [
            "WARNING:tensorflow:Can save best model only with acc available, skipping.\n",
            "WARNING:tensorflow:Learning rate reduction is conditioned on metric `acc` which is not available. Available metrics are: loss,accuracy,precision,recall,auc,val_loss,val_accuracy,val_precision,val_recall,val_auc,lr\n"
          ]
        },
        {
          "output_type": "stream",
          "name": "stdout",
          "text": [
            "\b\b\b\b\b\b\b\b\b\b\b\b\b\b\b\b\b\b\b\b\b\b\b\b\b\b\b\b\b\b\b\b\b\b\b\b\b\b\b\b\b\b\b\b\b\b\b\b\b\b\b\b\b\b\b\b\b\b\b\b\b\b\b\b\b\b\b\b\b\b\b\b\b\b\b\b\b\b\b\b\b\b\b\b\b\b\b\b\b\b\b\b\b\b\b\b\b\b\b\b\b\b\b\b\b\b\b\b\b\b\b\b\b\b\b\b\b\b\b\b\b\b\b\b\b\b\b\b\b\b\b\b\b\r12/12 [==============================] - 13s 1s/step - loss: 1.5643 - accuracy: 0.8649 - precision: 0.6220 - recall: 0.1377 - auc: 0.7778 - val_loss: 1.7038 - val_accuracy: 0.8533 - val_precision: 0.3929 - val_recall: 0.0491 - val_auc: 0.7341 - lr: 1.0000e-05\n",
            "Epoch 5/30\n",
            "12/12 [==============================] - ETA: 0s - loss: 1.5767 - accuracy: 0.8683 - precision: 0.6436 - recall: 0.1754 - auc: 0.7721"
          ]
        },
        {
          "output_type": "stream",
          "name": "stderr",
          "text": [
            "WARNING:tensorflow:Can save best model only with acc available, skipping.\n",
            "WARNING:tensorflow:Learning rate reduction is conditioned on metric `acc` which is not available. Available metrics are: loss,accuracy,precision,recall,auc,val_loss,val_accuracy,val_precision,val_recall,val_auc,lr\n"
          ]
        },
        {
          "output_type": "stream",
          "name": "stdout",
          "text": [
            "\b\b\b\b\b\b\b\b\b\b\b\b\b\b\b\b\b\b\b\b\b\b\b\b\b\b\b\b\b\b\b\b\b\b\b\b\b\b\b\b\b\b\b\b\b\b\b\b\b\b\b\b\b\b\b\b\b\b\b\b\b\b\b\b\b\b\b\b\b\b\b\b\b\b\b\b\b\b\b\b\b\b\b\b\b\b\b\b\b\b\b\b\b\b\b\b\b\b\b\b\b\b\b\b\b\b\b\b\b\b\b\b\b\b\b\b\b\b\b\b\b\b\b\b\b\b\b\b\b\b\b\b\b\r12/12 [==============================] - 13s 1s/step - loss: 1.5767 - accuracy: 0.8683 - precision: 0.6436 - recall: 0.1754 - auc: 0.7721 - val_loss: 1.6155 - val_accuracy: 0.8565 - val_precision: 0.4848 - val_recall: 0.0714 - val_auc: 0.7680 - lr: 1.0000e-05\n",
            "Epoch 6/30\n",
            "12/12 [==============================] - ETA: 0s - loss: 1.5104 - accuracy: 0.8656 - precision: 0.6078 - recall: 0.1673 - auc: 0.7959"
          ]
        },
        {
          "output_type": "stream",
          "name": "stderr",
          "text": [
            "WARNING:tensorflow:Can save best model only with acc available, skipping.\n",
            "WARNING:tensorflow:Learning rate reduction is conditioned on metric `acc` which is not available. Available metrics are: loss,accuracy,precision,recall,auc,val_loss,val_accuracy,val_precision,val_recall,val_auc,lr\n"
          ]
        },
        {
          "output_type": "stream",
          "name": "stdout",
          "text": [
            "\b\b\b\b\b\b\b\b\b\b\b\b\b\b\b\b\b\b\b\b\b\b\b\b\b\b\b\b\b\b\b\b\b\b\b\b\b\b\b\b\b\b\b\b\b\b\b\b\b\b\b\b\b\b\b\b\b\b\b\b\b\b\b\b\b\b\b\b\b\b\b\b\b\b\b\b\b\b\b\b\b\b\b\b\b\b\b\b\b\b\b\b\b\b\b\b\b\b\b\b\b\b\b\b\b\b\b\b\b\b\b\b\b\b\b\b\b\b\b\b\b\b\b\b\b\b\b\b\b\b\b\b\b\r12/12 [==============================] - 13s 1s/step - loss: 1.5104 - accuracy: 0.8656 - precision: 0.6078 - recall: 0.1673 - auc: 0.7959 - val_loss: 1.5986 - val_accuracy: 0.8578 - val_precision: 0.5125 - val_recall: 0.0915 - val_auc: 0.7746 - lr: 1.0000e-05\n",
            "Epoch 7/30\n",
            "12/12 [==============================] - ETA: 0s - loss: 1.4476 - accuracy: 0.8745 - precision: 0.6860 - recall: 0.2240 - auc: 0.8122"
          ]
        },
        {
          "output_type": "stream",
          "name": "stderr",
          "text": [
            "WARNING:tensorflow:Can save best model only with acc available, skipping.\n",
            "WARNING:tensorflow:Learning rate reduction is conditioned on metric `acc` which is not available. Available metrics are: loss,accuracy,precision,recall,auc,val_loss,val_accuracy,val_precision,val_recall,val_auc,lr\n"
          ]
        },
        {
          "output_type": "stream",
          "name": "stdout",
          "text": [
            "\b\b\b\b\b\b\b\b\b\b\b\b\b\b\b\b\b\b\b\b\b\b\b\b\b\b\b\b\b\b\b\b\b\b\b\b\b\b\b\b\b\b\b\b\b\b\b\b\b\b\b\b\b\b\b\b\b\b\b\b\b\b\b\b\b\b\b\b\b\b\b\b\b\b\b\b\b\b\b\b\b\b\b\b\b\b\b\b\b\b\b\b\b\b\b\b\b\b\b\b\b\b\b\b\b\b\b\b\b\b\b\b\b\b\b\b\b\b\b\b\b\b\b\b\b\b\b\b\b\b\b\b\b\r12/12 [==============================] - 13s 1s/step - loss: 1.4476 - accuracy: 0.8745 - precision: 0.6860 - recall: 0.2240 - auc: 0.8122 - val_loss: 1.6219 - val_accuracy: 0.8552 - val_precision: 0.4667 - val_recall: 0.0938 - val_auc: 0.7670 - lr: 1.0000e-05\n",
            "Epoch 8/30\n",
            "12/12 [==============================] - ETA: 0s - loss: 1.3857 - accuracy: 0.8768 - precision: 0.6875 - recall: 0.2524 - auc: 0.8313"
          ]
        },
        {
          "output_type": "stream",
          "name": "stderr",
          "text": [
            "WARNING:tensorflow:Can save best model only with acc available, skipping.\n",
            "WARNING:tensorflow:Learning rate reduction is conditioned on metric `acc` which is not available. Available metrics are: loss,accuracy,precision,recall,auc,val_loss,val_accuracy,val_precision,val_recall,val_auc,lr\n"
          ]
        },
        {
          "output_type": "stream",
          "name": "stdout",
          "text": [
            "\b\b\b\b\b\b\b\b\b\b\b\b\b\b\b\b\b\b\b\b\b\b\b\b\b\b\b\b\b\b\b\b\b\b\b\b\b\b\b\b\b\b\b\b\b\b\b\b\b\b\b\b\b\b\b\b\b\b\b\b\b\b\b\b\b\b\b\b\b\b\b\b\b\b\b\b\b\b\b\b\b\b\b\b\b\b\b\b\b\b\b\b\b\b\b\b\b\b\b\b\b\b\b\b\b\b\b\b\b\b\b\b\b\b\b\b\b\b\b\b\b\b\b\b\b\b\b\b\b\b\b\b\b\r12/12 [==============================] - 13s 1s/step - loss: 1.3857 - accuracy: 0.8768 - precision: 0.6875 - recall: 0.2524 - auc: 0.8313 - val_loss: 1.7118 - val_accuracy: 0.8482 - val_precision: 0.3750 - val_recall: 0.0938 - val_auc: 0.7423 - lr: 1.0000e-05\n",
            "Epoch 9/30\n",
            "12/12 [==============================] - ETA: 0s - loss: 1.3549 - accuracy: 0.8762 - precision: 0.6689 - recall: 0.2645 - auc: 0.8386"
          ]
        },
        {
          "output_type": "stream",
          "name": "stderr",
          "text": [
            "WARNING:tensorflow:Can save best model only with acc available, skipping.\n",
            "WARNING:tensorflow:Learning rate reduction is conditioned on metric `acc` which is not available. Available metrics are: loss,accuracy,precision,recall,auc,val_loss,val_accuracy,val_precision,val_recall,val_auc,lr\n"
          ]
        },
        {
          "output_type": "stream",
          "name": "stdout",
          "text": [
            "\b\b\b\b\b\b\b\b\b\b\b\b\b\b\b\b\b\b\b\b\b\b\b\b\b\b\b\b\b\b\b\b\b\b\b\b\b\b\b\b\b\b\b\b\b\b\b\b\b\b\b\b\b\b\b\b\b\b\b\b\b\b\b\b\b\b\b\b\b\b\b\b\b\b\b\b\b\b\b\b\b\b\b\b\b\b\b\b\b\b\b\b\b\b\b\b\b\b\b\b\b\b\b\b\b\b\b\b\b\b\b\b\b\b\b\b\b\b\b\b\b\b\b\b\b\b\b\b\b\b\b\b\b\r12/12 [==============================] - 13s 1s/step - loss: 1.3549 - accuracy: 0.8762 - precision: 0.6689 - recall: 0.2645 - auc: 0.8386 - val_loss: 1.6152 - val_accuracy: 0.8533 - val_precision: 0.4492 - val_recall: 0.1183 - val_auc: 0.7725 - lr: 1.0000e-05\n",
            "Epoch 10/30\n",
            "12/12 [==============================] - ETA: 0s - loss: 1.3106 - accuracy: 0.8774 - precision: 0.6677 - recall: 0.2821 - auc: 0.8516"
          ]
        },
        {
          "output_type": "stream",
          "name": "stderr",
          "text": [
            "WARNING:tensorflow:Can save best model only with acc available, skipping.\n",
            "WARNING:tensorflow:Learning rate reduction is conditioned on metric `acc` which is not available. Available metrics are: loss,accuracy,precision,recall,auc,val_loss,val_accuracy,val_precision,val_recall,val_auc,lr\n"
          ]
        },
        {
          "output_type": "stream",
          "name": "stdout",
          "text": [
            "\b\b\b\b\b\b\b\b\b\b\b\b\b\b\b\b\b\b\b\b\b\b\b\b\b\b\b\b\b\b\b\b\b\b\b\b\b\b\b\b\b\b\b\b\b\b\b\b\b\b\b\b\b\b\b\b\b\b\b\b\b\b\b\b\b\b\b\b\b\b\b\b\b\b\b\b\b\b\b\b\b\b\b\b\b\b\b\b\b\b\b\b\b\b\b\b\b\b\b\b\b\b\b\b\b\b\b\b\b\b\b\b\b\b\b\b\b\b\b\b\b\b\b\b\b\b\b\b\b\b\b\b\b\r12/12 [==============================] - 13s 1s/step - loss: 1.3106 - accuracy: 0.8774 - precision: 0.6677 - recall: 0.2821 - auc: 0.8516 - val_loss: 1.6926 - val_accuracy: 0.8482 - val_precision: 0.3906 - val_recall: 0.1116 - val_auc: 0.7496 - lr: 1.0000e-05\n",
            "Epoch 11/30\n",
            "12/12 [==============================] - ETA: 0s - loss: 1.2573 - accuracy: 0.8824 - precision: 0.6979 - recall: 0.3117 - auc: 0.8635"
          ]
        },
        {
          "output_type": "stream",
          "name": "stderr",
          "text": [
            "WARNING:tensorflow:Can save best model only with acc available, skipping.\n",
            "WARNING:tensorflow:Learning rate reduction is conditioned on metric `acc` which is not available. Available metrics are: loss,accuracy,precision,recall,auc,val_loss,val_accuracy,val_precision,val_recall,val_auc,lr\n"
          ]
        },
        {
          "output_type": "stream",
          "name": "stdout",
          "text": [
            "\b\b\b\b\b\b\b\b\b\b\b\b\b\b\b\b\b\b\b\b\b\b\b\b\b\b\b\b\b\b\b\b\b\b\b\b\b\b\b\b\b\b\b\b\b\b\b\b\b\b\b\b\b\b\b\b\b\b\b\b\b\b\b\b\b\b\b\b\b\b\b\b\b\b\b\b\b\b\b\b\b\b\b\b\b\b\b\b\b\b\b\b\b\b\b\b\b\b\b\b\b\b\b\b\b\b\b\b\b\b\b\b\b\b\b\b\b\b\b\b\b\b\b\b\b\b\b\b\b\b\b\b\b\r12/12 [==============================] - 13s 1s/step - loss: 1.2573 - accuracy: 0.8824 - precision: 0.6979 - recall: 0.3117 - auc: 0.8635 - val_loss: 1.6324 - val_accuracy: 0.8540 - val_precision: 0.4671 - val_recall: 0.1585 - val_auc: 0.7713 - lr: 1.0000e-05\n",
            "Epoch 12/30\n",
            "12/12 [==============================] - ETA: 0s - loss: 1.2403 - accuracy: 0.8817 - precision: 0.6964 - recall: 0.3047 - auc: 0.8705"
          ]
        },
        {
          "output_type": "stream",
          "name": "stderr",
          "text": [
            "WARNING:tensorflow:Can save best model only with acc available, skipping.\n",
            "WARNING:tensorflow:Learning rate reduction is conditioned on metric `acc` which is not available. Available metrics are: loss,accuracy,precision,recall,auc,val_loss,val_accuracy,val_precision,val_recall,val_auc,lr\n"
          ]
        },
        {
          "output_type": "stream",
          "name": "stdout",
          "text": [
            "\b\b\b\b\b\b\b\b\b\b\b\b\b\b\b\b\b\b\b\b\b\b\b\b\b\b\b\b\b\b\b\b\b\b\b\b\b\b\b\b\b\b\b\b\b\b\b\b\b\b\b\b\b\b\b\b\b\b\b\b\b\b\b\b\b\b\b\b\b\b\b\b\b\b\b\b\b\b\b\b\b\b\b\b\b\b\b\b\b\b\b\b\b\b\b\b\b\b\b\b\b\b\b\b\b\b\b\b\b\b\b\b\b\b\b\b\b\b\b\b\b\b\b\b\b\b\b\b\b\b\b\b\b\r12/12 [==============================] - 13s 1s/step - loss: 1.2403 - accuracy: 0.8817 - precision: 0.6964 - recall: 0.3047 - auc: 0.8705 - val_loss: 1.5742 - val_accuracy: 0.8565 - val_precision: 0.4943 - val_recall: 0.1942 - val_auc: 0.7882 - lr: 1.0000e-05\n",
            "Epoch 13/30\n",
            "12/12 [==============================] - ETA: 0s - loss: 1.2192 - accuracy: 0.8899 - precision: 0.7310 - recall: 0.3630 - auc: 0.8729"
          ]
        },
        {
          "output_type": "stream",
          "name": "stderr",
          "text": [
            "WARNING:tensorflow:Can save best model only with acc available, skipping.\n",
            "WARNING:tensorflow:Learning rate reduction is conditioned on metric `acc` which is not available. Available metrics are: loss,accuracy,precision,recall,auc,val_loss,val_accuracy,val_precision,val_recall,val_auc,lr\n"
          ]
        },
        {
          "output_type": "stream",
          "name": "stdout",
          "text": [
            "\b\b\b\b\b\b\b\b\b\b\b\b\b\b\b\b\b\b\b\b\b\b\b\b\b\b\b\b\b\b\b\b\b\b\b\b\b\b\b\b\b\b\b\b\b\b\b\b\b\b\b\b\b\b\b\b\b\b\b\b\b\b\b\b\b\b\b\b\b\b\b\b\b\b\b\b\b\b\b\b\b\b\b\b\b\b\b\b\b\b\b\b\b\b\b\b\b\b\b\b\b\b\b\b\b\b\b\b\b\b\b\b\b\b\b\b\b\b\b\b\b\b\b\b\b\b\b\b\b\b\b\b\b\r12/12 [==============================] - 13s 1s/step - loss: 1.2192 - accuracy: 0.8899 - precision: 0.7310 - recall: 0.3630 - auc: 0.8729 - val_loss: 1.5775 - val_accuracy: 0.8575 - val_precision: 0.5026 - val_recall: 0.2143 - val_auc: 0.7899 - lr: 1.0000e-05\n",
            "Epoch 14/30\n",
            "12/12 [==============================] - ETA: 0s - loss: 1.1757 - accuracy: 0.8890 - precision: 0.7350 - recall: 0.3482 - auc: 0.8830"
          ]
        },
        {
          "output_type": "stream",
          "name": "stderr",
          "text": [
            "WARNING:tensorflow:Can save best model only with acc available, skipping.\n",
            "WARNING:tensorflow:Learning rate reduction is conditioned on metric `acc` which is not available. Available metrics are: loss,accuracy,precision,recall,auc,val_loss,val_accuracy,val_precision,val_recall,val_auc,lr\n"
          ]
        },
        {
          "output_type": "stream",
          "name": "stdout",
          "text": [
            "\b\b\b\b\b\b\b\b\b\b\b\b\b\b\b\b\b\b\b\b\b\b\b\b\b\b\b\b\b\b\b\b\b\b\b\b\b\b\b\b\b\b\b\b\b\b\b\b\b\b\b\b\b\b\b\b\b\b\b\b\b\b\b\b\b\b\b\b\b\b\b\b\b\b\b\b\b\b\b\b\b\b\b\b\b\b\b\b\b\b\b\b\b\b\b\b\b\b\b\b\b\b\b\b\b\b\b\b\b\b\b\b\b\b\b\b\b\b\b\b\b\b\b\b\b\b\b\b\b\b\b\b\b\r12/12 [==============================] - 13s 1s/step - loss: 1.1757 - accuracy: 0.8890 - precision: 0.7350 - recall: 0.3482 - auc: 0.8830 - val_loss: 1.5406 - val_accuracy: 0.8616 - val_precision: 0.5357 - val_recall: 0.2344 - val_auc: 0.7978 - lr: 1.0000e-05\n",
            "Epoch 15/30\n",
            "12/12 [==============================] - ETA: 0s - loss: 1.1756 - accuracy: 0.8878 - precision: 0.7023 - recall: 0.3725 - auc: 0.8827"
          ]
        },
        {
          "output_type": "stream",
          "name": "stderr",
          "text": [
            "WARNING:tensorflow:Can save best model only with acc available, skipping.\n",
            "WARNING:tensorflow:Learning rate reduction is conditioned on metric `acc` which is not available. Available metrics are: loss,accuracy,precision,recall,auc,val_loss,val_accuracy,val_precision,val_recall,val_auc,lr\n"
          ]
        },
        {
          "output_type": "stream",
          "name": "stdout",
          "text": [
            "\b\b\b\b\b\b\b\b\b\b\b\b\b\b\b\b\b\b\b\b\b\b\b\b\b\b\b\b\b\b\b\b\b\b\b\b\b\b\b\b\b\b\b\b\b\b\b\b\b\b\b\b\b\b\b\b\b\b\b\b\b\b\b\b\b\b\b\b\b\b\b\b\b\b\b\b\b\b\b\b\b\b\b\b\b\b\b\b\b\b\b\b\b\b\b\b\b\b\b\b\b\b\b\b\b\b\b\b\b\b\b\b\b\b\b\b\b\b\b\b\b\b\b\b\b\b\b\b\b\b\b\b\b\r12/12 [==============================] - 13s 1s/step - loss: 1.1756 - accuracy: 0.8878 - precision: 0.7023 - recall: 0.3725 - auc: 0.8827 - val_loss: 1.5526 - val_accuracy: 0.8587 - val_precision: 0.5115 - val_recall: 0.2478 - val_auc: 0.7998 - lr: 1.0000e-05\n",
            "Epoch 16/30\n",
            "12/12 [==============================] - ETA: 0s - loss: 1.1010 - accuracy: 0.8932 - precision: 0.7210 - recall: 0.4116 - auc: 0.8981"
          ]
        },
        {
          "output_type": "stream",
          "name": "stderr",
          "text": [
            "WARNING:tensorflow:Can save best model only with acc available, skipping.\n",
            "WARNING:tensorflow:Learning rate reduction is conditioned on metric `acc` which is not available. Available metrics are: loss,accuracy,precision,recall,auc,val_loss,val_accuracy,val_precision,val_recall,val_auc,lr\n"
          ]
        },
        {
          "output_type": "stream",
          "name": "stdout",
          "text": [
            "\b\b\b\b\b\b\b\b\b\b\b\b\b\b\b\b\b\b\b\b\b\b\b\b\b\b\b\b\b\b\b\b\b\b\b\b\b\b\b\b\b\b\b\b\b\b\b\b\b\b\b\b\b\b\b\b\b\b\b\b\b\b\b\b\b\b\b\b\b\b\b\b\b\b\b\b\b\b\b\b\b\b\b\b\b\b\b\b\b\b\b\b\b\b\b\b\b\b\b\b\b\b\b\b\b\b\b\b\b\b\b\b\b\b\b\b\b\b\b\b\b\b\b\b\b\b\b\b\b\b\b\b\b\r12/12 [==============================] - 13s 1s/step - loss: 1.1010 - accuracy: 0.8932 - precision: 0.7210 - recall: 0.4116 - auc: 0.8981 - val_loss: 1.4571 - val_accuracy: 0.8677 - val_precision: 0.5714 - val_recall: 0.2946 - val_auc: 0.8224 - lr: 1.0000e-05\n",
            "Epoch 17/30\n",
            "12/12 [==============================] - ETA: 0s - loss: 1.1154 - accuracy: 0.8920 - precision: 0.7202 - recall: 0.3995 - auc: 0.8945"
          ]
        },
        {
          "output_type": "stream",
          "name": "stderr",
          "text": [
            "WARNING:tensorflow:Can save best model only with acc available, skipping.\n",
            "WARNING:tensorflow:Learning rate reduction is conditioned on metric `acc` which is not available. Available metrics are: loss,accuracy,precision,recall,auc,val_loss,val_accuracy,val_precision,val_recall,val_auc,lr\n"
          ]
        },
        {
          "output_type": "stream",
          "name": "stdout",
          "text": [
            "\b\b\b\b\b\b\b\b\b\b\b\b\b\b\b\b\b\b\b\b\b\b\b\b\b\b\b\b\b\b\b\b\b\b\b\b\b\b\b\b\b\b\b\b\b\b\b\b\b\b\b\b\b\b\b\b\b\b\b\b\b\b\b\b\b\b\b\b\b\b\b\b\b\b\b\b\b\b\b\b\b\b\b\b\b\b\b\b\b\b\b\b\b\b\b\b\b\b\b\b\b\b\b\b\b\b\b\b\b\b\b\b\b\b\b\b\b\b\b\b\b\b\b\b\b\b\b\b\b\b\b\b\b\r12/12 [==============================] - 13s 1s/step - loss: 1.1154 - accuracy: 0.8920 - precision: 0.7202 - recall: 0.3995 - auc: 0.8945 - val_loss: 1.5255 - val_accuracy: 0.8597 - val_precision: 0.5174 - val_recall: 0.2656 - val_auc: 0.8088 - lr: 1.0000e-05\n",
            "Epoch 18/30\n",
            "12/12 [==============================] - ETA: 0s - loss: 1.1172 - accuracy: 0.8978 - precision: 0.7414 - recall: 0.4372 - auc: 0.8950"
          ]
        },
        {
          "output_type": "stream",
          "name": "stderr",
          "text": [
            "WARNING:tensorflow:Can save best model only with acc available, skipping.\n",
            "WARNING:tensorflow:Learning rate reduction is conditioned on metric `acc` which is not available. Available metrics are: loss,accuracy,precision,recall,auc,val_loss,val_accuracy,val_precision,val_recall,val_auc,lr\n"
          ]
        },
        {
          "output_type": "stream",
          "name": "stdout",
          "text": [
            "\b\b\b\b\b\b\b\b\b\b\b\b\b\b\b\b\b\b\b\b\b\b\b\b\b\b\b\b\b\b\b\b\b\b\b\b\b\b\b\b\b\b\b\b\b\b\b\b\b\b\b\b\b\b\b\b\b\b\b\b\b\b\b\b\b\b\b\b\b\b\b\b\b\b\b\b\b\b\b\b\b\b\b\b\b\b\b\b\b\b\b\b\b\b\b\b\b\b\b\b\b\b\b\b\b\b\b\b\b\b\b\b\b\b\b\b\b\b\b\b\b\b\b\b\b\b\b\b\b\b\b\b\b\r12/12 [==============================] - 13s 1s/step - loss: 1.1172 - accuracy: 0.8978 - precision: 0.7414 - recall: 0.4372 - auc: 0.8950 - val_loss: 1.5394 - val_accuracy: 0.8584 - val_precision: 0.5081 - val_recall: 0.2812 - val_auc: 0.8097 - lr: 1.0000e-05\n",
            "Epoch 19/30\n",
            "12/12 [==============================] - ETA: 0s - loss: 1.0553 - accuracy: 0.8997 - precision: 0.7411 - recall: 0.4583 - auc: 0.9064"
          ]
        },
        {
          "output_type": "stream",
          "name": "stderr",
          "text": [
            "WARNING:tensorflow:Can save best model only with acc available, skipping.\n",
            "WARNING:tensorflow:Learning rate reduction is conditioned on metric `acc` which is not available. Available metrics are: loss,accuracy,precision,recall,auc,val_loss,val_accuracy,val_precision,val_recall,val_auc,lr\n"
          ]
        },
        {
          "output_type": "stream",
          "name": "stdout",
          "text": [
            "\b\b\b\b\b\b\b\b\b\b\b\b\b\b\b\b\b\b\b\b\b\b\b\b\b\b\b\b\b\b\b\b\b\b\b\b\b\b\b\b\b\b\b\b\b\b\b\b\b\b\b\b\b\b\b\b\b\b\b\b\b\b\b\b\b\b\b\b\b\b\b\b\b\b\b\b\b\b\b\b\b\b\b\b\b\b\b\b\b\b\b\b\b\b\b\b\b\b\b\b\b\b\b\b\b\b\b\b\b\b\b\b\b\b\b\b\b\b\b\b\b\b\b\b\b\b\b\b\b\b\b\b\b\r12/12 [==============================] - 13s 1s/step - loss: 1.0553 - accuracy: 0.8997 - precision: 0.7411 - recall: 0.4583 - auc: 0.9064 - val_loss: 1.5716 - val_accuracy: 0.8530 - val_precision: 0.4745 - val_recall: 0.2701 - val_auc: 0.8019 - lr: 1.0000e-05\n",
            "Epoch 20/30\n",
            "12/12 [==============================] - ETA: 0s - loss: 1.0753 - accuracy: 0.8990 - precision: 0.7374 - recall: 0.4548 - auc: 0.9026"
          ]
        },
        {
          "output_type": "stream",
          "name": "stderr",
          "text": [
            "WARNING:tensorflow:Can save best model only with acc available, skipping.\n",
            "WARNING:tensorflow:Learning rate reduction is conditioned on metric `acc` which is not available. Available metrics are: loss,accuracy,precision,recall,auc,val_loss,val_accuracy,val_precision,val_recall,val_auc,lr\n"
          ]
        },
        {
          "output_type": "stream",
          "name": "stdout",
          "text": [
            "\b\b\b\b\b\b\b\b\b\b\b\b\b\b\b\b\b\b\b\b\b\b\b\b\b\b\b\b\b\b\b\b\b\b\b\b\b\b\b\b\b\b\b\b\b\b\b\b\b\b\b\b\b\b\b\b\b\b\b\b\b\b\b\b\b\b\b\b\b\b\b\b\b\b\b\b\b\b\b\b\b\b\b\b\b\b\b\b\b\b\b\b\b\b\b\b\b\b\b\b\b\b\b\b\b\b\b\b\b\b\b\b\b\b\b\b\b\b\b\b\b\b\b\b\b\b\b\b\b\b\b\b\b\r12/12 [==============================] - 13s 1s/step - loss: 1.0753 - accuracy: 0.8990 - precision: 0.7374 - recall: 0.4548 - auc: 0.9026 - val_loss: 1.4725 - val_accuracy: 0.8635 - val_precision: 0.5410 - val_recall: 0.2946 - val_auc: 0.8215 - lr: 1.0000e-05\n",
            "Epoch 21/30\n",
            "12/12 [==============================] - ETA: 0s - loss: 1.0435 - accuracy: 0.9009 - precision: 0.7474 - recall: 0.4622 - auc: 0.9088"
          ]
        },
        {
          "output_type": "stream",
          "name": "stderr",
          "text": [
            "WARNING:tensorflow:Can save best model only with acc available, skipping.\n",
            "WARNING:tensorflow:Learning rate reduction is conditioned on metric `acc` which is not available. Available metrics are: loss,accuracy,precision,recall,auc,val_loss,val_accuracy,val_precision,val_recall,val_auc,lr\n"
          ]
        },
        {
          "output_type": "stream",
          "name": "stdout",
          "text": [
            "\b\b\b\b\b\b\b\b\b\b\b\b\b\b\b\b\b\b\b\b\b\b\b\b\b\b\b\b\b\b\b\b\b\b\b\b\b\b\b\b\b\b\b\b\b\b\b\b\b\b\b\b\b\b\b\b\b\b\b\b\b\b\b\b\b\b\b\b\b\b\b\b\b\b\b\b\b\b\b\b\b\b\b\b\b\b\b\b\b\b\b\b\b\b\b\b\b\b\b\b\b\b\b\b\b\b\b\b\b\b\b\b\b\b\b\b\b\b\b\b\b\b\b\b\b\b\b\b\b\b\b\b\b\r12/12 [==============================] - 13s 1s/step - loss: 1.0435 - accuracy: 0.9009 - precision: 0.7474 - recall: 0.4622 - auc: 0.9088 - val_loss: 1.3882 - val_accuracy: 0.8728 - val_precision: 0.5953 - val_recall: 0.3415 - val_auc: 0.8413 - lr: 1.0000e-05\n",
            "Epoch 22/30\n",
            "12/12 [==============================] - ETA: 0s - loss: 1.0061 - accuracy: 0.9023 - precision: 0.7522 - recall: 0.4710 - auc: 0.9156"
          ]
        },
        {
          "output_type": "stream",
          "name": "stderr",
          "text": [
            "WARNING:tensorflow:Can save best model only with acc available, skipping.\n",
            "WARNING:tensorflow:Learning rate reduction is conditioned on metric `acc` which is not available. Available metrics are: loss,accuracy,precision,recall,auc,val_loss,val_accuracy,val_precision,val_recall,val_auc,lr\n"
          ]
        },
        {
          "output_type": "stream",
          "name": "stdout",
          "text": [
            "\b\b\b\b\b\b\b\b\b\b\b\b\b\b\b\b\b\b\b\b\b\b\b\b\b\b\b\b\b\b\b\b\b\b\b\b\b\b\b\b\b\b\b\b\b\b\b\b\b\b\b\b\b\b\b\b\b\b\b\b\b\b\b\b\b\b\b\b\b\b\b\b\b\b\b\b\b\b\b\b\b\b\b\b\b\b\b\b\b\b\b\b\b\b\b\b\b\b\b\b\b\b\b\b\b\b\b\b\b\b\b\b\b\b\b\b\b\b\b\b\b\b\b\b\b\b\b\b\b\b\b\b\b\r12/12 [==============================] - 13s 1s/step - loss: 1.0061 - accuracy: 0.9023 - precision: 0.7522 - recall: 0.4710 - auc: 0.9156 - val_loss: 1.3941 - val_accuracy: 0.8734 - val_precision: 0.5927 - val_recall: 0.3638 - val_auc: 0.8409 - lr: 1.0000e-05\n",
            "Epoch 23/30\n",
            "12/12 [==============================] - ETA: 0s - loss: 1.0127 - accuracy: 0.9011 - precision: 0.7327 - recall: 0.4845 - auc: 0.9138"
          ]
        },
        {
          "output_type": "stream",
          "name": "stderr",
          "text": [
            "WARNING:tensorflow:Can save best model only with acc available, skipping.\n",
            "WARNING:tensorflow:Learning rate reduction is conditioned on metric `acc` which is not available. Available metrics are: loss,accuracy,precision,recall,auc,val_loss,val_accuracy,val_precision,val_recall,val_auc,lr\n"
          ]
        },
        {
          "output_type": "stream",
          "name": "stdout",
          "text": [
            "\b\b\b\b\b\b\b\b\b\b\b\b\b\b\b\b\b\b\b\b\b\b\b\b\b\b\b\b\b\b\b\b\b\b\b\b\b\b\b\b\b\b\b\b\b\b\b\b\b\b\b\b\b\b\b\b\b\b\b\b\b\b\b\b\b\b\b\b\b\b\b\b\b\b\b\b\b\b\b\b\b\b\b\b\b\b\b\b\b\b\b\b\b\b\b\b\b\b\b\b\b\b\b\b\b\b\b\b\b\b\b\b\b\b\b\b\b\b\b\b\b\b\b\b\b\b\b\b\b\b\b\b\b\r12/12 [==============================] - 13s 1s/step - loss: 1.0127 - accuracy: 0.9011 - precision: 0.7327 - recall: 0.4845 - auc: 0.9138 - val_loss: 1.4735 - val_accuracy: 0.8638 - val_precision: 0.5393 - val_recall: 0.3214 - val_auc: 0.8282 - lr: 1.0000e-05\n",
            "Epoch 24/30\n",
            "12/12 [==============================] - ETA: 0s - loss: 1.0137 - accuracy: 0.9010 - precision: 0.7428 - recall: 0.4701 - auc: 0.9138"
          ]
        },
        {
          "output_type": "stream",
          "name": "stderr",
          "text": [
            "WARNING:tensorflow:Can save best model only with acc available, skipping.\n",
            "WARNING:tensorflow:Learning rate reduction is conditioned on metric `acc` which is not available. Available metrics are: loss,accuracy,precision,recall,auc,val_loss,val_accuracy,val_precision,val_recall,val_auc,lr\n"
          ]
        },
        {
          "output_type": "stream",
          "name": "stdout",
          "text": [
            "\b\b\b\b\b\b\b\b\b\b\b\b\b\b\b\b\b\b\b\b\b\b\b\b\b\b\b\b\b\b\b\b\b\b\b\b\b\b\b\b\b\b\b\b\b\b\b\b\b\b\b\b\b\b\b\b\b\b\b\b\b\b\b\b\b\b\b\b\b\b\b\b\b\b\b\b\b\b\b\b\b\b\b\b\b\b\b\b\b\b\b\b\b\b\b\b\b\b\b\b\b\b\b\b\b\b\b\b\b\b\b\b\b\b\b\b\b\b\b\b\b\b\b\b\b\b\b\b\b\b\b\b\b\r12/12 [==============================] - 13s 1s/step - loss: 1.0137 - accuracy: 0.9010 - precision: 0.7428 - recall: 0.4701 - auc: 0.9138 - val_loss: 1.4479 - val_accuracy: 0.8664 - val_precision: 0.5527 - val_recall: 0.3393 - val_auc: 0.8336 - lr: 1.0000e-05\n",
            "Epoch 25/30\n",
            "12/12 [==============================] - ETA: 0s - loss: 0.9732 - accuracy: 0.9042 - precision: 0.7652 - recall: 0.4750 - auc: 0.9205"
          ]
        },
        {
          "output_type": "stream",
          "name": "stderr",
          "text": [
            "WARNING:tensorflow:Can save best model only with acc available, skipping.\n",
            "WARNING:tensorflow:Learning rate reduction is conditioned on metric `acc` which is not available. Available metrics are: loss,accuracy,precision,recall,auc,val_loss,val_accuracy,val_precision,val_recall,val_auc,lr\n"
          ]
        },
        {
          "output_type": "stream",
          "name": "stdout",
          "text": [
            "\b\b\b\b\b\b\b\b\b\b\b\b\b\b\b\b\b\b\b\b\b\b\b\b\b\b\b\b\b\b\b\b\b\b\b\b\b\b\b\b\b\b\b\b\b\b\b\b\b\b\b\b\b\b\b\b\b\b\b\b\b\b\b\b\b\b\b\b\b\b\b\b\b\b\b\b\b\b\b\b\b\b\b\b\b\b\b\b\b\b\b\b\b\b\b\b\b\b\b\b\b\b\b\b\b\b\b\b\b\b\b\b\b\b\b\b\b\b\b\b\b\b\b\b\b\b\b\b\b\b\b\b\b\r12/12 [==============================] - 13s 1s/step - loss: 0.9732 - accuracy: 0.9042 - precision: 0.7652 - recall: 0.4750 - auc: 0.9205 - val_loss: 1.4233 - val_accuracy: 0.8642 - val_precision: 0.5379 - val_recall: 0.3482 - val_auc: 0.8400 - lr: 1.0000e-05\n",
            "Epoch 26/30\n",
            "12/12 [==============================] - ETA: 0s - loss: 0.9594 - accuracy: 0.9104 - precision: 0.7685 - recall: 0.5331 - auc: 0.9225"
          ]
        },
        {
          "output_type": "stream",
          "name": "stderr",
          "text": [
            "WARNING:tensorflow:Can save best model only with acc available, skipping.\n",
            "WARNING:tensorflow:Learning rate reduction is conditioned on metric `acc` which is not available. Available metrics are: loss,accuracy,precision,recall,auc,val_loss,val_accuracy,val_precision,val_recall,val_auc,lr\n"
          ]
        },
        {
          "output_type": "stream",
          "name": "stdout",
          "text": [
            "\b\b\b\b\b\b\b\b\b\b\b\b\b\b\b\b\b\b\b\b\b\b\b\b\b\b\b\b\b\b\b\b\b\b\b\b\b\b\b\b\b\b\b\b\b\b\b\b\b\b\b\b\b\b\b\b\b\b\b\b\b\b\b\b\b\b\b\b\b\b\b\b\b\b\b\b\b\b\b\b\b\b\b\b\b\b\b\b\b\b\b\b\b\b\b\b\b\b\b\b\b\b\b\b\b\b\b\b\b\b\b\b\b\b\b\b\b\b\b\b\b\b\b\b\b\b\b\b\b\b\b\b\b\r12/12 [==============================] - 13s 1s/step - loss: 0.9594 - accuracy: 0.9104 - precision: 0.7685 - recall: 0.5331 - auc: 0.9225 - val_loss: 1.1722 - val_accuracy: 0.8954 - val_precision: 0.6935 - val_recall: 0.4799 - val_auc: 0.8858 - lr: 1.0000e-05\n",
            "Epoch 27/30\n",
            "12/12 [==============================] - ETA: 0s - loss: 0.9569 - accuracy: 0.9050 - precision: 0.7403 - recall: 0.5155 - auc: 0.9231"
          ]
        },
        {
          "output_type": "stream",
          "name": "stderr",
          "text": [
            "WARNING:tensorflow:Can save best model only with acc available, skipping.\n",
            "WARNING:tensorflow:Learning rate reduction is conditioned on metric `acc` which is not available. Available metrics are: loss,accuracy,precision,recall,auc,val_loss,val_accuracy,val_precision,val_recall,val_auc,lr\n"
          ]
        },
        {
          "output_type": "stream",
          "name": "stdout",
          "text": [
            "\b\b\b\b\b\b\b\b\b\b\b\b\b\b\b\b\b\b\b\b\b\b\b\b\b\b\b\b\b\b\b\b\b\b\b\b\b\b\b\b\b\b\b\b\b\b\b\b\b\b\b\b\b\b\b\b\b\b\b\b\b\b\b\b\b\b\b\b\b\b\b\b\b\b\b\b\b\b\b\b\b\b\b\b\b\b\b\b\b\b\b\b\b\b\b\b\b\b\b\b\b\b\b\b\b\b\b\b\b\b\b\b\b\b\b\b\b\b\b\b\b\b\b\b\b\b\b\b\b\b\b\b\b\r12/12 [==============================] - 13s 1s/step - loss: 0.9569 - accuracy: 0.9050 - precision: 0.7403 - recall: 0.5155 - auc: 0.9231 - val_loss: 1.4450 - val_accuracy: 0.8705 - val_precision: 0.5750 - val_recall: 0.3594 - val_auc: 0.8377 - lr: 1.0000e-05\n",
            "Epoch 28/30\n",
            "12/12 [==============================] - ETA: 0s - loss: 0.9575 - accuracy: 0.9046 - precision: 0.7440 - recall: 0.5061 - auc: 0.9236"
          ]
        },
        {
          "output_type": "stream",
          "name": "stderr",
          "text": [
            "WARNING:tensorflow:Can save best model only with acc available, skipping.\n",
            "WARNING:tensorflow:Learning rate reduction is conditioned on metric `acc` which is not available. Available metrics are: loss,accuracy,precision,recall,auc,val_loss,val_accuracy,val_precision,val_recall,val_auc,lr\n"
          ]
        },
        {
          "output_type": "stream",
          "name": "stdout",
          "text": [
            "\b\b\b\b\b\b\b\b\b\b\b\b\b\b\b\b\b\b\b\b\b\b\b\b\b\b\b\b\b\b\b\b\b\b\b\b\b\b\b\b\b\b\b\b\b\b\b\b\b\b\b\b\b\b\b\b\b\b\b\b\b\b\b\b\b\b\b\b\b\b\b\b\b\b\b\b\b\b\b\b\b\b\b\b\b\b\b\b\b\b\b\b\b\b\b\b\b\b\b\b\b\b\b\b\b\b\b\b\b\b\b\b\b\b\b\b\b\b\b\b\b\b\b\b\b\b\b\b\b\b\b\b\b\r12/12 [==============================] - 13s 1s/step - loss: 0.9575 - accuracy: 0.9046 - precision: 0.7440 - recall: 0.5061 - auc: 0.9236 - val_loss: 1.3683 - val_accuracy: 0.8756 - val_precision: 0.5960 - val_recall: 0.4018 - val_auc: 0.8534 - lr: 1.0000e-05\n",
            "Epoch 29/30\n",
            "12/12 [==============================] - ETA: 0s - loss: 0.9005 - accuracy: 0.9105 - precision: 0.7700 - recall: 0.5331 - auc: 0.9326"
          ]
        },
        {
          "output_type": "stream",
          "name": "stderr",
          "text": [
            "WARNING:tensorflow:Can save best model only with acc available, skipping.\n",
            "WARNING:tensorflow:Learning rate reduction is conditioned on metric `acc` which is not available. Available metrics are: loss,accuracy,precision,recall,auc,val_loss,val_accuracy,val_precision,val_recall,val_auc,lr\n"
          ]
        },
        {
          "output_type": "stream",
          "name": "stdout",
          "text": [
            "\b\b\b\b\b\b\b\b\b\b\b\b\b\b\b\b\b\b\b\b\b\b\b\b\b\b\b\b\b\b\b\b\b\b\b\b\b\b\b\b\b\b\b\b\b\b\b\b\b\b\b\b\b\b\b\b\b\b\b\b\b\b\b\b\b\b\b\b\b\b\b\b\b\b\b\b\b\b\b\b\b\b\b\b\b\b\b\b\b\b\b\b\b\b\b\b\b\b\b\b\b\b\b\b\b\b\b\b\b\b\b\b\b\b\b\b\b\b\b\b\b\b\b\b\b\b\b\b\b\b\b\b\b\r12/12 [==============================] - 13s 1s/step - loss: 0.9005 - accuracy: 0.9105 - precision: 0.7700 - recall: 0.5331 - auc: 0.9326 - val_loss: 1.3453 - val_accuracy: 0.8776 - val_precision: 0.6013 - val_recall: 0.4241 - val_auc: 0.8571 - lr: 1.0000e-05\n",
            "Epoch 30/30\n",
            "12/12 [==============================] - ETA: 0s - loss: 0.8464 - accuracy: 0.9127 - precision: 0.7824 - recall: 0.5385 - auc: 0.9408"
          ]
        },
        {
          "output_type": "stream",
          "name": "stderr",
          "text": [
            "WARNING:tensorflow:Can save best model only with acc available, skipping.\n",
            "WARNING:tensorflow:Learning rate reduction is conditioned on metric `acc` which is not available. Available metrics are: loss,accuracy,precision,recall,auc,val_loss,val_accuracy,val_precision,val_recall,val_auc,lr\n"
          ]
        },
        {
          "output_type": "stream",
          "name": "stdout",
          "text": [
            "\b\b\b\b\b\b\b\b\b\b\b\b\b\b\b\b\b\b\b\b\b\b\b\b\b\b\b\b\b\b\b\b\b\b\b\b\b\b\b\b\b\b\b\b\b\b\b\b\b\b\b\b\b\b\b\b\b\b\b\b\b\b\b\b\b\b\b\b\b\b\b\b\b\b\b\b\b\b\b\b\b\b\b\b\b\b\b\b\b\b\b\b\b\b\b\b\b\b\b\b\b\b\b\b\b\b\b\b\b\b\b\b\b\b\b\b\b\b\b\b\b\b\b\b\b\b\b\b\b\b\b\b\b\r12/12 [==============================] - 13s 1s/step - loss: 0.8464 - accuracy: 0.9127 - precision: 0.7824 - recall: 0.5385 - auc: 0.9408 - val_loss: 1.4412 - val_accuracy: 0.8721 - val_precision: 0.5751 - val_recall: 0.4018 - val_auc: 0.8424 - lr: 1.0000e-05\n"
          ]
        }
      ]
    },
    {
      "cell_type": "code",
      "source": [
        "fig, axes = plt.subplots(1, 2, squeeze = False, figsize = (16,8))\n",
        "\n",
        "# Loss\n",
        "train_loss_values = history_dict[\"loss\"]\n",
        "val_loss_values = history_dict[\"val_loss\"]\n",
        "\n",
        "# Epochs\n",
        "epochs = range(1, len(train_loss_values) + 1)\n",
        "\n",
        "# Accuracy\n",
        "train_acc_values = history_dict[\"accuracy\"]\n",
        "val_acc_values = history_dict[\"val_accuracy\"]\n",
        "\n",
        "ax = axes.flat[0]\n",
        "ax.plot(epochs, train_loss_values, \"r\", label=\"Training loss\")\n",
        "ax.plot(epochs, val_loss_values, \"b\", label=\"Validation loss\")\n",
        "ax.set_title(\"Training and validation Loss\")\n",
        "ax.set_xlabel(\"Epochs\")\n",
        "ax.set_ylabel(\"Loss\")\n",
        "ax.legend()\n",
        "\n",
        "ax = axes.flat[1]\n",
        "ax.plot(epochs, train_acc_values, \"r\", label=\"Training acc\")\n",
        "ax.plot(epochs, val_acc_values, \"b\", label=\"Validation acc\")\n",
        "ax.set_title(\"Training and validation Accuracy\")\n",
        "ax.set_xlabel(\"Epochs\")\n",
        "ax.set_ylabel(\"Accuracy\")\n",
        "ax.legend()"
      ],
      "metadata": {
        "colab": {
          "base_uri": "https://localhost:8080/",
          "height": 530
        },
        "id": "8mMbmZp9vvBG",
        "outputId": "6ff51504-55f2-44ed-890c-0291a6ced5dc"
      },
      "execution_count": null,
      "outputs": [
        {
          "output_type": "execute_result",
          "data": {
            "text/plain": [
              "<matplotlib.legend.Legend at 0x7f5cb777c1d0>"
            ]
          },
          "metadata": {},
          "execution_count": 99
        },
        {
          "output_type": "display_data",
          "data": {
            "text/plain": [
              "<Figure size 1152x576 with 2 Axes>"
            ],
            "image/png": "[encoded data removed]"
          },
          "metadata": {
            "needs_background": "light"
          }
        }
      ]
    },
    {
      "cell_type": "code",
      "source": [
        "test_samples = test_generator.samples\n",
        "\n",
        "test_loss, test_acc = model.evaluate( test_generator )\n",
        "\n",
        "print(\"Test Accuracy:\", 100*test_acc, \"%\")\n",
        "print(\"Acertos: {} - Erros: {}\".format(round(test_samples * test_acc), \n",
        "                                       round(test_samples * (1-test_acc) )))"
      ],
      "metadata": {
        "colab": {
          "base_uri": "https://localhost:8080/",
          "height": 252
        },
        "id": "upbVlFY1xirm",
        "outputId": "05bdad43-1002-4cc7-8f4a-eb029d206bdc"
      },
      "execution_count": null,
      "outputs": [
        {
          "output_type": "stream",
          "name": "stdout",
          "text": [
            "8/8 [==============================] - 2s 213ms/step - loss: 1.4063 - accuracy: 0.8620 - precision: 0.5235 - recall: 0.3772 - auc: 0.8453\n"
          ]
        },
        {
          "output_type": "error",
          "ename": "ValueError",
          "evalue": "ignored",
          "traceback": [
            "\u001b[0;31m---------------------------------------------------------------------------\u001b[0m",
            "\u001b[0;31mValueError\u001b[0m                                Traceback (most recent call last)",
            "\u001b[0;32m<ipython-input-96-c25095d01dee>\u001b[0m in \u001b[0;36m<module>\u001b[0;34m\u001b[0m\n\u001b[1;32m      1\u001b[0m \u001b[0mtest_samples\u001b[0m \u001b[0;34m=\u001b[0m \u001b[0mtest_generator\u001b[0m\u001b[0;34m.\u001b[0m\u001b[0msamples\u001b[0m\u001b[0;34m\u001b[0m\u001b[0;34m\u001b[0m\u001b[0m\n\u001b[1;32m      2\u001b[0m \u001b[0;34m\u001b[0m\u001b[0m\n\u001b[0;32m----> 3\u001b[0;31m \u001b[0mtest_loss\u001b[0m\u001b[0;34m,\u001b[0m \u001b[0mtest_acc\u001b[0m \u001b[0;34m=\u001b[0m \u001b[0mmodel\u001b[0m\u001b[0;34m.\u001b[0m\u001b[0mevaluate\u001b[0m\u001b[0;34m(\u001b[0m \u001b[0mtest_generator\u001b[0m \u001b[0;34m)\u001b[0m\u001b[0;34m\u001b[0m\u001b[0;34m\u001b[0m\u001b[0m\n\u001b[0m\u001b[1;32m      4\u001b[0m \u001b[0;34m\u001b[0m\u001b[0m\n\u001b[1;32m      5\u001b[0m \u001b[0mprint\u001b[0m\u001b[0;34m(\u001b[0m\u001b[0;34m\"Test Accuracy:\"\u001b[0m\u001b[0;34m,\u001b[0m \u001b[0;36m100\u001b[0m\u001b[0;34m*\u001b[0m\u001b[0mtest_acc\u001b[0m\u001b[0;34m,\u001b[0m \u001b[0;34m\"%\"\u001b[0m\u001b[0;34m)\u001b[0m\u001b[0;34m\u001b[0m\u001b[0;34m\u001b[0m\u001b[0m\n",
            "\u001b[0;31mValueError\u001b[0m: too many values to unpack (expected 2)"
          ]
        }
      ]
    },
    {
      "cell_type": "code",
      "source": [
        "\n",
        "# Atributo do generator que fornece o número de amostras detectadas\n",
        "test_samples = test_generator.samples\n",
        "\n",
        "test_loss, accuracy,_,_,_ = model.evaluate( test_generator )\n",
        "\n",
        "print(\"Test Accuracy:\", 100*accuracy, \"%\")\n",
        "print(\"Acertos: {} - Erros: {}\".format(round(test_samples * accuracy), \n",
        "                                       round(test_samples * (1-accuracy) )))"
      ],
      "metadata": {
        "id": "523kn2-tzMBj",
        "colab": {
          "base_uri": "https://localhost:8080/"
        },
        "outputId": "81bdcfe7-3e53-421f-b304-280226fcac7f"
      },
      "execution_count": null,
      "outputs": [
        {
          "output_type": "stream",
          "name": "stdout",
          "text": [
            "8/8 [==============================] - 2s 212ms/step - loss: 1.4063 - accuracy: 0.8620 - precision: 0.5235 - recall: 0.3772 - auc: 0.8453\n",
            "Test Accuracy: 86.19903326034546 %\n",
            "Acertos: 432 - Erros: 69\n"
          ]
        }
      ]
    },
    {
      "cell_type": "code",
      "source": [
        "plt.plot(history.history['accuracy'])\n",
        "plt.plot(history.history['val_accuracy'])\n",
        "plt.title('Precisão de Modelo')\n",
        "plt.ylabel('Precisão')\n",
        "plt.xlabel('Tempo')\n",
        "plt.legend(['Acuracia', 'validação'], loc = 0)\n",
        "plt.show()"
      ],
      "metadata": {
        "colab": {
          "base_uri": "https://localhost:8080/",
          "height": 295
        },
        "id": "P9GjmOjPpDWr",
        "outputId": "2a773c43-6d87-4838-f727-18d077ca65a3"
      },
      "execution_count": null,
      "outputs": [
        {
          "output_type": "display_data",
          "data": {
            "text/plain": [
              "<Figure size 432x288 with 1 Axes>"
            ],
            "image/png": "[encoded data removed]"
          },
          "metadata": {
            "needs_background": "light"
          }
        }
      ]
    },
    {
      "cell_type": "code",
      "source": [],
      "metadata": {
        "id": "kjm88hDspGui"
      },
      "execution_count": null,
      "outputs": []
    }
  ]
}